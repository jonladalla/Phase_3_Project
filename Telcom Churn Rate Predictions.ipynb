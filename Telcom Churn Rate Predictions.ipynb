{
 "cells": [
  {
   "cell_type": "markdown",
   "id": "bcee8db8",
   "metadata": {},
   "source": [
    "# Telecom Churn Rate Predictions"
   ]
  },
  {
   "cell_type": "markdown",
   "id": "d9182c0c",
   "metadata": {},
   "source": [
    "## The Problem\n",
    "\n",
    "Our goal is to predict if an individual customer will drop Telecom or not. We'll use machine learning models trained from 80% of the sample data and the remaining 20% will be applied to assess the trained models accuracy in predicting whether or not the customers will churn. "
   ]
  },
  {
   "cell_type": "markdown",
   "id": "dac963cc",
   "metadata": {},
   "source": [
    "## Collecting Data\n",
    "\n",
    "This data set came from Kaggle sourced from the IBM sample data collection (https://www.kaggle.com/becksddf/churn-in-telecoms-dataset). We'll need to use certain libraries to accomplish our goal moving forward. I'll import Pandas, Numpy, Matplotlib and Seaborn initially. "
   ]
  },
  {
   "cell_type": "markdown",
   "id": "649242e1",
   "metadata": {},
   "source": [
    "#### Importing Libraries"
   ]
  },
  {
   "cell_type": "code",
   "execution_count": 1,
   "id": "0755dd17",
   "metadata": {},
   "outputs": [
    {
     "data": {
      "text/html": [
       "        <script type=\"text/javascript\">\n",
       "        window.PlotlyConfig = {MathJaxConfig: 'local'};\n",
       "        if (window.MathJax) {MathJax.Hub.Config({SVG: {font: \"STIX-Web\"}});}\n",
       "        if (typeof require !== 'undefined') {\n",
       "        require.undef(\"plotly\");\n",
       "        requirejs.config({\n",
       "            paths: {\n",
       "                'plotly': ['https://cdn.plot.ly/plotly-2.9.0.min']\n",
       "            }\n",
       "        });\n",
       "        require(['plotly'], function(Plotly) {\n",
       "            window._Plotly = Plotly;\n",
       "        });\n",
       "        }\n",
       "        </script>\n",
       "        "
      ]
     },
     "metadata": {},
     "output_type": "display_data"
    }
   ],
   "source": [
    "# scientific computing libaries\n",
    "import pandas as pd\n",
    "import numpy as np\n",
    "\n",
    "# data mining libaries\n",
    "from sklearn.tree import DecisionTreeClassifier\n",
    "from sklearn.ensemble import RandomForestClassifier\n",
    "from sklearn.preprocessing import LabelEncoder\n",
    "from sklearn.decomposition import PCA#, FastICA\n",
    "from sklearn.model_selection import train_test_split, KFold, StratifiedKFold, GridSearchCV, learning_curve\n",
    "from sklearn import svm\n",
    "from sklearn.linear_model import LogisticRegression\n",
    "from sklearn.neighbors import KNeighborsClassifier\n",
    "from sklearn.metrics import roc_curve, auc, confusion_matrix, accuracy_score, f1_score, precision_score, recall_score, roc_auc_score\n",
    "\n",
    "from imblearn.pipeline import make_pipeline, Pipeline\n",
    "from imblearn.over_sampling import SMOTE\n",
    "\n",
    "#plot libaries\n",
    "import plotly\n",
    "import plotly.graph_objs as go\n",
    "import plotly.figure_factory as ff\n",
    "from plotly.offline import init_notebook_mode\n",
    "init_notebook_mode(connected=True) # to show plots in notebook\n",
    "from matplotlib import pyplot as plt\n",
    "%matplotlib inline\n",
    "import seaborn as sns\n",
    "\n",
    "# offline plotly\n",
    "from plotly.offline import plot, iplot\n",
    "\n",
    "# do not show any warnings\n",
    "import warnings\n",
    "warnings.filterwarnings('ignore')\n",
    "\n",
    "SEED = 17 # specify seed for reproducable results\n",
    "pd.set_option('display.max_columns', None) # prevents abbreviation (with '...') of columns in prints\n",
    "\n",
    "import os\n",
    "for dirname, _, filenames in os.walk('/kaggle/input'):\n",
    "    for filename in filenames:\n",
    "        print(os.path.join(dirname, filename))"
   ]
  },
  {
   "cell_type": "markdown",
   "id": "59949e04",
   "metadata": {},
   "source": [
    "#### Loading the data frame"
   ]
  },
  {
   "cell_type": "code",
   "execution_count": 2,
   "id": "5576f54a",
   "metadata": {},
   "outputs": [],
   "source": [
    "df = pd.read_csv('Telcom.csv')"
   ]
  },
  {
   "cell_type": "markdown",
   "id": "ed069d43",
   "metadata": {},
   "source": [
    "# 2. Data Exploration\n"
   ]
  },
  {
   "cell_type": "code",
   "execution_count": 3,
   "id": "3399a135",
   "metadata": {},
   "outputs": [
    {
     "data": {
      "text/html": [
       "<div>\n",
       "<style scoped>\n",
       "    .dataframe tbody tr th:only-of-type {\n",
       "        vertical-align: middle;\n",
       "    }\n",
       "\n",
       "    .dataframe tbody tr th {\n",
       "        vertical-align: top;\n",
       "    }\n",
       "\n",
       "    .dataframe thead th {\n",
       "        text-align: right;\n",
       "    }\n",
       "</style>\n",
       "<table border=\"1\" class=\"dataframe\">\n",
       "  <thead>\n",
       "    <tr style=\"text-align: right;\">\n",
       "      <th></th>\n",
       "      <th>state</th>\n",
       "      <th>account length</th>\n",
       "      <th>area code</th>\n",
       "      <th>phone number</th>\n",
       "      <th>international plan</th>\n",
       "      <th>voice mail plan</th>\n",
       "      <th>number vmail messages</th>\n",
       "      <th>total day minutes</th>\n",
       "      <th>total day calls</th>\n",
       "      <th>total day charge</th>\n",
       "      <th>total eve minutes</th>\n",
       "      <th>total eve calls</th>\n",
       "      <th>total eve charge</th>\n",
       "      <th>total night minutes</th>\n",
       "      <th>total night calls</th>\n",
       "      <th>total night charge</th>\n",
       "      <th>total intl minutes</th>\n",
       "      <th>total intl calls</th>\n",
       "      <th>total intl charge</th>\n",
       "      <th>customer service calls</th>\n",
       "      <th>churn</th>\n",
       "    </tr>\n",
       "  </thead>\n",
       "  <tbody>\n",
       "    <tr>\n",
       "      <th>0</th>\n",
       "      <td>KS</td>\n",
       "      <td>128</td>\n",
       "      <td>415</td>\n",
       "      <td>382-4657</td>\n",
       "      <td>no</td>\n",
       "      <td>yes</td>\n",
       "      <td>25</td>\n",
       "      <td>265.1</td>\n",
       "      <td>110</td>\n",
       "      <td>45.07</td>\n",
       "      <td>197.4</td>\n",
       "      <td>99</td>\n",
       "      <td>16.78</td>\n",
       "      <td>244.7</td>\n",
       "      <td>91</td>\n",
       "      <td>11.01</td>\n",
       "      <td>10.0</td>\n",
       "      <td>3</td>\n",
       "      <td>2.70</td>\n",
       "      <td>1</td>\n",
       "      <td>False</td>\n",
       "    </tr>\n",
       "    <tr>\n",
       "      <th>1</th>\n",
       "      <td>OH</td>\n",
       "      <td>107</td>\n",
       "      <td>415</td>\n",
       "      <td>371-7191</td>\n",
       "      <td>no</td>\n",
       "      <td>yes</td>\n",
       "      <td>26</td>\n",
       "      <td>161.6</td>\n",
       "      <td>123</td>\n",
       "      <td>27.47</td>\n",
       "      <td>195.5</td>\n",
       "      <td>103</td>\n",
       "      <td>16.62</td>\n",
       "      <td>254.4</td>\n",
       "      <td>103</td>\n",
       "      <td>11.45</td>\n",
       "      <td>13.7</td>\n",
       "      <td>3</td>\n",
       "      <td>3.70</td>\n",
       "      <td>1</td>\n",
       "      <td>False</td>\n",
       "    </tr>\n",
       "    <tr>\n",
       "      <th>2</th>\n",
       "      <td>NJ</td>\n",
       "      <td>137</td>\n",
       "      <td>415</td>\n",
       "      <td>358-1921</td>\n",
       "      <td>no</td>\n",
       "      <td>no</td>\n",
       "      <td>0</td>\n",
       "      <td>243.4</td>\n",
       "      <td>114</td>\n",
       "      <td>41.38</td>\n",
       "      <td>121.2</td>\n",
       "      <td>110</td>\n",
       "      <td>10.30</td>\n",
       "      <td>162.6</td>\n",
       "      <td>104</td>\n",
       "      <td>7.32</td>\n",
       "      <td>12.2</td>\n",
       "      <td>5</td>\n",
       "      <td>3.29</td>\n",
       "      <td>0</td>\n",
       "      <td>False</td>\n",
       "    </tr>\n",
       "    <tr>\n",
       "      <th>3</th>\n",
       "      <td>OH</td>\n",
       "      <td>84</td>\n",
       "      <td>408</td>\n",
       "      <td>375-9999</td>\n",
       "      <td>yes</td>\n",
       "      <td>no</td>\n",
       "      <td>0</td>\n",
       "      <td>299.4</td>\n",
       "      <td>71</td>\n",
       "      <td>50.90</td>\n",
       "      <td>61.9</td>\n",
       "      <td>88</td>\n",
       "      <td>5.26</td>\n",
       "      <td>196.9</td>\n",
       "      <td>89</td>\n",
       "      <td>8.86</td>\n",
       "      <td>6.6</td>\n",
       "      <td>7</td>\n",
       "      <td>1.78</td>\n",
       "      <td>2</td>\n",
       "      <td>False</td>\n",
       "    </tr>\n",
       "    <tr>\n",
       "      <th>4</th>\n",
       "      <td>OK</td>\n",
       "      <td>75</td>\n",
       "      <td>415</td>\n",
       "      <td>330-6626</td>\n",
       "      <td>yes</td>\n",
       "      <td>no</td>\n",
       "      <td>0</td>\n",
       "      <td>166.7</td>\n",
       "      <td>113</td>\n",
       "      <td>28.34</td>\n",
       "      <td>148.3</td>\n",
       "      <td>122</td>\n",
       "      <td>12.61</td>\n",
       "      <td>186.9</td>\n",
       "      <td>121</td>\n",
       "      <td>8.41</td>\n",
       "      <td>10.1</td>\n",
       "      <td>3</td>\n",
       "      <td>2.73</td>\n",
       "      <td>3</td>\n",
       "      <td>False</td>\n",
       "    </tr>\n",
       "  </tbody>\n",
       "</table>\n",
       "</div>"
      ],
      "text/plain": [
       "  state  account length  area code phone number international plan  \\\n",
       "0    KS             128        415     382-4657                 no   \n",
       "1    OH             107        415     371-7191                 no   \n",
       "2    NJ             137        415     358-1921                 no   \n",
       "3    OH              84        408     375-9999                yes   \n",
       "4    OK              75        415     330-6626                yes   \n",
       "\n",
       "  voice mail plan  number vmail messages  total day minutes  total day calls  \\\n",
       "0             yes                     25              265.1              110   \n",
       "1             yes                     26              161.6              123   \n",
       "2              no                      0              243.4              114   \n",
       "3              no                      0              299.4               71   \n",
       "4              no                      0              166.7              113   \n",
       "\n",
       "   total day charge  total eve minutes  total eve calls  total eve charge  \\\n",
       "0             45.07              197.4               99             16.78   \n",
       "1             27.47              195.5              103             16.62   \n",
       "2             41.38              121.2              110             10.30   \n",
       "3             50.90               61.9               88              5.26   \n",
       "4             28.34              148.3              122             12.61   \n",
       "\n",
       "   total night minutes  total night calls  total night charge  \\\n",
       "0                244.7                 91               11.01   \n",
       "1                254.4                103               11.45   \n",
       "2                162.6                104                7.32   \n",
       "3                196.9                 89                8.86   \n",
       "4                186.9                121                8.41   \n",
       "\n",
       "   total intl minutes  total intl calls  total intl charge  \\\n",
       "0                10.0                 3               2.70   \n",
       "1                13.7                 3               3.70   \n",
       "2                12.2                 5               3.29   \n",
       "3                 6.6                 7               1.78   \n",
       "4                10.1                 3               2.73   \n",
       "\n",
       "   customer service calls  churn  \n",
       "0                       1  False  \n",
       "1                       1  False  \n",
       "2                       0  False  \n",
       "3                       2  False  \n",
       "4                       3  False  "
      ]
     },
     "execution_count": 3,
     "metadata": {},
     "output_type": "execute_result"
    }
   ],
   "source": [
    "df.head()"
   ]
  },
  {
   "cell_type": "code",
   "execution_count": 4,
   "id": "2aabbc33",
   "metadata": {},
   "outputs": [
    {
     "name": "stdout",
     "output_type": "stream",
     "text": [
      "<class 'pandas.core.frame.DataFrame'>\n",
      "RangeIndex: 3333 entries, 0 to 3332\n",
      "Data columns (total 21 columns):\n",
      " #   Column                  Non-Null Count  Dtype  \n",
      "---  ------                  --------------  -----  \n",
      " 0   state                   3333 non-null   object \n",
      " 1   account length          3333 non-null   int64  \n",
      " 2   area code               3333 non-null   int64  \n",
      " 3   phone number            3333 non-null   object \n",
      " 4   international plan      3333 non-null   object \n",
      " 5   voice mail plan         3333 non-null   object \n",
      " 6   number vmail messages   3333 non-null   int64  \n",
      " 7   total day minutes       3333 non-null   float64\n",
      " 8   total day calls         3333 non-null   int64  \n",
      " 9   total day charge        3333 non-null   float64\n",
      " 10  total eve minutes       3333 non-null   float64\n",
      " 11  total eve calls         3333 non-null   int64  \n",
      " 12  total eve charge        3333 non-null   float64\n",
      " 13  total night minutes     3333 non-null   float64\n",
      " 14  total night calls       3333 non-null   int64  \n",
      " 15  total night charge      3333 non-null   float64\n",
      " 16  total intl minutes      3333 non-null   float64\n",
      " 17  total intl calls        3333 non-null   int64  \n",
      " 18  total intl charge       3333 non-null   float64\n",
      " 19  customer service calls  3333 non-null   int64  \n",
      " 20  churn                   3333 non-null   bool   \n",
      "dtypes: bool(1), float64(8), int64(8), object(4)\n",
      "memory usage: 524.2+ KB\n"
     ]
    }
   ],
   "source": [
    "df.info()"
   ]
  },
  {
   "cell_type": "code",
   "execution_count": 5,
   "id": "ef9ebc85",
   "metadata": {},
   "outputs": [
    {
     "name": "stdout",
     "output_type": "stream",
     "text": [
      "['no' 'yes']\n",
      "['yes' 'no']\n",
      "['KS' 'OH' 'NJ' 'OK' 'AL' 'MA' 'MO' 'LA' 'WV' 'IN' 'RI' 'IA' 'MT' 'NY'\n",
      " 'ID' 'VT' 'VA' 'TX' 'FL' 'CO' 'AZ' 'SC' 'NE' 'WY' 'HI' 'IL' 'NH' 'GA'\n",
      " 'AK' 'MD' 'AR' 'WI' 'OR' 'MI' 'DE' 'UT' 'CA' 'MN' 'SD' 'NC' 'WA' 'NM'\n",
      " 'NV' 'DC' 'KY' 'ME' 'MS' 'TN' 'PA' 'CT' 'ND']\n"
     ]
    }
   ],
   "source": [
    "#checking the categories for object data types\n",
    "print(df['international plan'].unique())\n",
    "print(df['voice mail plan'].unique())\n",
    "print(df['state'].unique())"
   ]
  },
  {
   "cell_type": "code",
   "execution_count": 6,
   "id": "3aee97b8",
   "metadata": {},
   "outputs": [
    {
     "data": {
      "text/html": [
       "<div>\n",
       "<style scoped>\n",
       "    .dataframe tbody tr th:only-of-type {\n",
       "        vertical-align: middle;\n",
       "    }\n",
       "\n",
       "    .dataframe tbody tr th {\n",
       "        vertical-align: top;\n",
       "    }\n",
       "\n",
       "    .dataframe thead th {\n",
       "        text-align: right;\n",
       "    }\n",
       "</style>\n",
       "<table border=\"1\" class=\"dataframe\">\n",
       "  <thead>\n",
       "    <tr style=\"text-align: right;\">\n",
       "      <th></th>\n",
       "      <th>account length</th>\n",
       "      <th>area code</th>\n",
       "      <th>number vmail messages</th>\n",
       "      <th>total day minutes</th>\n",
       "      <th>total day calls</th>\n",
       "      <th>total day charge</th>\n",
       "      <th>total eve minutes</th>\n",
       "      <th>total eve calls</th>\n",
       "      <th>total eve charge</th>\n",
       "      <th>total night minutes</th>\n",
       "      <th>total night calls</th>\n",
       "      <th>total night charge</th>\n",
       "      <th>total intl minutes</th>\n",
       "      <th>total intl calls</th>\n",
       "      <th>total intl charge</th>\n",
       "      <th>customer service calls</th>\n",
       "    </tr>\n",
       "  </thead>\n",
       "  <tbody>\n",
       "    <tr>\n",
       "      <th>count</th>\n",
       "      <td>3333.000000</td>\n",
       "      <td>3333.000000</td>\n",
       "      <td>3333.000000</td>\n",
       "      <td>3333.000000</td>\n",
       "      <td>3333.000000</td>\n",
       "      <td>3333.000000</td>\n",
       "      <td>3333.000000</td>\n",
       "      <td>3333.000000</td>\n",
       "      <td>3333.000000</td>\n",
       "      <td>3333.000000</td>\n",
       "      <td>3333.000000</td>\n",
       "      <td>3333.000000</td>\n",
       "      <td>3333.000000</td>\n",
       "      <td>3333.000000</td>\n",
       "      <td>3333.000000</td>\n",
       "      <td>3333.000000</td>\n",
       "    </tr>\n",
       "    <tr>\n",
       "      <th>mean</th>\n",
       "      <td>101.064806</td>\n",
       "      <td>437.182418</td>\n",
       "      <td>8.099010</td>\n",
       "      <td>179.775098</td>\n",
       "      <td>100.435644</td>\n",
       "      <td>30.562307</td>\n",
       "      <td>200.980348</td>\n",
       "      <td>100.114311</td>\n",
       "      <td>17.083540</td>\n",
       "      <td>200.872037</td>\n",
       "      <td>100.107711</td>\n",
       "      <td>9.039325</td>\n",
       "      <td>10.237294</td>\n",
       "      <td>4.479448</td>\n",
       "      <td>2.764581</td>\n",
       "      <td>1.562856</td>\n",
       "    </tr>\n",
       "    <tr>\n",
       "      <th>std</th>\n",
       "      <td>39.822106</td>\n",
       "      <td>42.371290</td>\n",
       "      <td>13.688365</td>\n",
       "      <td>54.467389</td>\n",
       "      <td>20.069084</td>\n",
       "      <td>9.259435</td>\n",
       "      <td>50.713844</td>\n",
       "      <td>19.922625</td>\n",
       "      <td>4.310668</td>\n",
       "      <td>50.573847</td>\n",
       "      <td>19.568609</td>\n",
       "      <td>2.275873</td>\n",
       "      <td>2.791840</td>\n",
       "      <td>2.461214</td>\n",
       "      <td>0.753773</td>\n",
       "      <td>1.315491</td>\n",
       "    </tr>\n",
       "    <tr>\n",
       "      <th>min</th>\n",
       "      <td>1.000000</td>\n",
       "      <td>408.000000</td>\n",
       "      <td>0.000000</td>\n",
       "      <td>0.000000</td>\n",
       "      <td>0.000000</td>\n",
       "      <td>0.000000</td>\n",
       "      <td>0.000000</td>\n",
       "      <td>0.000000</td>\n",
       "      <td>0.000000</td>\n",
       "      <td>23.200000</td>\n",
       "      <td>33.000000</td>\n",
       "      <td>1.040000</td>\n",
       "      <td>0.000000</td>\n",
       "      <td>0.000000</td>\n",
       "      <td>0.000000</td>\n",
       "      <td>0.000000</td>\n",
       "    </tr>\n",
       "    <tr>\n",
       "      <th>25%</th>\n",
       "      <td>74.000000</td>\n",
       "      <td>408.000000</td>\n",
       "      <td>0.000000</td>\n",
       "      <td>143.700000</td>\n",
       "      <td>87.000000</td>\n",
       "      <td>24.430000</td>\n",
       "      <td>166.600000</td>\n",
       "      <td>87.000000</td>\n",
       "      <td>14.160000</td>\n",
       "      <td>167.000000</td>\n",
       "      <td>87.000000</td>\n",
       "      <td>7.520000</td>\n",
       "      <td>8.500000</td>\n",
       "      <td>3.000000</td>\n",
       "      <td>2.300000</td>\n",
       "      <td>1.000000</td>\n",
       "    </tr>\n",
       "    <tr>\n",
       "      <th>50%</th>\n",
       "      <td>101.000000</td>\n",
       "      <td>415.000000</td>\n",
       "      <td>0.000000</td>\n",
       "      <td>179.400000</td>\n",
       "      <td>101.000000</td>\n",
       "      <td>30.500000</td>\n",
       "      <td>201.400000</td>\n",
       "      <td>100.000000</td>\n",
       "      <td>17.120000</td>\n",
       "      <td>201.200000</td>\n",
       "      <td>100.000000</td>\n",
       "      <td>9.050000</td>\n",
       "      <td>10.300000</td>\n",
       "      <td>4.000000</td>\n",
       "      <td>2.780000</td>\n",
       "      <td>1.000000</td>\n",
       "    </tr>\n",
       "    <tr>\n",
       "      <th>75%</th>\n",
       "      <td>127.000000</td>\n",
       "      <td>510.000000</td>\n",
       "      <td>20.000000</td>\n",
       "      <td>216.400000</td>\n",
       "      <td>114.000000</td>\n",
       "      <td>36.790000</td>\n",
       "      <td>235.300000</td>\n",
       "      <td>114.000000</td>\n",
       "      <td>20.000000</td>\n",
       "      <td>235.300000</td>\n",
       "      <td>113.000000</td>\n",
       "      <td>10.590000</td>\n",
       "      <td>12.100000</td>\n",
       "      <td>6.000000</td>\n",
       "      <td>3.270000</td>\n",
       "      <td>2.000000</td>\n",
       "    </tr>\n",
       "    <tr>\n",
       "      <th>max</th>\n",
       "      <td>243.000000</td>\n",
       "      <td>510.000000</td>\n",
       "      <td>51.000000</td>\n",
       "      <td>350.800000</td>\n",
       "      <td>165.000000</td>\n",
       "      <td>59.640000</td>\n",
       "      <td>363.700000</td>\n",
       "      <td>170.000000</td>\n",
       "      <td>30.910000</td>\n",
       "      <td>395.000000</td>\n",
       "      <td>175.000000</td>\n",
       "      <td>17.770000</td>\n",
       "      <td>20.000000</td>\n",
       "      <td>20.000000</td>\n",
       "      <td>5.400000</td>\n",
       "      <td>9.000000</td>\n",
       "    </tr>\n",
       "  </tbody>\n",
       "</table>\n",
       "</div>"
      ],
      "text/plain": [
       "       account length    area code  number vmail messages  total day minutes  \\\n",
       "count     3333.000000  3333.000000            3333.000000        3333.000000   \n",
       "mean       101.064806   437.182418               8.099010         179.775098   \n",
       "std         39.822106    42.371290              13.688365          54.467389   \n",
       "min          1.000000   408.000000               0.000000           0.000000   \n",
       "25%         74.000000   408.000000               0.000000         143.700000   \n",
       "50%        101.000000   415.000000               0.000000         179.400000   \n",
       "75%        127.000000   510.000000              20.000000         216.400000   \n",
       "max        243.000000   510.000000              51.000000         350.800000   \n",
       "\n",
       "       total day calls  total day charge  total eve minutes  total eve calls  \\\n",
       "count      3333.000000       3333.000000        3333.000000      3333.000000   \n",
       "mean        100.435644         30.562307         200.980348       100.114311   \n",
       "std          20.069084          9.259435          50.713844        19.922625   \n",
       "min           0.000000          0.000000           0.000000         0.000000   \n",
       "25%          87.000000         24.430000         166.600000        87.000000   \n",
       "50%         101.000000         30.500000         201.400000       100.000000   \n",
       "75%         114.000000         36.790000         235.300000       114.000000   \n",
       "max         165.000000         59.640000         363.700000       170.000000   \n",
       "\n",
       "       total eve charge  total night minutes  total night calls  \\\n",
       "count       3333.000000          3333.000000        3333.000000   \n",
       "mean          17.083540           200.872037         100.107711   \n",
       "std            4.310668            50.573847          19.568609   \n",
       "min            0.000000            23.200000          33.000000   \n",
       "25%           14.160000           167.000000          87.000000   \n",
       "50%           17.120000           201.200000         100.000000   \n",
       "75%           20.000000           235.300000         113.000000   \n",
       "max           30.910000           395.000000         175.000000   \n",
       "\n",
       "       total night charge  total intl minutes  total intl calls  \\\n",
       "count         3333.000000         3333.000000       3333.000000   \n",
       "mean             9.039325           10.237294          4.479448   \n",
       "std              2.275873            2.791840          2.461214   \n",
       "min              1.040000            0.000000          0.000000   \n",
       "25%              7.520000            8.500000          3.000000   \n",
       "50%              9.050000           10.300000          4.000000   \n",
       "75%             10.590000           12.100000          6.000000   \n",
       "max             17.770000           20.000000         20.000000   \n",
       "\n",
       "       total intl charge  customer service calls  \n",
       "count        3333.000000             3333.000000  \n",
       "mean            2.764581                1.562856  \n",
       "std             0.753773                1.315491  \n",
       "min             0.000000                0.000000  \n",
       "25%             2.300000                1.000000  \n",
       "50%             2.780000                1.000000  \n",
       "75%             3.270000                2.000000  \n",
       "max             5.400000                9.000000  "
      ]
     },
     "execution_count": 6,
     "metadata": {},
     "output_type": "execute_result"
    }
   ],
   "source": [
    "df.describe()"
   ]
  },
  {
   "cell_type": "code",
   "execution_count": 7,
   "id": "52dd8048",
   "metadata": {},
   "outputs": [
    {
     "data": {
      "image/png": "[encoded data removed]",
      "text/plain": [
       "<Figure size 360x360 with 1 Axes>"
      ]
     },
     "metadata": {},
     "output_type": "display_data"
    }
   ],
   "source": [
    "# apply the Fivethirtyeight style to plots.\n",
    "plt.style.use(\"fivethirtyeight\")\n",
    "\n",
    "# display a frequency distribution for churn.\n",
    "plt.figure(figsize=(5, 5))\n",
    "ax = sns.countplot(x=df['churn'], palette='Reds', linewidth=1)\n",
    "plt.show()"
   ]
  },
  {
   "cell_type": "markdown",
   "id": "dfa46db3",
   "metadata": {},
   "source": [
    "The plot shows a class imbalance of the data between churners and non-churners. To address this, resampling would be a suitable approach. To keep this case simple, the imbalance is kept forward and specific metrics are chosen for model evaluations."
   ]
  },
  {
   "cell_type": "code",
   "execution_count": 8,
   "id": "f8f7d64b",
   "metadata": {},
   "outputs": [
    {
     "data": {
      "text/plain": [
       "False    0.855086\n",
       "True     0.144914\n",
       "Name: churn, dtype: float64"
      ]
     },
     "execution_count": 8,
     "metadata": {},
     "output_type": "execute_result"
    }
   ],
   "source": [
    "df['churn'].value_counts(normalize=True)"
   ]
  },
  {
   "cell_type": "markdown",
   "id": "1fdfad72",
   "metadata": {},
   "source": [
    "It looks like they're losing 14.4% of their customers and retaining aroung 85.5% annually. Let's see what this looks like by each state."
   ]
  },
  {
   "cell_type": "code",
   "execution_count": 9,
   "id": "d0ebd061",
   "metadata": {},
   "outputs": [
    {
     "data": {
      "text/html": [
       "<div>\n",
       "<style scoped>\n",
       "    .dataframe tbody tr th:only-of-type {\n",
       "        vertical-align: middle;\n",
       "    }\n",
       "\n",
       "    .dataframe tbody tr th {\n",
       "        vertical-align: top;\n",
       "    }\n",
       "\n",
       "    .dataframe thead th {\n",
       "        text-align: right;\n",
       "    }\n",
       "</style>\n",
       "<table border=\"1\" class=\"dataframe\">\n",
       "  <thead>\n",
       "    <tr style=\"text-align: right;\">\n",
       "      <th></th>\n",
       "      <th>state</th>\n",
       "      <th>churn</th>\n",
       "      <th>percent</th>\n",
       "    </tr>\n",
       "  </thead>\n",
       "  <tbody>\n",
       "    <tr>\n",
       "      <th>0</th>\n",
       "      <td>AK</td>\n",
       "      <td>False</td>\n",
       "      <td>0.942308</td>\n",
       "    </tr>\n",
       "    <tr>\n",
       "      <th>1</th>\n",
       "      <td>AK</td>\n",
       "      <td>True</td>\n",
       "      <td>0.057692</td>\n",
       "    </tr>\n",
       "    <tr>\n",
       "      <th>2</th>\n",
       "      <td>AL</td>\n",
       "      <td>False</td>\n",
       "      <td>0.900000</td>\n",
       "    </tr>\n",
       "    <tr>\n",
       "      <th>3</th>\n",
       "      <td>AL</td>\n",
       "      <td>True</td>\n",
       "      <td>0.100000</td>\n",
       "    </tr>\n",
       "    <tr>\n",
       "      <th>4</th>\n",
       "      <td>AR</td>\n",
       "      <td>False</td>\n",
       "      <td>0.800000</td>\n",
       "    </tr>\n",
       "    <tr>\n",
       "      <th>...</th>\n",
       "      <td>...</td>\n",
       "      <td>...</td>\n",
       "      <td>...</td>\n",
       "    </tr>\n",
       "    <tr>\n",
       "      <th>97</th>\n",
       "      <td>WI</td>\n",
       "      <td>True</td>\n",
       "      <td>0.089744</td>\n",
       "    </tr>\n",
       "    <tr>\n",
       "      <th>98</th>\n",
       "      <td>WV</td>\n",
       "      <td>False</td>\n",
       "      <td>0.905660</td>\n",
       "    </tr>\n",
       "    <tr>\n",
       "      <th>99</th>\n",
       "      <td>WV</td>\n",
       "      <td>True</td>\n",
       "      <td>0.094340</td>\n",
       "    </tr>\n",
       "    <tr>\n",
       "      <th>100</th>\n",
       "      <td>WY</td>\n",
       "      <td>False</td>\n",
       "      <td>0.883117</td>\n",
       "    </tr>\n",
       "    <tr>\n",
       "      <th>101</th>\n",
       "      <td>WY</td>\n",
       "      <td>True</td>\n",
       "      <td>0.116883</td>\n",
       "    </tr>\n",
       "  </tbody>\n",
       "</table>\n",
       "<p>102 rows × 3 columns</p>\n",
       "</div>"
      ],
      "text/plain": [
       "    state  churn   percent\n",
       "0      AK  False  0.942308\n",
       "1      AK   True  0.057692\n",
       "2      AL  False  0.900000\n",
       "3      AL   True  0.100000\n",
       "4      AR  False  0.800000\n",
       "..    ...    ...       ...\n",
       "97     WI   True  0.089744\n",
       "98     WV  False  0.905660\n",
       "99     WV   True  0.094340\n",
       "100    WY  False  0.883117\n",
       "101    WY   True  0.116883\n",
       "\n",
       "[102 rows x 3 columns]"
      ]
     },
     "execution_count": 9,
     "metadata": {},
     "output_type": "execute_result"
    }
   ],
   "source": [
    "states = df.groupby('state')['churn'].value_counts(normalize=True)\n",
    "states = pd.DataFrame(states)\n",
    "states.columns = ['percent']\n",
    "states = states.reset_index()\n",
    "states"
   ]
  },
  {
   "cell_type": "code",
   "execution_count": 10,
   "id": "1523d029",
   "metadata": {},
   "outputs": [],
   "source": [
    "# create a function to name a column and add columns as necessary\n",
    "def combine_col(name, *cols):\n",
    "    df[name] = sum(cols)"
   ]
  },
  {
   "cell_type": "code",
   "execution_count": 11,
   "id": "6e4c89de",
   "metadata": {},
   "outputs": [
    {
     "data": {
      "text/html": [
       "<div>\n",
       "<style scoped>\n",
       "    .dataframe tbody tr th:only-of-type {\n",
       "        vertical-align: middle;\n",
       "    }\n",
       "\n",
       "    .dataframe tbody tr th {\n",
       "        vertical-align: top;\n",
       "    }\n",
       "\n",
       "    .dataframe thead th {\n",
       "        text-align: right;\n",
       "    }\n",
       "</style>\n",
       "<table border=\"1\" class=\"dataframe\">\n",
       "  <thead>\n",
       "    <tr style=\"text-align: right;\">\n",
       "      <th></th>\n",
       "      <th>state</th>\n",
       "      <th>churn</th>\n",
       "      <th>percent</th>\n",
       "    </tr>\n",
       "  </thead>\n",
       "  <tbody>\n",
       "    <tr>\n",
       "      <th>0</th>\n",
       "      <td>NJ</td>\n",
       "      <td>True</td>\n",
       "      <td>0.264706</td>\n",
       "    </tr>\n",
       "    <tr>\n",
       "      <th>1</th>\n",
       "      <td>CA</td>\n",
       "      <td>True</td>\n",
       "      <td>0.264706</td>\n",
       "    </tr>\n",
       "    <tr>\n",
       "      <th>2</th>\n",
       "      <td>TX</td>\n",
       "      <td>True</td>\n",
       "      <td>0.250000</td>\n",
       "    </tr>\n",
       "    <tr>\n",
       "      <th>3</th>\n",
       "      <td>MD</td>\n",
       "      <td>True</td>\n",
       "      <td>0.242857</td>\n",
       "    </tr>\n",
       "    <tr>\n",
       "      <th>4</th>\n",
       "      <td>SC</td>\n",
       "      <td>True</td>\n",
       "      <td>0.233333</td>\n",
       "    </tr>\n",
       "    <tr>\n",
       "      <th>5</th>\n",
       "      <td>MI</td>\n",
       "      <td>True</td>\n",
       "      <td>0.219178</td>\n",
       "    </tr>\n",
       "    <tr>\n",
       "      <th>6</th>\n",
       "      <td>MS</td>\n",
       "      <td>True</td>\n",
       "      <td>0.215385</td>\n",
       "    </tr>\n",
       "    <tr>\n",
       "      <th>7</th>\n",
       "      <td>NV</td>\n",
       "      <td>True</td>\n",
       "      <td>0.212121</td>\n",
       "    </tr>\n",
       "    <tr>\n",
       "      <th>8</th>\n",
       "      <td>WA</td>\n",
       "      <td>True</td>\n",
       "      <td>0.212121</td>\n",
       "    </tr>\n",
       "    <tr>\n",
       "      <th>9</th>\n",
       "      <td>ME</td>\n",
       "      <td>True</td>\n",
       "      <td>0.209677</td>\n",
       "    </tr>\n",
       "    <tr>\n",
       "      <th>10</th>\n",
       "      <td>MT</td>\n",
       "      <td>True</td>\n",
       "      <td>0.205882</td>\n",
       "    </tr>\n",
       "    <tr>\n",
       "      <th>11</th>\n",
       "      <td>AR</td>\n",
       "      <td>True</td>\n",
       "      <td>0.200000</td>\n",
       "    </tr>\n",
       "    <tr>\n",
       "      <th>12</th>\n",
       "      <td>KS</td>\n",
       "      <td>True</td>\n",
       "      <td>0.185714</td>\n",
       "    </tr>\n",
       "    <tr>\n",
       "      <th>13</th>\n",
       "      <td>NY</td>\n",
       "      <td>True</td>\n",
       "      <td>0.180723</td>\n",
       "    </tr>\n",
       "    <tr>\n",
       "      <th>14</th>\n",
       "      <td>MN</td>\n",
       "      <td>True</td>\n",
       "      <td>0.178571</td>\n",
       "    </tr>\n",
       "    <tr>\n",
       "      <th>15</th>\n",
       "      <td>PA</td>\n",
       "      <td>True</td>\n",
       "      <td>0.177778</td>\n",
       "    </tr>\n",
       "    <tr>\n",
       "      <th>16</th>\n",
       "      <td>MA</td>\n",
       "      <td>True</td>\n",
       "      <td>0.169231</td>\n",
       "    </tr>\n",
       "    <tr>\n",
       "      <th>17</th>\n",
       "      <td>CT</td>\n",
       "      <td>True</td>\n",
       "      <td>0.162162</td>\n",
       "    </tr>\n",
       "    <tr>\n",
       "      <th>18</th>\n",
       "      <td>NC</td>\n",
       "      <td>True</td>\n",
       "      <td>0.161765</td>\n",
       "    </tr>\n",
       "    <tr>\n",
       "      <th>19</th>\n",
       "      <td>NH</td>\n",
       "      <td>True</td>\n",
       "      <td>0.160714</td>\n",
       "    </tr>\n",
       "    <tr>\n",
       "      <th>20</th>\n",
       "      <td>GA</td>\n",
       "      <td>True</td>\n",
       "      <td>0.148148</td>\n",
       "    </tr>\n",
       "    <tr>\n",
       "      <th>21</th>\n",
       "      <td>DE</td>\n",
       "      <td>True</td>\n",
       "      <td>0.147541</td>\n",
       "    </tr>\n",
       "    <tr>\n",
       "      <th>22</th>\n",
       "      <td>OK</td>\n",
       "      <td>True</td>\n",
       "      <td>0.147541</td>\n",
       "    </tr>\n",
       "    <tr>\n",
       "      <th>23</th>\n",
       "      <td>OR</td>\n",
       "      <td>True</td>\n",
       "      <td>0.141026</td>\n",
       "    </tr>\n",
       "    <tr>\n",
       "      <th>24</th>\n",
       "      <td>UT</td>\n",
       "      <td>True</td>\n",
       "      <td>0.138889</td>\n",
       "    </tr>\n",
       "    <tr>\n",
       "      <th>25</th>\n",
       "      <td>CO</td>\n",
       "      <td>True</td>\n",
       "      <td>0.136364</td>\n",
       "    </tr>\n",
       "    <tr>\n",
       "      <th>26</th>\n",
       "      <td>KY</td>\n",
       "      <td>True</td>\n",
       "      <td>0.135593</td>\n",
       "    </tr>\n",
       "    <tr>\n",
       "      <th>27</th>\n",
       "      <td>SD</td>\n",
       "      <td>True</td>\n",
       "      <td>0.133333</td>\n",
       "    </tr>\n",
       "    <tr>\n",
       "      <th>28</th>\n",
       "      <td>OH</td>\n",
       "      <td>True</td>\n",
       "      <td>0.128205</td>\n",
       "    </tr>\n",
       "    <tr>\n",
       "      <th>29</th>\n",
       "      <td>FL</td>\n",
       "      <td>True</td>\n",
       "      <td>0.126984</td>\n",
       "    </tr>\n",
       "    <tr>\n",
       "      <th>30</th>\n",
       "      <td>IN</td>\n",
       "      <td>True</td>\n",
       "      <td>0.126761</td>\n",
       "    </tr>\n",
       "    <tr>\n",
       "      <th>31</th>\n",
       "      <td>ID</td>\n",
       "      <td>True</td>\n",
       "      <td>0.123288</td>\n",
       "    </tr>\n",
       "    <tr>\n",
       "      <th>32</th>\n",
       "      <td>WY</td>\n",
       "      <td>True</td>\n",
       "      <td>0.116883</td>\n",
       "    </tr>\n",
       "    <tr>\n",
       "      <th>33</th>\n",
       "      <td>MO</td>\n",
       "      <td>True</td>\n",
       "      <td>0.111111</td>\n",
       "    </tr>\n",
       "    <tr>\n",
       "      <th>34</th>\n",
       "      <td>VT</td>\n",
       "      <td>True</td>\n",
       "      <td>0.109589</td>\n",
       "    </tr>\n",
       "    <tr>\n",
       "      <th>35</th>\n",
       "      <td>AL</td>\n",
       "      <td>True</td>\n",
       "      <td>0.100000</td>\n",
       "    </tr>\n",
       "    <tr>\n",
       "      <th>36</th>\n",
       "      <td>NM</td>\n",
       "      <td>True</td>\n",
       "      <td>0.096774</td>\n",
       "    </tr>\n",
       "    <tr>\n",
       "      <th>37</th>\n",
       "      <td>ND</td>\n",
       "      <td>True</td>\n",
       "      <td>0.096774</td>\n",
       "    </tr>\n",
       "    <tr>\n",
       "      <th>38</th>\n",
       "      <td>WV</td>\n",
       "      <td>True</td>\n",
       "      <td>0.094340</td>\n",
       "    </tr>\n",
       "    <tr>\n",
       "      <th>39</th>\n",
       "      <td>TN</td>\n",
       "      <td>True</td>\n",
       "      <td>0.094340</td>\n",
       "    </tr>\n",
       "    <tr>\n",
       "      <th>40</th>\n",
       "      <td>DC</td>\n",
       "      <td>True</td>\n",
       "      <td>0.092593</td>\n",
       "    </tr>\n",
       "    <tr>\n",
       "      <th>41</th>\n",
       "      <td>RI</td>\n",
       "      <td>True</td>\n",
       "      <td>0.092308</td>\n",
       "    </tr>\n",
       "    <tr>\n",
       "      <th>42</th>\n",
       "      <td>WI</td>\n",
       "      <td>True</td>\n",
       "      <td>0.089744</td>\n",
       "    </tr>\n",
       "    <tr>\n",
       "      <th>43</th>\n",
       "      <td>IL</td>\n",
       "      <td>True</td>\n",
       "      <td>0.086207</td>\n",
       "    </tr>\n",
       "    <tr>\n",
       "      <th>44</th>\n",
       "      <td>NE</td>\n",
       "      <td>True</td>\n",
       "      <td>0.081967</td>\n",
       "    </tr>\n",
       "    <tr>\n",
       "      <th>45</th>\n",
       "      <td>LA</td>\n",
       "      <td>True</td>\n",
       "      <td>0.078431</td>\n",
       "    </tr>\n",
       "    <tr>\n",
       "      <th>46</th>\n",
       "      <td>IA</td>\n",
       "      <td>True</td>\n",
       "      <td>0.068182</td>\n",
       "    </tr>\n",
       "    <tr>\n",
       "      <th>47</th>\n",
       "      <td>VA</td>\n",
       "      <td>True</td>\n",
       "      <td>0.064935</td>\n",
       "    </tr>\n",
       "    <tr>\n",
       "      <th>48</th>\n",
       "      <td>AZ</td>\n",
       "      <td>True</td>\n",
       "      <td>0.062500</td>\n",
       "    </tr>\n",
       "    <tr>\n",
       "      <th>49</th>\n",
       "      <td>AK</td>\n",
       "      <td>True</td>\n",
       "      <td>0.057692</td>\n",
       "    </tr>\n",
       "    <tr>\n",
       "      <th>50</th>\n",
       "      <td>HI</td>\n",
       "      <td>True</td>\n",
       "      <td>0.056604</td>\n",
       "    </tr>\n",
       "  </tbody>\n",
       "</table>\n",
       "</div>"
      ],
      "text/plain": [
       "   state  churn   percent\n",
       "0     NJ   True  0.264706\n",
       "1     CA   True  0.264706\n",
       "2     TX   True  0.250000\n",
       "3     MD   True  0.242857\n",
       "4     SC   True  0.233333\n",
       "5     MI   True  0.219178\n",
       "6     MS   True  0.215385\n",
       "7     NV   True  0.212121\n",
       "8     WA   True  0.212121\n",
       "9     ME   True  0.209677\n",
       "10    MT   True  0.205882\n",
       "11    AR   True  0.200000\n",
       "12    KS   True  0.185714\n",
       "13    NY   True  0.180723\n",
       "14    MN   True  0.178571\n",
       "15    PA   True  0.177778\n",
       "16    MA   True  0.169231\n",
       "17    CT   True  0.162162\n",
       "18    NC   True  0.161765\n",
       "19    NH   True  0.160714\n",
       "20    GA   True  0.148148\n",
       "21    DE   True  0.147541\n",
       "22    OK   True  0.147541\n",
       "23    OR   True  0.141026\n",
       "24    UT   True  0.138889\n",
       "25    CO   True  0.136364\n",
       "26    KY   True  0.135593\n",
       "27    SD   True  0.133333\n",
       "28    OH   True  0.128205\n",
       "29    FL   True  0.126984\n",
       "30    IN   True  0.126761\n",
       "31    ID   True  0.123288\n",
       "32    WY   True  0.116883\n",
       "33    MO   True  0.111111\n",
       "34    VT   True  0.109589\n",
       "35    AL   True  0.100000\n",
       "36    NM   True  0.096774\n",
       "37    ND   True  0.096774\n",
       "38    WV   True  0.094340\n",
       "39    TN   True  0.094340\n",
       "40    DC   True  0.092593\n",
       "41    RI   True  0.092308\n",
       "42    WI   True  0.089744\n",
       "43    IL   True  0.086207\n",
       "44    NE   True  0.081967\n",
       "45    LA   True  0.078431\n",
       "46    IA   True  0.068182\n",
       "47    VA   True  0.064935\n",
       "48    AZ   True  0.062500\n",
       "49    AK   True  0.057692\n",
       "50    HI   True  0.056604"
      ]
     },
     "execution_count": 11,
     "metadata": {},
     "output_type": "execute_result"
    }
   ],
   "source": [
    "# Finding the churn rates for each state\n",
    "churn_rate_state = states.loc[states['churn'] == True].sort_values(\"percent\", ascending =False)\\\n",
    "                                                        .reset_index().drop(\"index\", axis =1)\n",
    "churn_rate_state"
   ]
  },
  {
   "cell_type": "markdown",
   "id": "26e8a214",
   "metadata": {},
   "source": [
    "There are definitely states with a higher churn rate. some are losing more than a fifth of their customers each year. Let's create a category for those states."
   ]
  },
  {
   "cell_type": "code",
   "execution_count": 12,
   "id": "d887b8d9",
   "metadata": {},
   "outputs": [],
   "source": [
    "colors = plotly.colors.DEFAULT_PLOTLY_COLORS\n",
    "churn_dict = {0: \"no churn\", 1: \"churn\"}"
   ]
  },
  {
   "cell_type": "code",
   "execution_count": 13,
   "id": "0f4aee4d",
   "metadata": {},
   "outputs": [
    {
     "data": {
      "application/vnd.plotly.v1+json": {
       "config": {
        "linkText": "Export to plot.ly",
        "plotlyServerURL": "https://plot.ly",
        "showLink": false
       },
       "data": [
        {
         "marker": {
          "color": "rgb(31, 119, 180)"
         },
         "name": "no churn",
         "type": "bar",
         "x": [
          "AK",
          "AL",
          "AR",
          "AZ",
          "CA",
          "CO",
          "CT",
          "DC",
          "DE",
          "FL",
          "GA",
          "HI",
          "IA",
          "ID",
          "IL",
          "IN",
          "KS",
          "KY",
          "LA",
          "MA",
          "MD",
          "ME",
          "MI",
          "MN",
          "MO",
          "MS",
          "MT",
          "NC",
          "ND",
          "NE",
          "NH",
          "NJ",
          "NM",
          "NV",
          "NY",
          "OH",
          "OK",
          "OR",
          "PA",
          "RI",
          "SC",
          "SD",
          "TN",
          "TX",
          "UT",
          "VA",
          "VT",
          "WA",
          "WI",
          "WV",
          "WY"
         ],
         "y": [
          49,
          72,
          44,
          60,
          25,
          57,
          62,
          49,
          52,
          55,
          46,
          50,
          41,
          64,
          53,
          62,
          57,
          51,
          47,
          54,
          53,
          49,
          57,
          69,
          56,
          51,
          54,
          57,
          56,
          56,
          47,
          50,
          56,
          52,
          68,
          68,
          52,
          67,
          37,
          59,
          46,
          52,
          48,
          54,
          62,
          72,
          65,
          52,
          71,
          96,
          68
         ]
        },
        {
         "marker": {
          "color": "rgb(255, 127, 14)"
         },
         "name": "churn",
         "type": "bar",
         "x": [
          "AK",
          "AL",
          "AR",
          "AZ",
          "CA",
          "CO",
          "CT",
          "DC",
          "DE",
          "FL",
          "GA",
          "HI",
          "IA",
          "ID",
          "IL",
          "IN",
          "KS",
          "KY",
          "LA",
          "MA",
          "MD",
          "ME",
          "MI",
          "MN",
          "MO",
          "MS",
          "MT",
          "NC",
          "ND",
          "NE",
          "NH",
          "NJ",
          "NM",
          "NV",
          "NY",
          "OH",
          "OK",
          "OR",
          "PA",
          "RI",
          "SC",
          "SD",
          "TN",
          "TX",
          "UT",
          "VA",
          "VT",
          "WA",
          "WI",
          "WV",
          "WY"
         ],
         "y": [
          3,
          8,
          11,
          4,
          9,
          9,
          12,
          5,
          9,
          8,
          8,
          3,
          3,
          9,
          5,
          9,
          13,
          8,
          4,
          11,
          17,
          13,
          16,
          15,
          7,
          14,
          14,
          11,
          6,
          5,
          9,
          18,
          6,
          14,
          15,
          10,
          9,
          11,
          8,
          6,
          14,
          8,
          5,
          18,
          10,
          5,
          8,
          14,
          7,
          10,
          9
         ]
        }
       ],
       "layout": {
        "autosize": true,
        "barmode": "stack",
        "legend": {
         "x": 0,
         "y": 1
        },
        "margin": {
         "l": 50,
         "r": 50
        },
        "template": {
         "data": {
          "bar": [
           {
            "error_x": {
             "color": "#2a3f5f"
            },
            "error_y": {
             "color": "#2a3f5f"
            },
            "marker": {
             "line": {
              "color": "#E5ECF6",
              "width": 0.5
             },
             "pattern": {
              "fillmode": "overlay",
              "size": 10,
              "solidity": 0.2
             }
            },
            "type": "bar"
           }
          ],
          "barpolar": [
           {
            "marker": {
             "line": {
              "color": "#E5ECF6",
              "width": 0.5
             },
             "pattern": {
              "fillmode": "overlay",
              "size": 10,
              "solidity": 0.2
             }
            },
            "type": "barpolar"
           }
          ],
          "carpet": [
           {
            "aaxis": {
             "endlinecolor": "#2a3f5f",
             "gridcolor": "white",
             "linecolor": "white",
             "minorgridcolor": "white",
             "startlinecolor": "#2a3f5f"
            },
            "baxis": {
             "endlinecolor": "#2a3f5f",
             "gridcolor": "white",
             "linecolor": "white",
             "minorgridcolor": "white",
             "startlinecolor": "#2a3f5f"
            },
            "type": "carpet"
           }
          ],
          "choropleth": [
           {
            "colorbar": {
             "outlinewidth": 0,
             "ticks": ""
            },
            "type": "choropleth"
           }
          ],
          "contour": [
           {
            "colorbar": {
             "outlinewidth": 0,
             "ticks": ""
            },
            "colorscale": [
             [
              0,
              "#0d0887"
             ],
             [
              0.1111111111111111,
              "#46039f"
             ],
             [
              0.2222222222222222,
              "#7201a8"
             ],
             [
              0.3333333333333333,
              "#9c179e"
             ],
             [
              0.4444444444444444,
              "#bd3786"
             ],
             [
              0.5555555555555556,
              "#d8576b"
             ],
             [
              0.6666666666666666,
              "#ed7953"
             ],
             [
              0.7777777777777778,
              "#fb9f3a"
             ],
             [
              0.8888888888888888,
              "#fdca26"
             ],
             [
              1,
              "#f0f921"
             ]
            ],
            "type": "contour"
           }
          ],
          "contourcarpet": [
           {
            "colorbar": {
             "outlinewidth": 0,
             "ticks": ""
            },
            "type": "contourcarpet"
           }
          ],
          "heatmap": [
           {
            "colorbar": {
             "outlinewidth": 0,
             "ticks": ""
            },
            "colorscale": [
             [
              0,
              "#0d0887"
             ],
             [
              0.1111111111111111,
              "#46039f"
             ],
             [
              0.2222222222222222,
              "#7201a8"
             ],
             [
              0.3333333333333333,
              "#9c179e"
             ],
             [
              0.4444444444444444,
              "#bd3786"
             ],
             [
              0.5555555555555556,
              "#d8576b"
             ],
             [
              0.6666666666666666,
              "#ed7953"
             ],
             [
              0.7777777777777778,
              "#fb9f3a"
             ],
             [
              0.8888888888888888,
              "#fdca26"
             ],
             [
              1,
              "#f0f921"
             ]
            ],
            "type": "heatmap"
           }
          ],
          "heatmapgl": [
           {
            "colorbar": {
             "outlinewidth": 0,
             "ticks": ""
            },
            "colorscale": [
             [
              0,
              "#0d0887"
             ],
             [
              0.1111111111111111,
              "#46039f"
             ],
             [
              0.2222222222222222,
              "#7201a8"
             ],
             [
              0.3333333333333333,
              "#9c179e"
             ],
             [
              0.4444444444444444,
              "#bd3786"
             ],
             [
              0.5555555555555556,
              "#d8576b"
             ],
             [
              0.6666666666666666,
              "#ed7953"
             ],
             [
              0.7777777777777778,
              "#fb9f3a"
             ],
             [
              0.8888888888888888,
              "#fdca26"
             ],
             [
              1,
              "#f0f921"
             ]
            ],
            "type": "heatmapgl"
           }
          ],
          "histogram": [
           {
            "marker": {
             "pattern": {
              "fillmode": "overlay",
              "size": 10,
              "solidity": 0.2
             }
            },
            "type": "histogram"
           }
          ],
          "histogram2d": [
           {
            "colorbar": {
             "outlinewidth": 0,
             "ticks": ""
            },
            "colorscale": [
             [
              0,
              "#0d0887"
             ],
             [
              0.1111111111111111,
              "#46039f"
             ],
             [
              0.2222222222222222,
              "#7201a8"
             ],
             [
              0.3333333333333333,
              "#9c179e"
             ],
             [
              0.4444444444444444,
              "#bd3786"
             ],
             [
              0.5555555555555556,
              "#d8576b"
             ],
             [
              0.6666666666666666,
              "#ed7953"
             ],
             [
              0.7777777777777778,
              "#fb9f3a"
             ],
             [
              0.8888888888888888,
              "#fdca26"
             ],
             [
              1,
              "#f0f921"
             ]
            ],
            "type": "histogram2d"
           }
          ],
          "histogram2dcontour": [
           {
            "colorbar": {
             "outlinewidth": 0,
             "ticks": ""
            },
            "colorscale": [
             [
              0,
              "#0d0887"
             ],
             [
              0.1111111111111111,
              "#46039f"
             ],
             [
              0.2222222222222222,
              "#7201a8"
             ],
             [
              0.3333333333333333,
              "#9c179e"
             ],
             [
              0.4444444444444444,
              "#bd3786"
             ],
             [
              0.5555555555555556,
              "#d8576b"
             ],
             [
              0.6666666666666666,
              "#ed7953"
             ],
             [
              0.7777777777777778,
              "#fb9f3a"
             ],
             [
              0.8888888888888888,
              "#fdca26"
             ],
             [
              1,
              "#f0f921"
             ]
            ],
            "type": "histogram2dcontour"
           }
          ],
          "mesh3d": [
           {
            "colorbar": {
             "outlinewidth": 0,
             "ticks": ""
            },
            "type": "mesh3d"
           }
          ],
          "parcoords": [
           {
            "line": {
             "colorbar": {
              "outlinewidth": 0,
              "ticks": ""
             }
            },
            "type": "parcoords"
           }
          ],
          "pie": [
           {
            "automargin": true,
            "type": "pie"
           }
          ],
          "scatter": [
           {
            "marker": {
             "colorbar": {
              "outlinewidth": 0,
              "ticks": ""
             }
            },
            "type": "scatter"
           }
          ],
          "scatter3d": [
           {
            "line": {
             "colorbar": {
              "outlinewidth": 0,
              "ticks": ""
             }
            },
            "marker": {
             "colorbar": {
              "outlinewidth": 0,
              "ticks": ""
             }
            },
            "type": "scatter3d"
           }
          ],
          "scattercarpet": [
           {
            "marker": {
             "colorbar": {
              "outlinewidth": 0,
              "ticks": ""
             }
            },
            "type": "scattercarpet"
           }
          ],
          "scattergeo": [
           {
            "marker": {
             "colorbar": {
              "outlinewidth": 0,
              "ticks": ""
             }
            },
            "type": "scattergeo"
           }
          ],
          "scattergl": [
           {
            "marker": {
             "colorbar": {
              "outlinewidth": 0,
              "ticks": ""
             }
            },
            "type": "scattergl"
           }
          ],
          "scattermapbox": [
           {
            "marker": {
             "colorbar": {
              "outlinewidth": 0,
              "ticks": ""
             }
            },
            "type": "scattermapbox"
           }
          ],
          "scatterpolar": [
           {
            "marker": {
             "colorbar": {
              "outlinewidth": 0,
              "ticks": ""
             }
            },
            "type": "scatterpolar"
           }
          ],
          "scatterpolargl": [
           {
            "marker": {
             "colorbar": {
              "outlinewidth": 0,
              "ticks": ""
             }
            },
            "type": "scatterpolargl"
           }
          ],
          "scatterternary": [
           {
            "marker": {
             "colorbar": {
              "outlinewidth": 0,
              "ticks": ""
             }
            },
            "type": "scatterternary"
           }
          ],
          "surface": [
           {
            "colorbar": {
             "outlinewidth": 0,
             "ticks": ""
            },
            "colorscale": [
             [
              0,
              "#0d0887"
             ],
             [
              0.1111111111111111,
              "#46039f"
             ],
             [
              0.2222222222222222,
              "#7201a8"
             ],
             [
              0.3333333333333333,
              "#9c179e"
             ],
             [
              0.4444444444444444,
              "#bd3786"
             ],
             [
              0.5555555555555556,
              "#d8576b"
             ],
             [
              0.6666666666666666,
              "#ed7953"
             ],
             [
              0.7777777777777778,
              "#fb9f3a"
             ],
             [
              0.8888888888888888,
              "#fdca26"
             ],
             [
              1,
              "#f0f921"
             ]
            ],
            "type": "surface"
           }
          ],
          "table": [
           {
            "cells": {
             "fill": {
              "color": "#EBF0F8"
             },
             "line": {
              "color": "white"
             }
            },
            "header": {
             "fill": {
              "color": "#C8D4E3"
             },
             "line": {
              "color": "white"
             }
            },
            "type": "table"
           }
          ]
         },
         "layout": {
          "annotationdefaults": {
           "arrowcolor": "#2a3f5f",
           "arrowhead": 0,
           "arrowwidth": 1
          },
          "autotypenumbers": "strict",
          "coloraxis": {
           "colorbar": {
            "outlinewidth": 0,
            "ticks": ""
           }
          },
          "colorscale": {
           "diverging": [
            [
             0,
             "#8e0152"
            ],
            [
             0.1,
             "#c51b7d"
            ],
            [
             0.2,
             "#de77ae"
            ],
            [
             0.3,
             "#f1b6da"
            ],
            [
             0.4,
             "#fde0ef"
            ],
            [
             0.5,
             "#f7f7f7"
            ],
            [
             0.6,
             "#e6f5d0"
            ],
            [
             0.7,
             "#b8e186"
            ],
            [
             0.8,
             "#7fbc41"
            ],
            [
             0.9,
             "#4d9221"
            ],
            [
             1,
             "#276419"
            ]
           ],
           "sequential": [
            [
             0,
             "#0d0887"
            ],
            [
             0.1111111111111111,
             "#46039f"
            ],
            [
             0.2222222222222222,
             "#7201a8"
            ],
            [
             0.3333333333333333,
             "#9c179e"
            ],
            [
             0.4444444444444444,
             "#bd3786"
            ],
            [
             0.5555555555555556,
             "#d8576b"
            ],
            [
             0.6666666666666666,
             "#ed7953"
            ],
            [
             0.7777777777777778,
             "#fb9f3a"
            ],
            [
             0.8888888888888888,
             "#fdca26"
            ],
            [
             1,
             "#f0f921"
            ]
           ],
           "sequentialminus": [
            [
             0,
             "#0d0887"
            ],
            [
             0.1111111111111111,
             "#46039f"
            ],
            [
             0.2222222222222222,
             "#7201a8"
            ],
            [
             0.3333333333333333,
             "#9c179e"
            ],
            [
             0.4444444444444444,
             "#bd3786"
            ],
            [
             0.5555555555555556,
             "#d8576b"
            ],
            [
             0.6666666666666666,
             "#ed7953"
            ],
            [
             0.7777777777777778,
             "#fb9f3a"
            ],
            [
             0.8888888888888888,
             "#fdca26"
            ],
            [
             1,
             "#f0f921"
            ]
           ]
          },
          "colorway": [
           "#636efa",
           "#EF553B",
           "#00cc96",
           "#ab63fa",
           "#FFA15A",
           "#19d3f3",
           "#FF6692",
           "#B6E880",
           "#FF97FF",
           "#FECB52"
          ],
          "font": {
           "color": "#2a3f5f"
          },
          "geo": {
           "bgcolor": "white",
           "lakecolor": "white",
           "landcolor": "#E5ECF6",
           "showlakes": true,
           "showland": true,
           "subunitcolor": "white"
          },
          "hoverlabel": {
           "align": "left"
          },
          "hovermode": "closest",
          "mapbox": {
           "style": "light"
          },
          "paper_bgcolor": "white",
          "plot_bgcolor": "#E5ECF6",
          "polar": {
           "angularaxis": {
            "gridcolor": "white",
            "linecolor": "white",
            "ticks": ""
           },
           "bgcolor": "#E5ECF6",
           "radialaxis": {
            "gridcolor": "white",
            "linecolor": "white",
            "ticks": ""
           }
          },
          "scene": {
           "xaxis": {
            "backgroundcolor": "#E5ECF6",
            "gridcolor": "white",
            "gridwidth": 2,
            "linecolor": "white",
            "showbackground": true,
            "ticks": "",
            "zerolinecolor": "white"
           },
           "yaxis": {
            "backgroundcolor": "#E5ECF6",
            "gridcolor": "white",
            "gridwidth": 2,
            "linecolor": "white",
            "showbackground": true,
            "ticks": "",
            "zerolinecolor": "white"
           },
           "zaxis": {
            "backgroundcolor": "#E5ECF6",
            "gridcolor": "white",
            "gridwidth": 2,
            "linecolor": "white",
            "showbackground": true,
            "ticks": "",
            "zerolinecolor": "white"
           }
          },
          "shapedefaults": {
           "line": {
            "color": "#2a3f5f"
           }
          },
          "ternary": {
           "aaxis": {
            "gridcolor": "white",
            "linecolor": "white",
            "ticks": ""
           },
           "baxis": {
            "gridcolor": "white",
            "linecolor": "white",
            "ticks": ""
           },
           "bgcolor": "#E5ECF6",
           "caxis": {
            "gridcolor": "white",
            "linecolor": "white",
            "ticks": ""
           }
          },
          "title": {
           "x": 0.05
          },
          "xaxis": {
           "automargin": true,
           "gridcolor": "white",
           "linecolor": "white",
           "ticks": "",
           "title": {
            "standoff": 15
           },
           "zerolinecolor": "white",
           "zerolinewidth": 2
          },
          "yaxis": {
           "automargin": true,
           "gridcolor": "white",
           "linecolor": "white",
           "ticks": "",
           "title": {
            "standoff": 15
           },
           "zerolinecolor": "white",
           "zerolinewidth": 2
          }
         }
        },
        "title": {
         "text": "Churn distribution per state"
        },
        "xaxis": {
         "tickangle": 45,
         "title": {
          "text": "state"
         }
        },
        "yaxis": {
         "automargin": true,
         "title": {
          "text": "#samples"
         }
        }
       }
      },
      "text/html": [
       "<div>                            <div id=\"259c860c-0ba7-4f74-87ad-ce3b285a062d\" class=\"plotly-graph-div\" style=\"height:525px; width:100%;\"></div>            <script type=\"text/javascript\">                require([\"plotly\"], function(Plotly) {                    window.PLOTLYENV=window.PLOTLYENV || {};                                    if (document.getElementById(\"259c860c-0ba7-4f74-87ad-ce3b285a062d\")) {                    Plotly.newPlot(                        \"259c860c-0ba7-4f74-87ad-ce3b285a062d\",                        [{\"marker\":{\"color\":\"rgb(31, 119, 180)\"},\"name\":\"no churn\",\"x\":[\"AK\",\"AL\",\"AR\",\"AZ\",\"CA\",\"CO\",\"CT\",\"DC\",\"DE\",\"FL\",\"GA\",\"HI\",\"IA\",\"ID\",\"IL\",\"IN\",\"KS\",\"KY\",\"LA\",\"MA\",\"MD\",\"ME\",\"MI\",\"MN\",\"MO\",\"MS\",\"MT\",\"NC\",\"ND\",\"NE\",\"NH\",\"NJ\",\"NM\",\"NV\",\"NY\",\"OH\",\"OK\",\"OR\",\"PA\",\"RI\",\"SC\",\"SD\",\"TN\",\"TX\",\"UT\",\"VA\",\"VT\",\"WA\",\"WI\",\"WV\",\"WY\"],\"y\":[49,72,44,60,25,57,62,49,52,55,46,50,41,64,53,62,57,51,47,54,53,49,57,69,56,51,54,57,56,56,47,50,56,52,68,68,52,67,37,59,46,52,48,54,62,72,65,52,71,96,68],\"type\":\"bar\"},{\"marker\":{\"color\":\"rgb(255, 127, 14)\"},\"name\":\"churn\",\"x\":[\"AK\",\"AL\",\"AR\",\"AZ\",\"CA\",\"CO\",\"CT\",\"DC\",\"DE\",\"FL\",\"GA\",\"HI\",\"IA\",\"ID\",\"IL\",\"IN\",\"KS\",\"KY\",\"LA\",\"MA\",\"MD\",\"ME\",\"MI\",\"MN\",\"MO\",\"MS\",\"MT\",\"NC\",\"ND\",\"NE\",\"NH\",\"NJ\",\"NM\",\"NV\",\"NY\",\"OH\",\"OK\",\"OR\",\"PA\",\"RI\",\"SC\",\"SD\",\"TN\",\"TX\",\"UT\",\"VA\",\"VT\",\"WA\",\"WI\",\"WV\",\"WY\"],\"y\":[3,8,11,4,9,9,12,5,9,8,8,3,3,9,5,9,13,8,4,11,17,13,16,15,7,14,14,11,6,5,9,18,6,14,15,10,9,11,8,6,14,8,5,18,10,5,8,14,7,10,9],\"type\":\"bar\"}],                        {\"autosize\":true,\"barmode\":\"stack\",\"legend\":{\"x\":0,\"y\":1},\"margin\":{\"l\":50,\"r\":50},\"template\":{\"data\":{\"barpolar\":[{\"marker\":{\"line\":{\"color\":\"#E5ECF6\",\"width\":0.5},\"pattern\":{\"fillmode\":\"overlay\",\"size\":10,\"solidity\":0.2}},\"type\":\"barpolar\"}],\"bar\":[{\"error_x\":{\"color\":\"#2a3f5f\"},\"error_y\":{\"color\":\"#2a3f5f\"},\"marker\":{\"line\":{\"color\":\"#E5ECF6\",\"width\":0.5},\"pattern\":{\"fillmode\":\"overlay\",\"size\":10,\"solidity\":0.2}},\"type\":\"bar\"}],\"carpet\":[{\"aaxis\":{\"endlinecolor\":\"#2a3f5f\",\"gridcolor\":\"white\",\"linecolor\":\"white\",\"minorgridcolor\":\"white\",\"startlinecolor\":\"#2a3f5f\"},\"baxis\":{\"endlinecolor\":\"#2a3f5f\",\"gridcolor\":\"white\",\"linecolor\":\"white\",\"minorgridcolor\":\"white\",\"startlinecolor\":\"#2a3f5f\"},\"type\":\"carpet\"}],\"choropleth\":[{\"colorbar\":{\"outlinewidth\":0,\"ticks\":\"\"},\"type\":\"choropleth\"}],\"contourcarpet\":[{\"colorbar\":{\"outlinewidth\":0,\"ticks\":\"\"},\"type\":\"contourcarpet\"}],\"contour\":[{\"colorbar\":{\"outlinewidth\":0,\"ticks\":\"\"},\"colorscale\":[[0.0,\"#0d0887\"],[0.1111111111111111,\"#46039f\"],[0.2222222222222222,\"#7201a8\"],[0.3333333333333333,\"#9c179e\"],[0.4444444444444444,\"#bd3786\"],[0.5555555555555556,\"#d8576b\"],[0.6666666666666666,\"#ed7953\"],[0.7777777777777778,\"#fb9f3a\"],[0.8888888888888888,\"#fdca26\"],[1.0,\"#f0f921\"]],\"type\":\"contour\"}],\"heatmapgl\":[{\"colorbar\":{\"outlinewidth\":0,\"ticks\":\"\"},\"colorscale\":[[0.0,\"#0d0887\"],[0.1111111111111111,\"#46039f\"],[0.2222222222222222,\"#7201a8\"],[0.3333333333333333,\"#9c179e\"],[0.4444444444444444,\"#bd3786\"],[0.5555555555555556,\"#d8576b\"],[0.6666666666666666,\"#ed7953\"],[0.7777777777777778,\"#fb9f3a\"],[0.8888888888888888,\"#fdca26\"],[1.0,\"#f0f921\"]],\"type\":\"heatmapgl\"}],\"heatmap\":[{\"colorbar\":{\"outlinewidth\":0,\"ticks\":\"\"},\"colorscale\":[[0.0,\"#0d0887\"],[0.1111111111111111,\"#46039f\"],[0.2222222222222222,\"#7201a8\"],[0.3333333333333333,\"#9c179e\"],[0.4444444444444444,\"#bd3786\"],[0.5555555555555556,\"#d8576b\"],[0.6666666666666666,\"#ed7953\"],[0.7777777777777778,\"#fb9f3a\"],[0.8888888888888888,\"#fdca26\"],[1.0,\"#f0f921\"]],\"type\":\"heatmap\"}],\"histogram2dcontour\":[{\"colorbar\":{\"outlinewidth\":0,\"ticks\":\"\"},\"colorscale\":[[0.0,\"#0d0887\"],[0.1111111111111111,\"#46039f\"],[0.2222222222222222,\"#7201a8\"],[0.3333333333333333,\"#9c179e\"],[0.4444444444444444,\"#bd3786\"],[0.5555555555555556,\"#d8576b\"],[0.6666666666666666,\"#ed7953\"],[0.7777777777777778,\"#fb9f3a\"],[0.8888888888888888,\"#fdca26\"],[1.0,\"#f0f921\"]],\"type\":\"histogram2dcontour\"}],\"histogram2d\":[{\"colorbar\":{\"outlinewidth\":0,\"ticks\":\"\"},\"colorscale\":[[0.0,\"#0d0887\"],[0.1111111111111111,\"#46039f\"],[0.2222222222222222,\"#7201a8\"],[0.3333333333333333,\"#9c179e\"],[0.4444444444444444,\"#bd3786\"],[0.5555555555555556,\"#d8576b\"],[0.6666666666666666,\"#ed7953\"],[0.7777777777777778,\"#fb9f3a\"],[0.8888888888888888,\"#fdca26\"],[1.0,\"#f0f921\"]],\"type\":\"histogram2d\"}],\"histogram\":[{\"marker\":{\"pattern\":{\"fillmode\":\"overlay\",\"size\":10,\"solidity\":0.2}},\"type\":\"histogram\"}],\"mesh3d\":[{\"colorbar\":{\"outlinewidth\":0,\"ticks\":\"\"},\"type\":\"mesh3d\"}],\"parcoords\":[{\"line\":{\"colorbar\":{\"outlinewidth\":0,\"ticks\":\"\"}},\"type\":\"parcoords\"}],\"pie\":[{\"automargin\":true,\"type\":\"pie\"}],\"scatter3d\":[{\"line\":{\"colorbar\":{\"outlinewidth\":0,\"ticks\":\"\"}},\"marker\":{\"colorbar\":{\"outlinewidth\":0,\"ticks\":\"\"}},\"type\":\"scatter3d\"}],\"scattercarpet\":[{\"marker\":{\"colorbar\":{\"outlinewidth\":0,\"ticks\":\"\"}},\"type\":\"scattercarpet\"}],\"scattergeo\":[{\"marker\":{\"colorbar\":{\"outlinewidth\":0,\"ticks\":\"\"}},\"type\":\"scattergeo\"}],\"scattergl\":[{\"marker\":{\"colorbar\":{\"outlinewidth\":0,\"ticks\":\"\"}},\"type\":\"scattergl\"}],\"scattermapbox\":[{\"marker\":{\"colorbar\":{\"outlinewidth\":0,\"ticks\":\"\"}},\"type\":\"scattermapbox\"}],\"scatterpolargl\":[{\"marker\":{\"colorbar\":{\"outlinewidth\":0,\"ticks\":\"\"}},\"type\":\"scatterpolargl\"}],\"scatterpolar\":[{\"marker\":{\"colorbar\":{\"outlinewidth\":0,\"ticks\":\"\"}},\"type\":\"scatterpolar\"}],\"scatter\":[{\"marker\":{\"colorbar\":{\"outlinewidth\":0,\"ticks\":\"\"}},\"type\":\"scatter\"}],\"scatterternary\":[{\"marker\":{\"colorbar\":{\"outlinewidth\":0,\"ticks\":\"\"}},\"type\":\"scatterternary\"}],\"surface\":[{\"colorbar\":{\"outlinewidth\":0,\"ticks\":\"\"},\"colorscale\":[[0.0,\"#0d0887\"],[0.1111111111111111,\"#46039f\"],[0.2222222222222222,\"#7201a8\"],[0.3333333333333333,\"#9c179e\"],[0.4444444444444444,\"#bd3786\"],[0.5555555555555556,\"#d8576b\"],[0.6666666666666666,\"#ed7953\"],[0.7777777777777778,\"#fb9f3a\"],[0.8888888888888888,\"#fdca26\"],[1.0,\"#f0f921\"]],\"type\":\"surface\"}],\"table\":[{\"cells\":{\"fill\":{\"color\":\"#EBF0F8\"},\"line\":{\"color\":\"white\"}},\"header\":{\"fill\":{\"color\":\"#C8D4E3\"},\"line\":{\"color\":\"white\"}},\"type\":\"table\"}]},\"layout\":{\"annotationdefaults\":{\"arrowcolor\":\"#2a3f5f\",\"arrowhead\":0,\"arrowwidth\":1},\"autotypenumbers\":\"strict\",\"coloraxis\":{\"colorbar\":{\"outlinewidth\":0,\"ticks\":\"\"}},\"colorscale\":{\"diverging\":[[0,\"#8e0152\"],[0.1,\"#c51b7d\"],[0.2,\"#de77ae\"],[0.3,\"#f1b6da\"],[0.4,\"#fde0ef\"],[0.5,\"#f7f7f7\"],[0.6,\"#e6f5d0\"],[0.7,\"#b8e186\"],[0.8,\"#7fbc41\"],[0.9,\"#4d9221\"],[1,\"#276419\"]],\"sequential\":[[0.0,\"#0d0887\"],[0.1111111111111111,\"#46039f\"],[0.2222222222222222,\"#7201a8\"],[0.3333333333333333,\"#9c179e\"],[0.4444444444444444,\"#bd3786\"],[0.5555555555555556,\"#d8576b\"],[0.6666666666666666,\"#ed7953\"],[0.7777777777777778,\"#fb9f3a\"],[0.8888888888888888,\"#fdca26\"],[1.0,\"#f0f921\"]],\"sequentialminus\":[[0.0,\"#0d0887\"],[0.1111111111111111,\"#46039f\"],[0.2222222222222222,\"#7201a8\"],[0.3333333333333333,\"#9c179e\"],[0.4444444444444444,\"#bd3786\"],[0.5555555555555556,\"#d8576b\"],[0.6666666666666666,\"#ed7953\"],[0.7777777777777778,\"#fb9f3a\"],[0.8888888888888888,\"#fdca26\"],[1.0,\"#f0f921\"]]},\"colorway\":[\"#636efa\",\"#EF553B\",\"#00cc96\",\"#ab63fa\",\"#FFA15A\",\"#19d3f3\",\"#FF6692\",\"#B6E880\",\"#FF97FF\",\"#FECB52\"],\"font\":{\"color\":\"#2a3f5f\"},\"geo\":{\"bgcolor\":\"white\",\"lakecolor\":\"white\",\"landcolor\":\"#E5ECF6\",\"showlakes\":true,\"showland\":true,\"subunitcolor\":\"white\"},\"hoverlabel\":{\"align\":\"left\"},\"hovermode\":\"closest\",\"mapbox\":{\"style\":\"light\"},\"paper_bgcolor\":\"white\",\"plot_bgcolor\":\"#E5ECF6\",\"polar\":{\"angularaxis\":{\"gridcolor\":\"white\",\"linecolor\":\"white\",\"ticks\":\"\"},\"bgcolor\":\"#E5ECF6\",\"radialaxis\":{\"gridcolor\":\"white\",\"linecolor\":\"white\",\"ticks\":\"\"}},\"scene\":{\"xaxis\":{\"backgroundcolor\":\"#E5ECF6\",\"gridcolor\":\"white\",\"gridwidth\":2,\"linecolor\":\"white\",\"showbackground\":true,\"ticks\":\"\",\"zerolinecolor\":\"white\"},\"yaxis\":{\"backgroundcolor\":\"#E5ECF6\",\"gridcolor\":\"white\",\"gridwidth\":2,\"linecolor\":\"white\",\"showbackground\":true,\"ticks\":\"\",\"zerolinecolor\":\"white\"},\"zaxis\":{\"backgroundcolor\":\"#E5ECF6\",\"gridcolor\":\"white\",\"gridwidth\":2,\"linecolor\":\"white\",\"showbackground\":true,\"ticks\":\"\",\"zerolinecolor\":\"white\"}},\"shapedefaults\":{\"line\":{\"color\":\"#2a3f5f\"}},\"ternary\":{\"aaxis\":{\"gridcolor\":\"white\",\"linecolor\":\"white\",\"ticks\":\"\"},\"baxis\":{\"gridcolor\":\"white\",\"linecolor\":\"white\",\"ticks\":\"\"},\"bgcolor\":\"#E5ECF6\",\"caxis\":{\"gridcolor\":\"white\",\"linecolor\":\"white\",\"ticks\":\"\"}},\"title\":{\"x\":0.05},\"xaxis\":{\"automargin\":true,\"gridcolor\":\"white\",\"linecolor\":\"white\",\"ticks\":\"\",\"title\":{\"standoff\":15},\"zerolinecolor\":\"white\",\"zerolinewidth\":2},\"yaxis\":{\"automargin\":true,\"gridcolor\":\"white\",\"linecolor\":\"white\",\"ticks\":\"\",\"title\":{\"standoff\":15},\"zerolinecolor\":\"white\",\"zerolinewidth\":2}}},\"title\":{\"text\":\"Churn distribution per state\"},\"xaxis\":{\"tickangle\":45,\"title\":{\"text\":\"state\"}},\"yaxis\":{\"automargin\":true,\"title\":{\"text\":\"#samples\"}}},                        {\"responsive\": true}                    ).then(function(){\n",
       "                            \n",
       "var gd = document.getElementById('259c860c-0ba7-4f74-87ad-ce3b285a062d');\n",
       "var x = new MutationObserver(function (mutations, observer) {{\n",
       "        var display = window.getComputedStyle(gd).display;\n",
       "        if (!display || display === 'none') {{\n",
       "            console.log([gd, 'removed!']);\n",
       "            Plotly.purge(gd);\n",
       "            observer.disconnect();\n",
       "        }}\n",
       "}});\n",
       "\n",
       "// Listen for the removal of the full notebook cells\n",
       "var notebookContainer = gd.closest('#notebook-container');\n",
       "if (notebookContainer) {{\n",
       "    x.observe(notebookContainer, {childList: true});\n",
       "}}\n",
       "\n",
       "// Listen for the clearing of the current output cell\n",
       "var outputEl = gd.closest('.output');\n",
       "if (outputEl) {{\n",
       "    x.observe(outputEl, {childList: true});\n",
       "}}\n",
       "\n",
       "                        })                };                });            </script>        </div>"
      ]
     },
     "metadata": {},
     "output_type": "display_data"
    }
   ],
   "source": [
    "state_churn_df = df.groupby([\"state\", \"churn\"]).size().unstack()\n",
    "trace1 = go.Bar(\n",
    "    x=state_churn_df.index,\n",
    "    y=state_churn_df[0],\n",
    "    marker = dict(color = colors[0]),\n",
    "    name='no churn'\n",
    ")\n",
    "trace2 = go.Bar(\n",
    "    x=state_churn_df.index,\n",
    "    y=state_churn_df[1],\n",
    "    marker = dict(color = colors[1]),\n",
    "    name='churn'\n",
    ")\n",
    "data = [trace1, trace2]\n",
    "layout = go.Layout(\n",
    "    title='Churn distribution per state',\n",
    "    autosize=True,\n",
    "    barmode='stack',\n",
    "    margin=go.layout.Margin(l=50, r=50),\n",
    "    xaxis=dict(\n",
    "        title='state',\n",
    "        tickangle=45\n",
    "    ),\n",
    "    yaxis=dict(\n",
    "        title='#samples',\n",
    "        automargin=True,\n",
    "    ),\n",
    "    legend=dict(\n",
    "        x=0,\n",
    "        y=1,\n",
    "    ),\n",
    ")\n",
    "fig = go.Figure(data=data, layout=layout)\n",
    "iplot(fig, filename='stacked-bar')"
   ]
  },
  {
   "cell_type": "markdown",
   "id": "67ad2452",
   "metadata": {},
   "source": [
    "We can see some states have a higher proportion of churn than others such as NJ, CA, TX, SC, MD, SC, MI, MS, NV, WA, ME, MT, AR. Others have a low churn rate. We should incorporate the state into our analysis to help predict if the customer is going to churn."
   ]
  },
  {
   "cell_type": "code",
   "execution_count": 14,
   "id": "d9c32105",
   "metadata": {},
   "outputs": [
    {
     "data": {
      "text/plain": [
       "['NJ', 'CA', 'TX', 'MD', 'SC', 'MI', 'MS', 'NV', 'WA', 'ME', 'MT', 'AR']"
      ]
     },
     "execution_count": 14,
     "metadata": {},
     "output_type": "execute_result"
    }
   ],
   "source": [
    "high_churn = churn_rate_state.loc[churn_rate_state['percent'] >= .2]\n",
    "state_high_churn = list(high_churn['state'])\n",
    "state_high_churn"
   ]
  },
  {
   "cell_type": "code",
   "execution_count": 15,
   "id": "094ce567",
   "metadata": {},
   "outputs": [
    {
     "data": {
      "text/plain": [
       "['KS', 'NY', 'MN', 'PA', 'MA', 'CT', 'NC', 'NH']"
      ]
     },
     "execution_count": 15,
     "metadata": {},
     "output_type": "execute_result"
    }
   ],
   "source": [
    "# category for mid churn rates\n",
    "mid_churn = churn_rate_state.loc[(churn_rate_state['percent'] < .2)&(churn_rate_state['percent'] >=.15)]\n",
    "mid_churn_states = list(mid_churn['state'])\n",
    "mid_churn_states"
   ]
  },
  {
   "cell_type": "code",
   "execution_count": 16,
   "id": "f2451049",
   "metadata": {},
   "outputs": [
    {
     "data": {
      "text/plain": [
       "['KS', 'NY', 'MN', 'PA', 'MA', 'CT', 'NC', 'NH']"
      ]
     },
     "execution_count": 16,
     "metadata": {},
     "output_type": "execute_result"
    }
   ],
   "source": [
    "# category for mid churn rates\n",
    "mid_churn = churn_rate_state.loc[(churn_rate_state['percent'] < .2)&(churn_rate_state['percent'] >=.15)]\n",
    "mid_churn_states = list(mid_churn['state'])\n",
    "mid_churn_states"
   ]
  },
  {
   "cell_type": "code",
   "execution_count": 17,
   "id": "622eb03f",
   "metadata": {},
   "outputs": [
    {
     "data": {
      "text/plain": [
       "['GA',\n",
       " 'DE',\n",
       " 'OK',\n",
       " 'OR',\n",
       " 'UT',\n",
       " 'CO',\n",
       " 'KY',\n",
       " 'SD',\n",
       " 'OH',\n",
       " 'FL',\n",
       " 'IN',\n",
       " 'ID',\n",
       " 'WY',\n",
       " 'MO',\n",
       " 'VT',\n",
       " 'AL']"
      ]
     },
     "execution_count": 17,
     "metadata": {},
     "output_type": "execute_result"
    }
   ],
   "source": [
    "# lower churn rate states category\n",
    "mid_low_churn = churn_rate_state.loc[(churn_rate_state['percent'] <.15)&(churn_rate_state['percent'] >= .1)]\n",
    "mid_low_churn_states = list(mid_low_churn['state'])\n",
    "mid_low_churn_states"
   ]
  },
  {
   "cell_type": "code",
   "execution_count": 18,
   "id": "accbed54",
   "metadata": {},
   "outputs": [
    {
     "data": {
      "text/plain": [
       "['NM',\n",
       " 'ND',\n",
       " 'WV',\n",
       " 'TN',\n",
       " 'DC',\n",
       " 'RI',\n",
       " 'WI',\n",
       " 'IL',\n",
       " 'NE',\n",
       " 'LA',\n",
       " 'IA',\n",
       " 'VA',\n",
       " 'AZ',\n",
       " 'AK',\n",
       " 'HI']"
      ]
     },
     "execution_count": 18,
     "metadata": {},
     "output_type": "execute_result"
    }
   ],
   "source": [
    "low_churn = churn_rate_state.loc[churn_rate_state['percent'] <.1]\n",
    "low_churn_states = list(low_churn['state'])\n",
    "low_churn_states"
   ]
  },
  {
   "cell_type": "code",
   "execution_count": 19,
   "id": "c71b04da",
   "metadata": {},
   "outputs": [],
   "source": [
    "# assign states to high, medium, medium-low and low churn rate categories\n",
    "\n",
    "def categorize(state):\n",
    "    if state in state_high_churn:\n",
    "        state = 'high'\n",
    "    elif state in mid_churn_states:\n",
    "        state='med'\n",
    "    elif state in mid_low_churn_states:\n",
    "        state = 'med-low'\n",
    "    else:\n",
    "         state = 'low'\n",
    "    return state"
   ]
  },
  {
   "cell_type": "code",
   "execution_count": 20,
   "id": "f2cb9552",
   "metadata": {},
   "outputs": [],
   "source": [
    "def competition(df):\n",
    "\n",
    "    df[\"state_churn_rate\"] = df['state'].apply(categorize)\n",
    "    return df"
   ]
  },
  {
   "cell_type": "code",
   "execution_count": 21,
   "id": "4dd12a60",
   "metadata": {},
   "outputs": [
    {
     "data": {
      "text/html": [
       "<div>\n",
       "<style scoped>\n",
       "    .dataframe tbody tr th:only-of-type {\n",
       "        vertical-align: middle;\n",
       "    }\n",
       "\n",
       "    .dataframe tbody tr th {\n",
       "        vertical-align: top;\n",
       "    }\n",
       "\n",
       "    .dataframe thead th {\n",
       "        text-align: right;\n",
       "    }\n",
       "</style>\n",
       "<table border=\"1\" class=\"dataframe\">\n",
       "  <thead>\n",
       "    <tr style=\"text-align: right;\">\n",
       "      <th></th>\n",
       "      <th>state</th>\n",
       "      <th>account length</th>\n",
       "      <th>area code</th>\n",
       "      <th>phone number</th>\n",
       "      <th>international plan</th>\n",
       "      <th>voice mail plan</th>\n",
       "      <th>number vmail messages</th>\n",
       "      <th>total day minutes</th>\n",
       "      <th>total day calls</th>\n",
       "      <th>total day charge</th>\n",
       "      <th>total eve minutes</th>\n",
       "      <th>total eve calls</th>\n",
       "      <th>total eve charge</th>\n",
       "      <th>total night minutes</th>\n",
       "      <th>total night calls</th>\n",
       "      <th>total night charge</th>\n",
       "      <th>total intl minutes</th>\n",
       "      <th>total intl calls</th>\n",
       "      <th>total intl charge</th>\n",
       "      <th>customer service calls</th>\n",
       "      <th>churn</th>\n",
       "      <th>state_churn_rate</th>\n",
       "    </tr>\n",
       "  </thead>\n",
       "  <tbody>\n",
       "    <tr>\n",
       "      <th>0</th>\n",
       "      <td>KS</td>\n",
       "      <td>128</td>\n",
       "      <td>415</td>\n",
       "      <td>382-4657</td>\n",
       "      <td>no</td>\n",
       "      <td>yes</td>\n",
       "      <td>25</td>\n",
       "      <td>265.1</td>\n",
       "      <td>110</td>\n",
       "      <td>45.07</td>\n",
       "      <td>197.4</td>\n",
       "      <td>99</td>\n",
       "      <td>16.78</td>\n",
       "      <td>244.7</td>\n",
       "      <td>91</td>\n",
       "      <td>11.01</td>\n",
       "      <td>10.0</td>\n",
       "      <td>3</td>\n",
       "      <td>2.70</td>\n",
       "      <td>1</td>\n",
       "      <td>False</td>\n",
       "      <td>med</td>\n",
       "    </tr>\n",
       "    <tr>\n",
       "      <th>1</th>\n",
       "      <td>OH</td>\n",
       "      <td>107</td>\n",
       "      <td>415</td>\n",
       "      <td>371-7191</td>\n",
       "      <td>no</td>\n",
       "      <td>yes</td>\n",
       "      <td>26</td>\n",
       "      <td>161.6</td>\n",
       "      <td>123</td>\n",
       "      <td>27.47</td>\n",
       "      <td>195.5</td>\n",
       "      <td>103</td>\n",
       "      <td>16.62</td>\n",
       "      <td>254.4</td>\n",
       "      <td>103</td>\n",
       "      <td>11.45</td>\n",
       "      <td>13.7</td>\n",
       "      <td>3</td>\n",
       "      <td>3.70</td>\n",
       "      <td>1</td>\n",
       "      <td>False</td>\n",
       "      <td>med-low</td>\n",
       "    </tr>\n",
       "    <tr>\n",
       "      <th>2</th>\n",
       "      <td>NJ</td>\n",
       "      <td>137</td>\n",
       "      <td>415</td>\n",
       "      <td>358-1921</td>\n",
       "      <td>no</td>\n",
       "      <td>no</td>\n",
       "      <td>0</td>\n",
       "      <td>243.4</td>\n",
       "      <td>114</td>\n",
       "      <td>41.38</td>\n",
       "      <td>121.2</td>\n",
       "      <td>110</td>\n",
       "      <td>10.30</td>\n",
       "      <td>162.6</td>\n",
       "      <td>104</td>\n",
       "      <td>7.32</td>\n",
       "      <td>12.2</td>\n",
       "      <td>5</td>\n",
       "      <td>3.29</td>\n",
       "      <td>0</td>\n",
       "      <td>False</td>\n",
       "      <td>high</td>\n",
       "    </tr>\n",
       "    <tr>\n",
       "      <th>3</th>\n",
       "      <td>OH</td>\n",
       "      <td>84</td>\n",
       "      <td>408</td>\n",
       "      <td>375-9999</td>\n",
       "      <td>yes</td>\n",
       "      <td>no</td>\n",
       "      <td>0</td>\n",
       "      <td>299.4</td>\n",
       "      <td>71</td>\n",
       "      <td>50.90</td>\n",
       "      <td>61.9</td>\n",
       "      <td>88</td>\n",
       "      <td>5.26</td>\n",
       "      <td>196.9</td>\n",
       "      <td>89</td>\n",
       "      <td>8.86</td>\n",
       "      <td>6.6</td>\n",
       "      <td>7</td>\n",
       "      <td>1.78</td>\n",
       "      <td>2</td>\n",
       "      <td>False</td>\n",
       "      <td>med-low</td>\n",
       "    </tr>\n",
       "    <tr>\n",
       "      <th>4</th>\n",
       "      <td>OK</td>\n",
       "      <td>75</td>\n",
       "      <td>415</td>\n",
       "      <td>330-6626</td>\n",
       "      <td>yes</td>\n",
       "      <td>no</td>\n",
       "      <td>0</td>\n",
       "      <td>166.7</td>\n",
       "      <td>113</td>\n",
       "      <td>28.34</td>\n",
       "      <td>148.3</td>\n",
       "      <td>122</td>\n",
       "      <td>12.61</td>\n",
       "      <td>186.9</td>\n",
       "      <td>121</td>\n",
       "      <td>8.41</td>\n",
       "      <td>10.1</td>\n",
       "      <td>3</td>\n",
       "      <td>2.73</td>\n",
       "      <td>3</td>\n",
       "      <td>False</td>\n",
       "      <td>med-low</td>\n",
       "    </tr>\n",
       "    <tr>\n",
       "      <th>...</th>\n",
       "      <td>...</td>\n",
       "      <td>...</td>\n",
       "      <td>...</td>\n",
       "      <td>...</td>\n",
       "      <td>...</td>\n",
       "      <td>...</td>\n",
       "      <td>...</td>\n",
       "      <td>...</td>\n",
       "      <td>...</td>\n",
       "      <td>...</td>\n",
       "      <td>...</td>\n",
       "      <td>...</td>\n",
       "      <td>...</td>\n",
       "      <td>...</td>\n",
       "      <td>...</td>\n",
       "      <td>...</td>\n",
       "      <td>...</td>\n",
       "      <td>...</td>\n",
       "      <td>...</td>\n",
       "      <td>...</td>\n",
       "      <td>...</td>\n",
       "      <td>...</td>\n",
       "    </tr>\n",
       "    <tr>\n",
       "      <th>3328</th>\n",
       "      <td>AZ</td>\n",
       "      <td>192</td>\n",
       "      <td>415</td>\n",
       "      <td>414-4276</td>\n",
       "      <td>no</td>\n",
       "      <td>yes</td>\n",
       "      <td>36</td>\n",
       "      <td>156.2</td>\n",
       "      <td>77</td>\n",
       "      <td>26.55</td>\n",
       "      <td>215.5</td>\n",
       "      <td>126</td>\n",
       "      <td>18.32</td>\n",
       "      <td>279.1</td>\n",
       "      <td>83</td>\n",
       "      <td>12.56</td>\n",
       "      <td>9.9</td>\n",
       "      <td>6</td>\n",
       "      <td>2.67</td>\n",
       "      <td>2</td>\n",
       "      <td>False</td>\n",
       "      <td>low</td>\n",
       "    </tr>\n",
       "    <tr>\n",
       "      <th>3329</th>\n",
       "      <td>WV</td>\n",
       "      <td>68</td>\n",
       "      <td>415</td>\n",
       "      <td>370-3271</td>\n",
       "      <td>no</td>\n",
       "      <td>no</td>\n",
       "      <td>0</td>\n",
       "      <td>231.1</td>\n",
       "      <td>57</td>\n",
       "      <td>39.29</td>\n",
       "      <td>153.4</td>\n",
       "      <td>55</td>\n",
       "      <td>13.04</td>\n",
       "      <td>191.3</td>\n",
       "      <td>123</td>\n",
       "      <td>8.61</td>\n",
       "      <td>9.6</td>\n",
       "      <td>4</td>\n",
       "      <td>2.59</td>\n",
       "      <td>3</td>\n",
       "      <td>False</td>\n",
       "      <td>low</td>\n",
       "    </tr>\n",
       "    <tr>\n",
       "      <th>3330</th>\n",
       "      <td>RI</td>\n",
       "      <td>28</td>\n",
       "      <td>510</td>\n",
       "      <td>328-8230</td>\n",
       "      <td>no</td>\n",
       "      <td>no</td>\n",
       "      <td>0</td>\n",
       "      <td>180.8</td>\n",
       "      <td>109</td>\n",
       "      <td>30.74</td>\n",
       "      <td>288.8</td>\n",
       "      <td>58</td>\n",
       "      <td>24.55</td>\n",
       "      <td>191.9</td>\n",
       "      <td>91</td>\n",
       "      <td>8.64</td>\n",
       "      <td>14.1</td>\n",
       "      <td>6</td>\n",
       "      <td>3.81</td>\n",
       "      <td>2</td>\n",
       "      <td>False</td>\n",
       "      <td>low</td>\n",
       "    </tr>\n",
       "    <tr>\n",
       "      <th>3331</th>\n",
       "      <td>CT</td>\n",
       "      <td>184</td>\n",
       "      <td>510</td>\n",
       "      <td>364-6381</td>\n",
       "      <td>yes</td>\n",
       "      <td>no</td>\n",
       "      <td>0</td>\n",
       "      <td>213.8</td>\n",
       "      <td>105</td>\n",
       "      <td>36.35</td>\n",
       "      <td>159.6</td>\n",
       "      <td>84</td>\n",
       "      <td>13.57</td>\n",
       "      <td>139.2</td>\n",
       "      <td>137</td>\n",
       "      <td>6.26</td>\n",
       "      <td>5.0</td>\n",
       "      <td>10</td>\n",
       "      <td>1.35</td>\n",
       "      <td>2</td>\n",
       "      <td>False</td>\n",
       "      <td>med</td>\n",
       "    </tr>\n",
       "    <tr>\n",
       "      <th>3332</th>\n",
       "      <td>TN</td>\n",
       "      <td>74</td>\n",
       "      <td>415</td>\n",
       "      <td>400-4344</td>\n",
       "      <td>no</td>\n",
       "      <td>yes</td>\n",
       "      <td>25</td>\n",
       "      <td>234.4</td>\n",
       "      <td>113</td>\n",
       "      <td>39.85</td>\n",
       "      <td>265.9</td>\n",
       "      <td>82</td>\n",
       "      <td>22.60</td>\n",
       "      <td>241.4</td>\n",
       "      <td>77</td>\n",
       "      <td>10.86</td>\n",
       "      <td>13.7</td>\n",
       "      <td>4</td>\n",
       "      <td>3.70</td>\n",
       "      <td>0</td>\n",
       "      <td>False</td>\n",
       "      <td>low</td>\n",
       "    </tr>\n",
       "  </tbody>\n",
       "</table>\n",
       "<p>3333 rows × 22 columns</p>\n",
       "</div>"
      ],
      "text/plain": [
       "     state  account length  area code phone number international plan  \\\n",
       "0       KS             128        415     382-4657                 no   \n",
       "1       OH             107        415     371-7191                 no   \n",
       "2       NJ             137        415     358-1921                 no   \n",
       "3       OH              84        408     375-9999                yes   \n",
       "4       OK              75        415     330-6626                yes   \n",
       "...    ...             ...        ...          ...                ...   \n",
       "3328    AZ             192        415     414-4276                 no   \n",
       "3329    WV              68        415     370-3271                 no   \n",
       "3330    RI              28        510     328-8230                 no   \n",
       "3331    CT             184        510     364-6381                yes   \n",
       "3332    TN              74        415     400-4344                 no   \n",
       "\n",
       "     voice mail plan  number vmail messages  total day minutes  \\\n",
       "0                yes                     25              265.1   \n",
       "1                yes                     26              161.6   \n",
       "2                 no                      0              243.4   \n",
       "3                 no                      0              299.4   \n",
       "4                 no                      0              166.7   \n",
       "...              ...                    ...                ...   \n",
       "3328             yes                     36              156.2   \n",
       "3329              no                      0              231.1   \n",
       "3330              no                      0              180.8   \n",
       "3331              no                      0              213.8   \n",
       "3332             yes                     25              234.4   \n",
       "\n",
       "      total day calls  total day charge  total eve minutes  total eve calls  \\\n",
       "0                 110             45.07              197.4               99   \n",
       "1                 123             27.47              195.5              103   \n",
       "2                 114             41.38              121.2              110   \n",
       "3                  71             50.90               61.9               88   \n",
       "4                 113             28.34              148.3              122   \n",
       "...               ...               ...                ...              ...   \n",
       "3328               77             26.55              215.5              126   \n",
       "3329               57             39.29              153.4               55   \n",
       "3330              109             30.74              288.8               58   \n",
       "3331              105             36.35              159.6               84   \n",
       "3332              113             39.85              265.9               82   \n",
       "\n",
       "      total eve charge  total night minutes  total night calls  \\\n",
       "0                16.78                244.7                 91   \n",
       "1                16.62                254.4                103   \n",
       "2                10.30                162.6                104   \n",
       "3                 5.26                196.9                 89   \n",
       "4                12.61                186.9                121   \n",
       "...                ...                  ...                ...   \n",
       "3328             18.32                279.1                 83   \n",
       "3329             13.04                191.3                123   \n",
       "3330             24.55                191.9                 91   \n",
       "3331             13.57                139.2                137   \n",
       "3332             22.60                241.4                 77   \n",
       "\n",
       "      total night charge  total intl minutes  total intl calls  \\\n",
       "0                  11.01                10.0                 3   \n",
       "1                  11.45                13.7                 3   \n",
       "2                   7.32                12.2                 5   \n",
       "3                   8.86                 6.6                 7   \n",
       "4                   8.41                10.1                 3   \n",
       "...                  ...                 ...               ...   \n",
       "3328               12.56                 9.9                 6   \n",
       "3329                8.61                 9.6                 4   \n",
       "3330                8.64                14.1                 6   \n",
       "3331                6.26                 5.0                10   \n",
       "3332               10.86                13.7                 4   \n",
       "\n",
       "      total intl charge  customer service calls  churn state_churn_rate  \n",
       "0                  2.70                       1  False              med  \n",
       "1                  3.70                       1  False          med-low  \n",
       "2                  3.29                       0  False             high  \n",
       "3                  1.78                       2  False          med-low  \n",
       "4                  2.73                       3  False          med-low  \n",
       "...                 ...                     ...    ...              ...  \n",
       "3328               2.67                       2  False              low  \n",
       "3329               2.59                       3  False              low  \n",
       "3330               3.81                       2  False              low  \n",
       "3331               1.35                       2  False              med  \n",
       "3332               3.70                       0  False              low  \n",
       "\n",
       "[3333 rows x 22 columns]"
      ]
     },
     "execution_count": 21,
     "metadata": {},
     "output_type": "execute_result"
    }
   ],
   "source": [
    "competition(df)"
   ]
  },
  {
   "cell_type": "code",
   "execution_count": 22,
   "id": "805b2ffe",
   "metadata": {},
   "outputs": [],
   "source": [
    "# Finding the total domestic minutes for each customer\n",
    "combine_col(\"total_dom_minutes\",\n",
    "           df['total day minutes'],\n",
    "           df['total eve minutes'],\n",
    "           df['total night minutes'])"
   ]
  },
  {
   "cell_type": "code",
   "execution_count": 23,
   "id": "1449116b",
   "metadata": {},
   "outputs": [],
   "source": [
    "# Finding the total domestic charges for each customer\n",
    "combine_col('total_dom_charges',\n",
    "           df['total day charge'],\n",
    "           df['total eve charge'],\n",
    "           df['total night charge'])"
   ]
  },
  {
   "cell_type": "markdown",
   "id": "fe556d56",
   "metadata": {},
   "source": [
    "# 3. Data Cleaning"
   ]
  },
  {
   "cell_type": "code",
   "execution_count": 24,
   "id": "571ac7a1",
   "metadata": {
    "scrolled": false
   },
   "outputs": [
    {
     "data": {
      "text/plain": [
       "state                     0\n",
       "account length            0\n",
       "area code                 0\n",
       "phone number              0\n",
       "international plan        0\n",
       "voice mail plan           0\n",
       "number vmail messages     0\n",
       "total day minutes         0\n",
       "total day calls           0\n",
       "total day charge          0\n",
       "total eve minutes         0\n",
       "total eve calls           0\n",
       "total eve charge          0\n",
       "total night minutes       0\n",
       "total night calls         0\n",
       "total night charge        0\n",
       "total intl minutes        0\n",
       "total intl calls          0\n",
       "total intl charge         0\n",
       "customer service calls    0\n",
       "churn                     0\n",
       "state_churn_rate          0\n",
       "total_dom_minutes         0\n",
       "total_dom_charges         0\n",
       "dtype: int64"
      ]
     },
     "execution_count": 24,
     "metadata": {},
     "output_type": "execute_result"
    }
   ],
   "source": [
    "#check for missing values\n",
    "df.isnull().sum()"
   ]
  },
  {
   "cell_type": "markdown",
   "id": "28f7a1a3",
   "metadata": {},
   "source": [
    "#### No Missing values observed"
   ]
  },
  {
   "cell_type": "code",
   "execution_count": 25,
   "id": "97bd26d1",
   "metadata": {},
   "outputs": [
    {
     "data": {
      "text/plain": [
       "0"
      ]
     },
     "execution_count": 25,
     "metadata": {},
     "output_type": "execute_result"
    }
   ],
   "source": [
    "# check for duplicated rows\n",
    "df.duplicated().sum()"
   ]
  },
  {
   "cell_type": "markdown",
   "id": "091d978b",
   "metadata": {},
   "source": [
    "#### No dulicated rows observed"
   ]
  },
  {
   "cell_type": "code",
   "execution_count": 26,
   "id": "cd318302",
   "metadata": {},
   "outputs": [
    {
     "data": {
      "text/plain": [
       "account length            0.096606\n",
       "area code                 1.126823\n",
       "number vmail messages     1.264824\n",
       "total day minutes        -0.029077\n",
       "total day calls          -0.111787\n",
       "total day charge         -0.029083\n",
       "total eve minutes        -0.023877\n",
       "total eve calls          -0.055563\n",
       "total eve charge         -0.023858\n",
       "total night minutes       0.008921\n",
       "total night calls         0.032500\n",
       "total night charge        0.008886\n",
       "total intl minutes       -0.245136\n",
       "total intl calls          1.321478\n",
       "total intl charge        -0.245287\n",
       "customer service calls    1.091359\n",
       "churn                     2.018356\n",
       "total_dom_minutes        -0.036998\n",
       "total_dom_charges        -0.033641\n",
       "dtype: float64"
      ]
     },
     "execution_count": 26,
     "metadata": {},
     "output_type": "execute_result"
    }
   ],
   "source": [
    "# check for outliers\n",
    "df.skew()"
   ]
  },
  {
   "cell_type": "markdown",
   "id": "edf6e00b",
   "metadata": {},
   "source": [
    "* churn has a high positive correlation with 'customer service calls' and 'area code' has a positive correlation with 'total intl calls'. "
   ]
  },
  {
   "cell_type": "markdown",
   "id": "1334e6e9",
   "metadata": {},
   "source": [
    "* churn has a high positive correlation with 'customer service calls' and 'area code' has a positive correlation with 'total intl calls'. "
   ]
  },
  {
   "cell_type": "markdown",
   "id": "35269505",
   "metadata": {},
   "source": [
    "# 4. Feature Engineering\n",
    "## Feature Extraction"
   ]
  },
  {
   "cell_type": "code",
   "execution_count": 27,
   "id": "0f934ac2",
   "metadata": {},
   "outputs": [
    {
     "data": {
      "text/plain": [
       "count    3333.000000\n",
       "mean        8.099010\n",
       "std        13.688365\n",
       "min         0.000000\n",
       "25%         0.000000\n",
       "50%         0.000000\n",
       "75%        20.000000\n",
       "max        51.000000\n",
       "Name: number vmail messages, dtype: float64"
      ]
     },
     "execution_count": 27,
     "metadata": {},
     "output_type": "execute_result"
    }
   ],
   "source": [
    "df['number vmail messages'].describe()"
   ]
  },
  {
   "cell_type": "code",
   "execution_count": 28,
   "id": "6a16bddd",
   "metadata": {},
   "outputs": [
    {
     "data": {
      "text/plain": [
       "count    922.000000\n",
       "mean      29.277657\n",
       "std        7.559027\n",
       "min        4.000000\n",
       "25%       24.000000\n",
       "50%       29.000000\n",
       "75%       34.000000\n",
       "max       51.000000\n",
       "Name: number vmail messages, dtype: float64"
      ]
     },
     "execution_count": 28,
     "metadata": {},
     "output_type": "execute_result"
    }
   ],
   "source": [
    "df['number vmail messages'][df['number vmail messages']>0].describe()"
   ]
  },
  {
   "cell_type": "code",
   "execution_count": 29,
   "id": "1a9bf5c1",
   "metadata": {},
   "outputs": [
    {
     "data": {
      "text/html": [
       "<div>\n",
       "<style scoped>\n",
       "    .dataframe tbody tr th:only-of-type {\n",
       "        vertical-align: middle;\n",
       "    }\n",
       "\n",
       "    .dataframe tbody tr th {\n",
       "        vertical-align: top;\n",
       "    }\n",
       "\n",
       "    .dataframe thead th {\n",
       "        text-align: right;\n",
       "    }\n",
       "</style>\n",
       "<table border=\"1\" class=\"dataframe\">\n",
       "  <thead>\n",
       "    <tr style=\"text-align: right;\">\n",
       "      <th></th>\n",
       "      <th>state</th>\n",
       "      <th>account length</th>\n",
       "      <th>area code</th>\n",
       "      <th>phone number</th>\n",
       "      <th>international plan</th>\n",
       "      <th>voice mail plan</th>\n",
       "      <th>number vmail messages</th>\n",
       "      <th>total day minutes</th>\n",
       "      <th>total day calls</th>\n",
       "      <th>total day charge</th>\n",
       "      <th>total eve minutes</th>\n",
       "      <th>total eve calls</th>\n",
       "      <th>total eve charge</th>\n",
       "      <th>total night minutes</th>\n",
       "      <th>total night calls</th>\n",
       "      <th>total night charge</th>\n",
       "      <th>total intl minutes</th>\n",
       "      <th>total intl calls</th>\n",
       "      <th>total intl charge</th>\n",
       "      <th>customer service calls</th>\n",
       "      <th>churn</th>\n",
       "      <th>state_churn_rate</th>\n",
       "      <th>total_dom_minutes</th>\n",
       "      <th>total_dom_charges</th>\n",
       "      <th>vmail_messages</th>\n",
       "    </tr>\n",
       "  </thead>\n",
       "  <tbody>\n",
       "    <tr>\n",
       "      <th>0</th>\n",
       "      <td>KS</td>\n",
       "      <td>128</td>\n",
       "      <td>415</td>\n",
       "      <td>382-4657</td>\n",
       "      <td>no</td>\n",
       "      <td>yes</td>\n",
       "      <td>25</td>\n",
       "      <td>265.1</td>\n",
       "      <td>110</td>\n",
       "      <td>45.07</td>\n",
       "      <td>197.4</td>\n",
       "      <td>99</td>\n",
       "      <td>16.78</td>\n",
       "      <td>244.7</td>\n",
       "      <td>91</td>\n",
       "      <td>11.01</td>\n",
       "      <td>10.0</td>\n",
       "      <td>3</td>\n",
       "      <td>2.70</td>\n",
       "      <td>1</td>\n",
       "      <td>False</td>\n",
       "      <td>med</td>\n",
       "      <td>707.2</td>\n",
       "      <td>72.86</td>\n",
       "      <td>Normal Users</td>\n",
       "    </tr>\n",
       "    <tr>\n",
       "      <th>1</th>\n",
       "      <td>OH</td>\n",
       "      <td>107</td>\n",
       "      <td>415</td>\n",
       "      <td>371-7191</td>\n",
       "      <td>no</td>\n",
       "      <td>yes</td>\n",
       "      <td>26</td>\n",
       "      <td>161.6</td>\n",
       "      <td>123</td>\n",
       "      <td>27.47</td>\n",
       "      <td>195.5</td>\n",
       "      <td>103</td>\n",
       "      <td>16.62</td>\n",
       "      <td>254.4</td>\n",
       "      <td>103</td>\n",
       "      <td>11.45</td>\n",
       "      <td>13.7</td>\n",
       "      <td>3</td>\n",
       "      <td>3.70</td>\n",
       "      <td>1</td>\n",
       "      <td>False</td>\n",
       "      <td>med-low</td>\n",
       "      <td>611.5</td>\n",
       "      <td>55.54</td>\n",
       "      <td>Normal Users</td>\n",
       "    </tr>\n",
       "    <tr>\n",
       "      <th>2</th>\n",
       "      <td>NJ</td>\n",
       "      <td>137</td>\n",
       "      <td>415</td>\n",
       "      <td>358-1921</td>\n",
       "      <td>no</td>\n",
       "      <td>no</td>\n",
       "      <td>0</td>\n",
       "      <td>243.4</td>\n",
       "      <td>114</td>\n",
       "      <td>41.38</td>\n",
       "      <td>121.2</td>\n",
       "      <td>110</td>\n",
       "      <td>10.30</td>\n",
       "      <td>162.6</td>\n",
       "      <td>104</td>\n",
       "      <td>7.32</td>\n",
       "      <td>12.2</td>\n",
       "      <td>5</td>\n",
       "      <td>3.29</td>\n",
       "      <td>0</td>\n",
       "      <td>False</td>\n",
       "      <td>high</td>\n",
       "      <td>527.2</td>\n",
       "      <td>59.00</td>\n",
       "      <td>No VM plan</td>\n",
       "    </tr>\n",
       "    <tr>\n",
       "      <th>3</th>\n",
       "      <td>OH</td>\n",
       "      <td>84</td>\n",
       "      <td>408</td>\n",
       "      <td>375-9999</td>\n",
       "      <td>yes</td>\n",
       "      <td>no</td>\n",
       "      <td>0</td>\n",
       "      <td>299.4</td>\n",
       "      <td>71</td>\n",
       "      <td>50.90</td>\n",
       "      <td>61.9</td>\n",
       "      <td>88</td>\n",
       "      <td>5.26</td>\n",
       "      <td>196.9</td>\n",
       "      <td>89</td>\n",
       "      <td>8.86</td>\n",
       "      <td>6.6</td>\n",
       "      <td>7</td>\n",
       "      <td>1.78</td>\n",
       "      <td>2</td>\n",
       "      <td>False</td>\n",
       "      <td>med-low</td>\n",
       "      <td>558.2</td>\n",
       "      <td>65.02</td>\n",
       "      <td>No VM plan</td>\n",
       "    </tr>\n",
       "    <tr>\n",
       "      <th>4</th>\n",
       "      <td>OK</td>\n",
       "      <td>75</td>\n",
       "      <td>415</td>\n",
       "      <td>330-6626</td>\n",
       "      <td>yes</td>\n",
       "      <td>no</td>\n",
       "      <td>0</td>\n",
       "      <td>166.7</td>\n",
       "      <td>113</td>\n",
       "      <td>28.34</td>\n",
       "      <td>148.3</td>\n",
       "      <td>122</td>\n",
       "      <td>12.61</td>\n",
       "      <td>186.9</td>\n",
       "      <td>121</td>\n",
       "      <td>8.41</td>\n",
       "      <td>10.1</td>\n",
       "      <td>3</td>\n",
       "      <td>2.73</td>\n",
       "      <td>3</td>\n",
       "      <td>False</td>\n",
       "      <td>med-low</td>\n",
       "      <td>501.9</td>\n",
       "      <td>49.36</td>\n",
       "      <td>No VM plan</td>\n",
       "    </tr>\n",
       "    <tr>\n",
       "      <th>5</th>\n",
       "      <td>AL</td>\n",
       "      <td>118</td>\n",
       "      <td>510</td>\n",
       "      <td>391-8027</td>\n",
       "      <td>yes</td>\n",
       "      <td>no</td>\n",
       "      <td>0</td>\n",
       "      <td>223.4</td>\n",
       "      <td>98</td>\n",
       "      <td>37.98</td>\n",
       "      <td>220.6</td>\n",
       "      <td>101</td>\n",
       "      <td>18.75</td>\n",
       "      <td>203.9</td>\n",
       "      <td>118</td>\n",
       "      <td>9.18</td>\n",
       "      <td>6.3</td>\n",
       "      <td>6</td>\n",
       "      <td>1.70</td>\n",
       "      <td>0</td>\n",
       "      <td>False</td>\n",
       "      <td>med-low</td>\n",
       "      <td>647.9</td>\n",
       "      <td>65.91</td>\n",
       "      <td>No VM plan</td>\n",
       "    </tr>\n",
       "    <tr>\n",
       "      <th>6</th>\n",
       "      <td>MA</td>\n",
       "      <td>121</td>\n",
       "      <td>510</td>\n",
       "      <td>355-9993</td>\n",
       "      <td>no</td>\n",
       "      <td>yes</td>\n",
       "      <td>24</td>\n",
       "      <td>218.2</td>\n",
       "      <td>88</td>\n",
       "      <td>37.09</td>\n",
       "      <td>348.5</td>\n",
       "      <td>108</td>\n",
       "      <td>29.62</td>\n",
       "      <td>212.6</td>\n",
       "      <td>118</td>\n",
       "      <td>9.57</td>\n",
       "      <td>7.5</td>\n",
       "      <td>7</td>\n",
       "      <td>2.03</td>\n",
       "      <td>3</td>\n",
       "      <td>False</td>\n",
       "      <td>med</td>\n",
       "      <td>779.3</td>\n",
       "      <td>76.28</td>\n",
       "      <td>Normal Users</td>\n",
       "    </tr>\n",
       "    <tr>\n",
       "      <th>7</th>\n",
       "      <td>MO</td>\n",
       "      <td>147</td>\n",
       "      <td>415</td>\n",
       "      <td>329-9001</td>\n",
       "      <td>yes</td>\n",
       "      <td>no</td>\n",
       "      <td>0</td>\n",
       "      <td>157.0</td>\n",
       "      <td>79</td>\n",
       "      <td>26.69</td>\n",
       "      <td>103.1</td>\n",
       "      <td>94</td>\n",
       "      <td>8.76</td>\n",
       "      <td>211.8</td>\n",
       "      <td>96</td>\n",
       "      <td>9.53</td>\n",
       "      <td>7.1</td>\n",
       "      <td>6</td>\n",
       "      <td>1.92</td>\n",
       "      <td>0</td>\n",
       "      <td>False</td>\n",
       "      <td>med-low</td>\n",
       "      <td>471.9</td>\n",
       "      <td>44.98</td>\n",
       "      <td>No VM plan</td>\n",
       "    </tr>\n",
       "    <tr>\n",
       "      <th>8</th>\n",
       "      <td>LA</td>\n",
       "      <td>117</td>\n",
       "      <td>408</td>\n",
       "      <td>335-4719</td>\n",
       "      <td>no</td>\n",
       "      <td>no</td>\n",
       "      <td>0</td>\n",
       "      <td>184.5</td>\n",
       "      <td>97</td>\n",
       "      <td>31.37</td>\n",
       "      <td>351.6</td>\n",
       "      <td>80</td>\n",
       "      <td>29.89</td>\n",
       "      <td>215.8</td>\n",
       "      <td>90</td>\n",
       "      <td>9.71</td>\n",
       "      <td>8.7</td>\n",
       "      <td>4</td>\n",
       "      <td>2.35</td>\n",
       "      <td>1</td>\n",
       "      <td>False</td>\n",
       "      <td>low</td>\n",
       "      <td>751.9</td>\n",
       "      <td>70.97</td>\n",
       "      <td>No VM plan</td>\n",
       "    </tr>\n",
       "    <tr>\n",
       "      <th>9</th>\n",
       "      <td>WV</td>\n",
       "      <td>141</td>\n",
       "      <td>415</td>\n",
       "      <td>330-8173</td>\n",
       "      <td>yes</td>\n",
       "      <td>yes</td>\n",
       "      <td>37</td>\n",
       "      <td>258.6</td>\n",
       "      <td>84</td>\n",
       "      <td>43.96</td>\n",
       "      <td>222.0</td>\n",
       "      <td>111</td>\n",
       "      <td>18.87</td>\n",
       "      <td>326.4</td>\n",
       "      <td>97</td>\n",
       "      <td>14.69</td>\n",
       "      <td>11.2</td>\n",
       "      <td>5</td>\n",
       "      <td>3.02</td>\n",
       "      <td>0</td>\n",
       "      <td>False</td>\n",
       "      <td>low</td>\n",
       "      <td>807.0</td>\n",
       "      <td>77.52</td>\n",
       "      <td>Normal Users</td>\n",
       "    </tr>\n",
       "    <tr>\n",
       "      <th>10</th>\n",
       "      <td>IN</td>\n",
       "      <td>65</td>\n",
       "      <td>415</td>\n",
       "      <td>329-6603</td>\n",
       "      <td>no</td>\n",
       "      <td>no</td>\n",
       "      <td>0</td>\n",
       "      <td>129.1</td>\n",
       "      <td>137</td>\n",
       "      <td>21.95</td>\n",
       "      <td>228.5</td>\n",
       "      <td>83</td>\n",
       "      <td>19.42</td>\n",
       "      <td>208.8</td>\n",
       "      <td>111</td>\n",
       "      <td>9.40</td>\n",
       "      <td>12.7</td>\n",
       "      <td>6</td>\n",
       "      <td>3.43</td>\n",
       "      <td>4</td>\n",
       "      <td>True</td>\n",
       "      <td>med-low</td>\n",
       "      <td>566.4</td>\n",
       "      <td>50.77</td>\n",
       "      <td>No VM plan</td>\n",
       "    </tr>\n",
       "    <tr>\n",
       "      <th>11</th>\n",
       "      <td>RI</td>\n",
       "      <td>74</td>\n",
       "      <td>415</td>\n",
       "      <td>344-9403</td>\n",
       "      <td>no</td>\n",
       "      <td>no</td>\n",
       "      <td>0</td>\n",
       "      <td>187.7</td>\n",
       "      <td>127</td>\n",
       "      <td>31.91</td>\n",
       "      <td>163.4</td>\n",
       "      <td>148</td>\n",
       "      <td>13.89</td>\n",
       "      <td>196.0</td>\n",
       "      <td>94</td>\n",
       "      <td>8.82</td>\n",
       "      <td>9.1</td>\n",
       "      <td>5</td>\n",
       "      <td>2.46</td>\n",
       "      <td>0</td>\n",
       "      <td>False</td>\n",
       "      <td>low</td>\n",
       "      <td>547.1</td>\n",
       "      <td>54.62</td>\n",
       "      <td>No VM plan</td>\n",
       "    </tr>\n",
       "    <tr>\n",
       "      <th>12</th>\n",
       "      <td>IA</td>\n",
       "      <td>168</td>\n",
       "      <td>408</td>\n",
       "      <td>363-1107</td>\n",
       "      <td>no</td>\n",
       "      <td>no</td>\n",
       "      <td>0</td>\n",
       "      <td>128.8</td>\n",
       "      <td>96</td>\n",
       "      <td>21.90</td>\n",
       "      <td>104.9</td>\n",
       "      <td>71</td>\n",
       "      <td>8.92</td>\n",
       "      <td>141.1</td>\n",
       "      <td>128</td>\n",
       "      <td>6.35</td>\n",
       "      <td>11.2</td>\n",
       "      <td>2</td>\n",
       "      <td>3.02</td>\n",
       "      <td>1</td>\n",
       "      <td>False</td>\n",
       "      <td>low</td>\n",
       "      <td>374.8</td>\n",
       "      <td>37.17</td>\n",
       "      <td>No VM plan</td>\n",
       "    </tr>\n",
       "    <tr>\n",
       "      <th>13</th>\n",
       "      <td>MT</td>\n",
       "      <td>95</td>\n",
       "      <td>510</td>\n",
       "      <td>394-8006</td>\n",
       "      <td>no</td>\n",
       "      <td>no</td>\n",
       "      <td>0</td>\n",
       "      <td>156.6</td>\n",
       "      <td>88</td>\n",
       "      <td>26.62</td>\n",
       "      <td>247.6</td>\n",
       "      <td>75</td>\n",
       "      <td>21.05</td>\n",
       "      <td>192.3</td>\n",
       "      <td>115</td>\n",
       "      <td>8.65</td>\n",
       "      <td>12.3</td>\n",
       "      <td>5</td>\n",
       "      <td>3.32</td>\n",
       "      <td>3</td>\n",
       "      <td>False</td>\n",
       "      <td>high</td>\n",
       "      <td>596.5</td>\n",
       "      <td>56.32</td>\n",
       "      <td>No VM plan</td>\n",
       "    </tr>\n",
       "    <tr>\n",
       "      <th>14</th>\n",
       "      <td>IA</td>\n",
       "      <td>62</td>\n",
       "      <td>415</td>\n",
       "      <td>366-9238</td>\n",
       "      <td>no</td>\n",
       "      <td>no</td>\n",
       "      <td>0</td>\n",
       "      <td>120.7</td>\n",
       "      <td>70</td>\n",
       "      <td>20.52</td>\n",
       "      <td>307.2</td>\n",
       "      <td>76</td>\n",
       "      <td>26.11</td>\n",
       "      <td>203.0</td>\n",
       "      <td>99</td>\n",
       "      <td>9.14</td>\n",
       "      <td>13.1</td>\n",
       "      <td>6</td>\n",
       "      <td>3.54</td>\n",
       "      <td>4</td>\n",
       "      <td>False</td>\n",
       "      <td>low</td>\n",
       "      <td>630.9</td>\n",
       "      <td>55.77</td>\n",
       "      <td>No VM plan</td>\n",
       "    </tr>\n",
       "    <tr>\n",
       "      <th>15</th>\n",
       "      <td>NY</td>\n",
       "      <td>161</td>\n",
       "      <td>415</td>\n",
       "      <td>351-7269</td>\n",
       "      <td>no</td>\n",
       "      <td>no</td>\n",
       "      <td>0</td>\n",
       "      <td>332.9</td>\n",
       "      <td>67</td>\n",
       "      <td>56.59</td>\n",
       "      <td>317.8</td>\n",
       "      <td>97</td>\n",
       "      <td>27.01</td>\n",
       "      <td>160.6</td>\n",
       "      <td>128</td>\n",
       "      <td>7.23</td>\n",
       "      <td>5.4</td>\n",
       "      <td>9</td>\n",
       "      <td>1.46</td>\n",
       "      <td>4</td>\n",
       "      <td>True</td>\n",
       "      <td>med</td>\n",
       "      <td>811.3</td>\n",
       "      <td>90.83</td>\n",
       "      <td>No VM plan</td>\n",
       "    </tr>\n",
       "    <tr>\n",
       "      <th>16</th>\n",
       "      <td>ID</td>\n",
       "      <td>85</td>\n",
       "      <td>408</td>\n",
       "      <td>350-8884</td>\n",
       "      <td>no</td>\n",
       "      <td>yes</td>\n",
       "      <td>27</td>\n",
       "      <td>196.4</td>\n",
       "      <td>139</td>\n",
       "      <td>33.39</td>\n",
       "      <td>280.9</td>\n",
       "      <td>90</td>\n",
       "      <td>23.88</td>\n",
       "      <td>89.3</td>\n",
       "      <td>75</td>\n",
       "      <td>4.02</td>\n",
       "      <td>13.8</td>\n",
       "      <td>4</td>\n",
       "      <td>3.73</td>\n",
       "      <td>1</td>\n",
       "      <td>False</td>\n",
       "      <td>med-low</td>\n",
       "      <td>566.6</td>\n",
       "      <td>61.29</td>\n",
       "      <td>Normal Users</td>\n",
       "    </tr>\n",
       "    <tr>\n",
       "      <th>17</th>\n",
       "      <td>VT</td>\n",
       "      <td>93</td>\n",
       "      <td>510</td>\n",
       "      <td>386-2923</td>\n",
       "      <td>no</td>\n",
       "      <td>no</td>\n",
       "      <td>0</td>\n",
       "      <td>190.7</td>\n",
       "      <td>114</td>\n",
       "      <td>32.42</td>\n",
       "      <td>218.2</td>\n",
       "      <td>111</td>\n",
       "      <td>18.55</td>\n",
       "      <td>129.6</td>\n",
       "      <td>121</td>\n",
       "      <td>5.83</td>\n",
       "      <td>8.1</td>\n",
       "      <td>3</td>\n",
       "      <td>2.19</td>\n",
       "      <td>3</td>\n",
       "      <td>False</td>\n",
       "      <td>med-low</td>\n",
       "      <td>538.5</td>\n",
       "      <td>56.80</td>\n",
       "      <td>No VM plan</td>\n",
       "    </tr>\n",
       "    <tr>\n",
       "      <th>18</th>\n",
       "      <td>VA</td>\n",
       "      <td>76</td>\n",
       "      <td>510</td>\n",
       "      <td>356-2992</td>\n",
       "      <td>no</td>\n",
       "      <td>yes</td>\n",
       "      <td>33</td>\n",
       "      <td>189.7</td>\n",
       "      <td>66</td>\n",
       "      <td>32.25</td>\n",
       "      <td>212.8</td>\n",
       "      <td>65</td>\n",
       "      <td>18.09</td>\n",
       "      <td>165.7</td>\n",
       "      <td>108</td>\n",
       "      <td>7.46</td>\n",
       "      <td>10.0</td>\n",
       "      <td>5</td>\n",
       "      <td>2.70</td>\n",
       "      <td>1</td>\n",
       "      <td>False</td>\n",
       "      <td>low</td>\n",
       "      <td>568.2</td>\n",
       "      <td>57.80</td>\n",
       "      <td>Normal Users</td>\n",
       "    </tr>\n",
       "    <tr>\n",
       "      <th>19</th>\n",
       "      <td>TX</td>\n",
       "      <td>73</td>\n",
       "      <td>415</td>\n",
       "      <td>373-2782</td>\n",
       "      <td>no</td>\n",
       "      <td>no</td>\n",
       "      <td>0</td>\n",
       "      <td>224.4</td>\n",
       "      <td>90</td>\n",
       "      <td>38.15</td>\n",
       "      <td>159.5</td>\n",
       "      <td>88</td>\n",
       "      <td>13.56</td>\n",
       "      <td>192.8</td>\n",
       "      <td>74</td>\n",
       "      <td>8.68</td>\n",
       "      <td>13.0</td>\n",
       "      <td>2</td>\n",
       "      <td>3.51</td>\n",
       "      <td>1</td>\n",
       "      <td>False</td>\n",
       "      <td>high</td>\n",
       "      <td>576.7</td>\n",
       "      <td>60.39</td>\n",
       "      <td>No VM plan</td>\n",
       "    </tr>\n",
       "  </tbody>\n",
       "</table>\n",
       "</div>"
      ],
      "text/plain": [
       "   state  account length  area code phone number international plan  \\\n",
       "0     KS             128        415     382-4657                 no   \n",
       "1     OH             107        415     371-7191                 no   \n",
       "2     NJ             137        415     358-1921                 no   \n",
       "3     OH              84        408     375-9999                yes   \n",
       "4     OK              75        415     330-6626                yes   \n",
       "5     AL             118        510     391-8027                yes   \n",
       "6     MA             121        510     355-9993                 no   \n",
       "7     MO             147        415     329-9001                yes   \n",
       "8     LA             117        408     335-4719                 no   \n",
       "9     WV             141        415     330-8173                yes   \n",
       "10    IN              65        415     329-6603                 no   \n",
       "11    RI              74        415     344-9403                 no   \n",
       "12    IA             168        408     363-1107                 no   \n",
       "13    MT              95        510     394-8006                 no   \n",
       "14    IA              62        415     366-9238                 no   \n",
       "15    NY             161        415     351-7269                 no   \n",
       "16    ID              85        408     350-8884                 no   \n",
       "17    VT              93        510     386-2923                 no   \n",
       "18    VA              76        510     356-2992                 no   \n",
       "19    TX              73        415     373-2782                 no   \n",
       "\n",
       "   voice mail plan  number vmail messages  total day minutes  total day calls  \\\n",
       "0              yes                     25              265.1              110   \n",
       "1              yes                     26              161.6              123   \n",
       "2               no                      0              243.4              114   \n",
       "3               no                      0              299.4               71   \n",
       "4               no                      0              166.7              113   \n",
       "5               no                      0              223.4               98   \n",
       "6              yes                     24              218.2               88   \n",
       "7               no                      0              157.0               79   \n",
       "8               no                      0              184.5               97   \n",
       "9              yes                     37              258.6               84   \n",
       "10              no                      0              129.1              137   \n",
       "11              no                      0              187.7              127   \n",
       "12              no                      0              128.8               96   \n",
       "13              no                      0              156.6               88   \n",
       "14              no                      0              120.7               70   \n",
       "15              no                      0              332.9               67   \n",
       "16             yes                     27              196.4              139   \n",
       "17              no                      0              190.7              114   \n",
       "18             yes                     33              189.7               66   \n",
       "19              no                      0              224.4               90   \n",
       "\n",
       "    total day charge  total eve minutes  total eve calls  total eve charge  \\\n",
       "0              45.07              197.4               99             16.78   \n",
       "1              27.47              195.5              103             16.62   \n",
       "2              41.38              121.2              110             10.30   \n",
       "3              50.90               61.9               88              5.26   \n",
       "4              28.34              148.3              122             12.61   \n",
       "5              37.98              220.6              101             18.75   \n",
       "6              37.09              348.5              108             29.62   \n",
       "7              26.69              103.1               94              8.76   \n",
       "8              31.37              351.6               80             29.89   \n",
       "9              43.96              222.0              111             18.87   \n",
       "10             21.95              228.5               83             19.42   \n",
       "11             31.91              163.4              148             13.89   \n",
       "12             21.90              104.9               71              8.92   \n",
       "13             26.62              247.6               75             21.05   \n",
       "14             20.52              307.2               76             26.11   \n",
       "15             56.59              317.8               97             27.01   \n",
       "16             33.39              280.9               90             23.88   \n",
       "17             32.42              218.2              111             18.55   \n",
       "18             32.25              212.8               65             18.09   \n",
       "19             38.15              159.5               88             13.56   \n",
       "\n",
       "    total night minutes  total night calls  total night charge  \\\n",
       "0                 244.7                 91               11.01   \n",
       "1                 254.4                103               11.45   \n",
       "2                 162.6                104                7.32   \n",
       "3                 196.9                 89                8.86   \n",
       "4                 186.9                121                8.41   \n",
       "5                 203.9                118                9.18   \n",
       "6                 212.6                118                9.57   \n",
       "7                 211.8                 96                9.53   \n",
       "8                 215.8                 90                9.71   \n",
       "9                 326.4                 97               14.69   \n",
       "10                208.8                111                9.40   \n",
       "11                196.0                 94                8.82   \n",
       "12                141.1                128                6.35   \n",
       "13                192.3                115                8.65   \n",
       "14                203.0                 99                9.14   \n",
       "15                160.6                128                7.23   \n",
       "16                 89.3                 75                4.02   \n",
       "17                129.6                121                5.83   \n",
       "18                165.7                108                7.46   \n",
       "19                192.8                 74                8.68   \n",
       "\n",
       "    total intl minutes  total intl calls  total intl charge  \\\n",
       "0                 10.0                 3               2.70   \n",
       "1                 13.7                 3               3.70   \n",
       "2                 12.2                 5               3.29   \n",
       "3                  6.6                 7               1.78   \n",
       "4                 10.1                 3               2.73   \n",
       "5                  6.3                 6               1.70   \n",
       "6                  7.5                 7               2.03   \n",
       "7                  7.1                 6               1.92   \n",
       "8                  8.7                 4               2.35   \n",
       "9                 11.2                 5               3.02   \n",
       "10                12.7                 6               3.43   \n",
       "11                 9.1                 5               2.46   \n",
       "12                11.2                 2               3.02   \n",
       "13                12.3                 5               3.32   \n",
       "14                13.1                 6               3.54   \n",
       "15                 5.4                 9               1.46   \n",
       "16                13.8                 4               3.73   \n",
       "17                 8.1                 3               2.19   \n",
       "18                10.0                 5               2.70   \n",
       "19                13.0                 2               3.51   \n",
       "\n",
       "    customer service calls  churn state_churn_rate  total_dom_minutes  \\\n",
       "0                        1  False              med              707.2   \n",
       "1                        1  False          med-low              611.5   \n",
       "2                        0  False             high              527.2   \n",
       "3                        2  False          med-low              558.2   \n",
       "4                        3  False          med-low              501.9   \n",
       "5                        0  False          med-low              647.9   \n",
       "6                        3  False              med              779.3   \n",
       "7                        0  False          med-low              471.9   \n",
       "8                        1  False              low              751.9   \n",
       "9                        0  False              low              807.0   \n",
       "10                       4   True          med-low              566.4   \n",
       "11                       0  False              low              547.1   \n",
       "12                       1  False              low              374.8   \n",
       "13                       3  False             high              596.5   \n",
       "14                       4  False              low              630.9   \n",
       "15                       4   True              med              811.3   \n",
       "16                       1  False          med-low              566.6   \n",
       "17                       3  False          med-low              538.5   \n",
       "18                       1  False              low              568.2   \n",
       "19                       1  False             high              576.7   \n",
       "\n",
       "    total_dom_charges vmail_messages  \n",
       "0               72.86   Normal Users  \n",
       "1               55.54   Normal Users  \n",
       "2               59.00     No VM plan  \n",
       "3               65.02     No VM plan  \n",
       "4               49.36     No VM plan  \n",
       "5               65.91     No VM plan  \n",
       "6               76.28   Normal Users  \n",
       "7               44.98     No VM plan  \n",
       "8               70.97     No VM plan  \n",
       "9               77.52   Normal Users  \n",
       "10              50.77     No VM plan  \n",
       "11              54.62     No VM plan  \n",
       "12              37.17     No VM plan  \n",
       "13              56.32     No VM plan  \n",
       "14              55.77     No VM plan  \n",
       "15              90.83     No VM plan  \n",
       "16              61.29   Normal Users  \n",
       "17              56.80     No VM plan  \n",
       "18              57.80   Normal Users  \n",
       "19              60.39     No VM plan  "
      ]
     },
     "execution_count": 29,
     "metadata": {},
     "output_type": "execute_result"
    }
   ],
   "source": [
    "df['vmail_messages'] = pd.cut(df['number vmail messages'],bins=[0,1,38,52],\n",
    "                             labels=['No VM plan','Normal Users','High Frequency users'],\n",
    "                             include_lowest=True)\n",
    "df.head(20)"
   ]
  },
  {
   "cell_type": "markdown",
   "id": "184ae590",
   "metadata": {},
   "source": [
    "## Feature Selection"
   ]
  },
  {
   "cell_type": "markdown",
   "id": "fa80dcc9",
   "metadata": {},
   "source": [
    "### Correlation Analysis\n",
    "\n",
    "In order to visualize and investigate the pair-wise correlations between the features and churn, we'll use a bar graph and heatmap."
   ]
  },
  {
   "cell_type": "code",
   "execution_count": 30,
   "id": "4d07c7da",
   "metadata": {},
   "outputs": [
    {
     "data": {
      "text/plain": [
       "<AxesSubplot:>"
      ]
     },
     "execution_count": 30,
     "metadata": {},
     "output_type": "execute_result"
    },
    {
     "data": {
      "image/png": "[encoded data removed]",
      "text/plain": [
       "<Figure size 1440x360 with 1 Axes>"
      ]
     },
     "metadata": {},
     "output_type": "display_data"
    }
   ],
   "source": [
    "# Show correlation plot for correlation of Churn with each of the remaining features.\n",
    "plt.figure(figsize=(16,10))\n",
    "df.corr()['churn'].sort_values(ascending=False).plot(kind='bar', figsize=(20,5))"
   ]
  },
  {
   "cell_type": "code",
   "execution_count": 31,
   "id": "c381e7ba",
   "metadata": {},
   "outputs": [
    {
     "data": {
      "image/png": "[encoded data removed]",
      "text/plain": [
       "<Figure size 1440x1080 with 2 Axes>"
      ]
     },
     "metadata": {},
     "output_type": "display_data"
    }
   ],
   "source": [
    "cor = df.corr()\n",
    "plt.figure(figsize=(20,15))\n",
    "sns.heatmap(cor.round(3),annot=True,cmap='inferno')\n",
    "plt.show()"
   ]
  },
  {
   "cell_type": "markdown",
   "id": "174f73da",
   "metadata": {},
   "source": [
    "I'm going to remove highly correlated features:\n",
    "\n",
    "* total_night_minutes\n",
    "* total_eve_minutes\n",
    "* total_day_minutes\n",
    "* tatal_intl_minutes"
   ]
  },
  {
   "cell_type": "code",
   "execution_count": 32,
   "id": "7227b680",
   "metadata": {},
   "outputs": [],
   "source": [
    "# Generate box plots using the math library\n",
    "\n",
    "import math\n",
    "\n",
    "def boxplot(x, y, df):\n",
    "    columns = len(y)\n",
    "    rows = math.ceil(columns/3)\n",
    "    plt.figure(figsize=(7*columns, 7*rows))\n",
    "    for i, j in enumerate(y):\n",
    "        plt.subplot(rows, columns, i+1)\n",
    "        ax = sns.boxplot(x=x, y=j, data=df[[x, j]], palette=\"Blues\", linewidth=1)\n",
    "        ax.set_title(j)\n",
    "    return plt.show()"
   ]
  },
  {
   "cell_type": "code",
   "execution_count": 33,
   "id": "b4fde946",
   "metadata": {},
   "outputs": [
    {
     "data": {
      "text/plain": [
       "<Figure size 6000x4500 with 0 Axes>"
      ]
     },
     "metadata": {},
     "output_type": "display_data"
    },
    {
     "data": {
      "image/png": "[encoded data removed]",
      "text/plain": [
       "<Figure size 1512x504 with 3 Axes>"
      ]
     },
     "metadata": {},
     "output_type": "display_data"
    }
   ],
   "source": [
    "# Generate boxplots for total_dom_charges, customer service calls and total_dom_minutes.\n",
    "plt.figure(figsize=(20,15), dpi=300)\n",
    "boxplot(\"churn\", [\"total_dom_charges\", \"customer service calls\", \"total_dom_minutes\"], df)"
   ]
  },
  {
   "cell_type": "markdown",
   "id": "e10140eb",
   "metadata": {},
   "source": [
    "Plot insights:\n",
    "* Churning customers have total domestic charge median of $64.\n",
    "* Churning customers have a median customer service call rate of 2 calls.\n",
    "* Churning customers have a median domestic minute usage of 650 minutes."
   ]
  },
  {
   "cell_type": "markdown",
   "id": "733e314a",
   "metadata": {},
   "source": [
    "### Feature selection using ANOVA"
   ]
  },
  {
   "cell_type": "markdown",
   "id": "336b18a2",
   "metadata": {},
   "source": [
    "#### ANOVA is used for comparing the distribution of a numeric variable in two or more groups\n",
    "* Ho = Null Hypothesis = the distribution of the varible in multiple groups is uniform\n",
    "* Ha = Alternate Hypothesis = the distribution of the variable in multiple groups in different\n",
    "    \n",
    "    we analyse the pvalue, lets say for confidence interval of 95%, significance level = 5%\n",
    "\n",
    "`if pvalue>0.05 = accept the null hypothesis and the feature is NOT important`\n",
    "`if pvalue <0.05 = reject the null hypothesis and the feature is important`"
   ]
  },
  {
   "cell_type": "markdown",
   "id": "9e083890",
   "metadata": {},
   "source": [
    "#### ANOVA summary:\n",
    "\n",
    "ANOVA stands for Analysis of Variance and it is a statistical method for testing if the means of different groups are equal. In Python, ANOVA can be performed using the f_oneway function from the scipy.stats library. This function takes in multiple sets of data, each representing a group, and returns a test statistic and p-value. The test statistic measures the difference between the means of the groups and the p-value gives the probability of observing a difference as large or larger than what was observed if the means were actually equal. If the p-value is low, we can reject the null hypothesis that the means are equal, implying that there is a significant difference between the means of at least two groups.\n",
    "\n",
    "#### In simple terms:\n",
    "\n",
    "ANOVA, or Analysis of Variance, is a statistical method for comparing multiple groups or populations to see if their means are significantly different from each other. In simple terms, it tells us if the difference between the groups' averages is due to chance or if it's real. To perform ANOVA in Python, we can use the f_oneway function from the scipy.stats library. This function takes in multiple arrays of data, and returns a test statistic and a p-value. The p-value represents the probability of observing the difference between the groups if they are actually all the same. If the p-value is below a certain threshold (usually 0.05), we reject the null hypothesis (that the groups have the same mean) and conclude that at least one of the groups is different."
   ]
  },
  {
   "cell_type": "code",
   "execution_count": 34,
   "id": "4af3a557",
   "metadata": {
    "scrolled": true
   },
   "outputs": [
    {
     "data": {
      "text/plain": [
       "Index(['state', 'account length', 'area code', 'phone number',\n",
       "       'international plan', 'voice mail plan', 'number vmail messages',\n",
       "       'total day minutes', 'total day calls', 'total day charge',\n",
       "       'total eve minutes', 'total eve calls', 'total eve charge',\n",
       "       'total night minutes', 'total night calls', 'total night charge',\n",
       "       'total intl minutes', 'total intl calls', 'total intl charge',\n",
       "       'customer service calls', 'churn', 'state_churn_rate',\n",
       "       'total_dom_minutes', 'total_dom_charges', 'vmail_messages'],\n",
       "      dtype='object')"
      ]
     },
     "execution_count": 34,
     "metadata": {},
     "output_type": "execute_result"
    }
   ],
   "source": [
    "df.columns"
   ]
  },
  {
   "cell_type": "code",
   "execution_count": 35,
   "id": "8ffd4266",
   "metadata": {},
   "outputs": [
    {
     "name": "stdout",
     "output_type": "stream",
     "text": [
      "account length 0.33976000705720666\n",
      "number vmail messages 2.1175218402696038e-07\n",
      "total day minutes 5.300278227509361e-33\n",
      "total day calls 0.28670102402211844\n",
      "total day charge 5.30060595239102e-33\n",
      "total eve minutes 8.011338561256927e-08\n",
      "total eve calls 0.5941305829720491\n",
      "total eve charge 8.036524227754477e-08\n",
      "total night minutes 0.04046648463758881\n",
      "total night calls 0.7230277872081609\n",
      "total night charge 0.040451218769160205\n",
      "total intl minutes 8.05731126549437e-05\n",
      "total intl calls 0.002274701409850077\n",
      "total intl charge 8.018753583047257e-05\n",
      "customer service calls 3.900360240185746e-34\n"
     ]
    }
   ],
   "source": [
    "numerics =['account length','number vmail messages',\n",
    "       'total day minutes', 'total day calls', 'total day charge',\n",
    "       'total eve minutes', 'total eve calls', 'total eve charge',\n",
    "       'total night minutes', 'total night calls', 'total night charge',\n",
    "       'total intl minutes', 'total intl calls', 'total intl charge',\n",
    "       'customer service calls']\n",
    "xnum = df[numerics]\n",
    "y = df['churn']\n",
    "from sklearn.feature_selection import f_classif\n",
    "fval,pval = f_classif(xnum,y)\n",
    "for i in range(len(numerics)):print(numerics[i],pval[i])"
   ]
  },
  {
   "cell_type": "markdown",
   "id": "99abe8cc",
   "metadata": {},
   "source": [
    "### Feature selection using Chi Square Test\n",
    "\n",
    "- Used to compare the distribution of categories of a categorical feature in two or more groups\n",
    "- in nutshell to compare whether a categorical attribute has some relationship with the other categorical attribute\n",
    "\n",
    "* H0 = Null Hypothesis = the categorical attribute has uniform distribution in two or more groups\n",
    "* Ha = Alternate hypothesis = the categorical attribute has different distribution in two or more groups\n",
    "\n",
    "We always analyse the pvalue, consider 95% as confidence interval, significance level = 5% i.e.0.05\n",
    "\n",
    "`if pvalue >0.05 = accept the Null hypothesis - feature is not important`\n",
    "`if pvalue <0.05 = reject the Null hypothesis - feature is important`"
   ]
  },
  {
   "cell_type": "markdown",
   "id": "68470e82",
   "metadata": {},
   "source": [
    "#### Chi Square test summary:\n",
    "The chi-square test is a statistical test used to determine if there is a significant association between two categorical variables. It measures the difference between the expected frequencies of the variables and the observed frequencies in a sample data. If the difference is too large, it suggests that the variables are not independent and there is a relationship between them. The test returns a p-value, which represents the probability of observing the difference by chance if the variables are independent. A small p-value indicates that it is unlikely that the relationship between the variables is due to chance and suggests that the variables are associated.\n",
    "\n",
    "#### In simple terms:\n",
    "Chi-Square test is a statistical test used to determine if there is a significant association between two categorical variables.\n",
    "\n",
    "Imagine you have a table with two categories, \"red\" and \"blue\". The Chi-Square test can tell you if there is a relationship between the two categories. For example, if you have a table that shows the number of red and blue candies in a jar, the Chi-Square test can tell you if there is a significant difference in the number of red and blue candies in the jar.\n",
    "\n",
    "It's like asking if the red and blue candies are evenly distributed in the jar or if one color is more common than the other. The test helps you answer this question by comparing the expected number of red and blue candies with the actual number you observe. If the difference is too big, it suggests that there is a relationship between the two categories.\n",
    "\n",
    "In simple terms, the Chi-Square test is a way to see if there is a connection between two things by counting how many of each thing there are and comparing the result with what you expect to see."
   ]
  },
  {
   "cell_type": "code",
   "execution_count": 36,
   "id": "d566dbdf",
   "metadata": {},
   "outputs": [
    {
     "name": "stdout",
     "output_type": "stream",
     "text": [
      "state [0.19214979]\n",
      "area code [0.89394206]\n",
      "phone number [1.91173945e-14]\n",
      "international plan [4.09173473e-46]\n",
      "voice mail plan [5.28486023e-07]\n",
      "vmail_messages [0.0396314]\n"
     ]
    }
   ],
   "source": [
    "categories = ['state','area code','phone number', 'international plan',\n",
    "       'voice mail plan','vmail_messages']\n",
    "\n",
    "y = df['churn']\n",
    "from sklearn.preprocessing import LabelEncoder\n",
    "from sklearn.feature_selection import chi2\n",
    "for col in categories:\n",
    "    xcat = LabelEncoder().fit_transform(df[col]).reshape(-1,1)\n",
    "    cval,pval = chi2(xcat,y)\n",
    "    print(col,pval)"
   ]
  },
  {
   "cell_type": "code",
   "execution_count": 37,
   "id": "6ae5343d",
   "metadata": {},
   "outputs": [],
   "source": [
    "#selecting important features based on previous analysis\n",
    "x = df[['international plan','vmail_messages','total day minutes','total eve minutes',\n",
    "     'total night minutes','total intl minutes','customer service calls']]\n",
    "y = df['churn']"
   ]
  },
  {
   "cell_type": "markdown",
   "id": "7221b527",
   "metadata": {},
   "source": [
    "# 5. Preprocessing"
   ]
  },
  {
   "cell_type": "code",
   "execution_count": 38,
   "id": "f3374dba",
   "metadata": {},
   "outputs": [
    {
     "data": {
      "text/html": [
       "<div>\n",
       "<style scoped>\n",
       "    .dataframe tbody tr th:only-of-type {\n",
       "        vertical-align: middle;\n",
       "    }\n",
       "\n",
       "    .dataframe tbody tr th {\n",
       "        vertical-align: top;\n",
       "    }\n",
       "\n",
       "    .dataframe thead th {\n",
       "        text-align: right;\n",
       "    }\n",
       "</style>\n",
       "<table border=\"1\" class=\"dataframe\">\n",
       "  <thead>\n",
       "    <tr style=\"text-align: right;\">\n",
       "      <th></th>\n",
       "      <th>international plan</th>\n",
       "      <th>vmail_messages</th>\n",
       "      <th>total day minutes</th>\n",
       "      <th>total eve minutes</th>\n",
       "      <th>total night minutes</th>\n",
       "      <th>total intl minutes</th>\n",
       "      <th>customer service calls</th>\n",
       "    </tr>\n",
       "  </thead>\n",
       "  <tbody>\n",
       "    <tr>\n",
       "      <th>0</th>\n",
       "      <td>no</td>\n",
       "      <td>Normal Users</td>\n",
       "      <td>265.1</td>\n",
       "      <td>197.4</td>\n",
       "      <td>244.7</td>\n",
       "      <td>10.0</td>\n",
       "      <td>1</td>\n",
       "    </tr>\n",
       "    <tr>\n",
       "      <th>1</th>\n",
       "      <td>no</td>\n",
       "      <td>Normal Users</td>\n",
       "      <td>161.6</td>\n",
       "      <td>195.5</td>\n",
       "      <td>254.4</td>\n",
       "      <td>13.7</td>\n",
       "      <td>1</td>\n",
       "    </tr>\n",
       "    <tr>\n",
       "      <th>2</th>\n",
       "      <td>no</td>\n",
       "      <td>No VM plan</td>\n",
       "      <td>243.4</td>\n",
       "      <td>121.2</td>\n",
       "      <td>162.6</td>\n",
       "      <td>12.2</td>\n",
       "      <td>0</td>\n",
       "    </tr>\n",
       "    <tr>\n",
       "      <th>3</th>\n",
       "      <td>yes</td>\n",
       "      <td>No VM plan</td>\n",
       "      <td>299.4</td>\n",
       "      <td>61.9</td>\n",
       "      <td>196.9</td>\n",
       "      <td>6.6</td>\n",
       "      <td>2</td>\n",
       "    </tr>\n",
       "    <tr>\n",
       "      <th>4</th>\n",
       "      <td>yes</td>\n",
       "      <td>No VM plan</td>\n",
       "      <td>166.7</td>\n",
       "      <td>148.3</td>\n",
       "      <td>186.9</td>\n",
       "      <td>10.1</td>\n",
       "      <td>3</td>\n",
       "    </tr>\n",
       "  </tbody>\n",
       "</table>\n",
       "</div>"
      ],
      "text/plain": [
       "  international plan vmail_messages  total day minutes  total eve minutes  \\\n",
       "0                 no   Normal Users              265.1              197.4   \n",
       "1                 no   Normal Users              161.6              195.5   \n",
       "2                 no     No VM plan              243.4              121.2   \n",
       "3                yes     No VM plan              299.4               61.9   \n",
       "4                yes     No VM plan              166.7              148.3   \n",
       "\n",
       "   total night minutes  total intl minutes  customer service calls  \n",
       "0                244.7                10.0                       1  \n",
       "1                254.4                13.7                       1  \n",
       "2                162.6                12.2                       0  \n",
       "3                196.9                 6.6                       2  \n",
       "4                186.9                10.1                       3  "
      ]
     },
     "execution_count": 38,
     "metadata": {},
     "output_type": "execute_result"
    }
   ],
   "source": [
    "x.head()"
   ]
  },
  {
   "cell_type": "markdown",
   "id": "717f17fb",
   "metadata": {},
   "source": [
    "#### encoding categorical features"
   ]
  },
  {
   "cell_type": "code",
   "execution_count": 39,
   "id": "ca2d7fc0",
   "metadata": {},
   "outputs": [],
   "source": [
    "from sklearn.compose import ColumnTransformer\n",
    "from sklearn.preprocessing import OneHotEncoder,OrdinalEncoder,StandardScaler\n",
    "preprocessor = ColumnTransformer([('ohe',OneHotEncoder(),[1]),\n",
    "                                ('ode',OrdinalEncoder(),[0]),\n",
    "                                 ('sc',StandardScaler(),[2,3,4,5,6])],remainder='passthrough')"
   ]
  },
  {
   "cell_type": "code",
   "execution_count": 40,
   "id": "4185f37c",
   "metadata": {},
   "outputs": [
    {
     "data": {
      "text/html": [
       "<div>\n",
       "<style scoped>\n",
       "    .dataframe tbody tr th:only-of-type {\n",
       "        vertical-align: middle;\n",
       "    }\n",
       "\n",
       "    .dataframe tbody tr th {\n",
       "        vertical-align: top;\n",
       "    }\n",
       "\n",
       "    .dataframe thead th {\n",
       "        text-align: right;\n",
       "    }\n",
       "</style>\n",
       "<table border=\"1\" class=\"dataframe\">\n",
       "  <thead>\n",
       "    <tr style=\"text-align: right;\">\n",
       "      <th></th>\n",
       "      <th>0</th>\n",
       "      <th>1</th>\n",
       "      <th>2</th>\n",
       "      <th>3</th>\n",
       "      <th>4</th>\n",
       "      <th>5</th>\n",
       "      <th>6</th>\n",
       "      <th>7</th>\n",
       "      <th>8</th>\n",
       "    </tr>\n",
       "  </thead>\n",
       "  <tbody>\n",
       "    <tr>\n",
       "      <th>0</th>\n",
       "      <td>0.0</td>\n",
       "      <td>0.0</td>\n",
       "      <td>1.0</td>\n",
       "      <td>0.0</td>\n",
       "      <td>1.566767</td>\n",
       "      <td>-0.070610</td>\n",
       "      <td>0.866743</td>\n",
       "      <td>-0.085008</td>\n",
       "      <td>-0.427932</td>\n",
       "    </tr>\n",
       "    <tr>\n",
       "      <th>1</th>\n",
       "      <td>0.0</td>\n",
       "      <td>0.0</td>\n",
       "      <td>1.0</td>\n",
       "      <td>0.0</td>\n",
       "      <td>-0.333738</td>\n",
       "      <td>-0.108080</td>\n",
       "      <td>1.058571</td>\n",
       "      <td>1.240482</td>\n",
       "      <td>-0.427932</td>\n",
       "    </tr>\n",
       "    <tr>\n",
       "      <th>2</th>\n",
       "      <td>0.0</td>\n",
       "      <td>1.0</td>\n",
       "      <td>0.0</td>\n",
       "      <td>0.0</td>\n",
       "      <td>1.168304</td>\n",
       "      <td>-1.573383</td>\n",
       "      <td>-0.756869</td>\n",
       "      <td>0.703121</td>\n",
       "      <td>-1.188218</td>\n",
       "    </tr>\n",
       "    <tr>\n",
       "      <th>3</th>\n",
       "      <td>0.0</td>\n",
       "      <td>1.0</td>\n",
       "      <td>0.0</td>\n",
       "      <td>1.0</td>\n",
       "      <td>2.196596</td>\n",
       "      <td>-2.742865</td>\n",
       "      <td>-0.078551</td>\n",
       "      <td>-1.303026</td>\n",
       "      <td>0.332354</td>\n",
       "    </tr>\n",
       "    <tr>\n",
       "      <th>4</th>\n",
       "      <td>0.0</td>\n",
       "      <td>1.0</td>\n",
       "      <td>0.0</td>\n",
       "      <td>1.0</td>\n",
       "      <td>-0.240090</td>\n",
       "      <td>-1.038932</td>\n",
       "      <td>-0.276311</td>\n",
       "      <td>-0.049184</td>\n",
       "      <td>1.092641</td>\n",
       "    </tr>\n",
       "  </tbody>\n",
       "</table>\n",
       "</div>"
      ],
      "text/plain": [
       "     0    1    2    3         4         5         6         7         8\n",
       "0  0.0  0.0  1.0  0.0  1.566767 -0.070610  0.866743 -0.085008 -0.427932\n",
       "1  0.0  0.0  1.0  0.0 -0.333738 -0.108080  1.058571  1.240482 -0.427932\n",
       "2  0.0  1.0  0.0  0.0  1.168304 -1.573383 -0.756869  0.703121 -1.188218\n",
       "3  0.0  1.0  0.0  1.0  2.196596 -2.742865 -0.078551 -1.303026  0.332354\n",
       "4  0.0  1.0  0.0  1.0 -0.240090 -1.038932 -0.276311 -0.049184  1.092641"
      ]
     },
     "execution_count": 40,
     "metadata": {},
     "output_type": "execute_result"
    }
   ],
   "source": [
    "x_new = preprocessor.fit_transform(x)\n",
    "pd.DataFrame(x_new).head()"
   ]
  },
  {
   "cell_type": "code",
   "execution_count": 70,
   "id": "45215469",
   "metadata": {},
   "outputs": [],
   "source": [
    "# train Test Split before preprocessing"
   ]
  },
  {
   "cell_type": "markdown",
   "id": "b1da6c93",
   "metadata": {},
   "source": [
    "#### Train Test Split"
   ]
  },
  {
   "cell_type": "code",
   "execution_count": 41,
   "id": "71957e10",
   "metadata": {},
   "outputs": [
    {
     "name": "stdout",
     "output_type": "stream",
     "text": [
      "(3333, 7)\n",
      "(2666, 9)\n",
      "(667, 9)\n",
      "(3333,)\n",
      "(2666,)\n",
      "(667,)\n"
     ]
    }
   ],
   "source": [
    "# train test split\n",
    "from sklearn.model_selection import train_test_split\n",
    "xtrain,xtest,ytrain,ytest = train_test_split(x_new,y,test_size=0.2,random_state=5)\n",
    "print(x.shape)\n",
    "print(xtrain.shape)\n",
    "print(xtest.shape)\n",
    "print(y.shape)\n",
    "print(ytrain.shape)\n",
    "print(ytest.shape)"
   ]
  },
  {
   "cell_type": "markdown",
   "id": "0d485bcc",
   "metadata": {},
   "source": [
    "# 6. Apply Machine Learning algorithm - Logistic regression"
   ]
  },
  {
   "cell_type": "markdown",
   "id": "a3fad7e5",
   "metadata": {},
   "source": [
    "#### Logistic Regression Summary:\n",
    "\n",
    "Logistic Regression is a machine learning technique used for predicting a binary outcome (yes/no, 0/1) based on a set of independent variables. In Python, it can be implemented using the LogisticRegression module from the scikit-learn library. The algorithm creates a mathematical model to estimate the probability of the binary outcome based on the input variables, and then predicts the output class based on a threshold value (e.g., 0.5). The parameters of the model are learned from the training data through an optimization process. Logistic Regression can be used for various types of problems, including binary classification and multinomial classification.\n",
    "\n",
    "#### In simple terms:\n",
    "\n",
    "Logistic Regression is a machine learning algorithm used for classification problems. It is used to predict a binary outcome (1 or 0) based on one or more independent variables. In simpler terms, it helps us predict whether an event will occur or not.\n",
    "\n",
    "Imagine you have data about people and their income, education level, and age, and you want to predict whether a person is likely to buy a car or not. Logistic Regression can help us make that prediction based on the information we have about those people.\n",
    "\n",
    "In Python, you can implement Logistic Regression using the scikit-learn library. First, you will split your data into a training and test set. Then, you will use the training set to fit a Logistic Regression model. Finally, you will evaluate the model using the test set to see how accurate it is in making predictions."
   ]
  },
  {
   "cell_type": "code",
   "execution_count": 42,
   "id": "6c7acc9c",
   "metadata": {},
   "outputs": [
    {
     "data": {
      "text/plain": [
       "LogisticRegression(class_weight='balanced')"
      ]
     },
     "execution_count": 42,
     "metadata": {},
     "output_type": "execute_result"
    }
   ],
   "source": [
    "from sklearn.linear_model import LogisticRegression\n",
    "model = LogisticRegression(class_weight='balanced')\n",
    "model.fit(xtrain,ytrain)"
   ]
  },
  {
   "cell_type": "markdown",
   "id": "936ae660",
   "metadata": {},
   "source": [
    "# 7. Performance Analysis\n"
   ]
  },
  {
   "cell_type": "code",
   "execution_count": 43,
   "id": "b07479a1",
   "metadata": {
    "scrolled": true
   },
   "outputs": [
    {
     "name": "stdout",
     "output_type": "stream",
     "text": [
      "Accuracy :  0.775112443778111\n",
      "Recall :  0.7934782608695652\n",
      "F1 score :  0.4932432432432432\n",
      "Precision :  0.35784313725490197\n"
     ]
    }
   ],
   "source": [
    "# performance analysis\n",
    "from sklearn import metrics\n",
    "ypred = model.predict(xtest)\n",
    "print(\"Accuracy : \",metrics.accuracy_score(ytest,ypred))\n",
    "print(\"Recall : \",metrics.recall_score(ytest,ypred))\n",
    "print(\"F1 score : \",metrics.f1_score(ytest,ypred))\n",
    "print(\"Precision : \",metrics.precision_score(ytest,ypred))"
   ]
  },
  {
   "cell_type": "markdown",
   "id": "0fc204a1",
   "metadata": {},
   "source": [
    "Accuracy: It measures the ratio of correct predictions to the total number of predictions made. A score of 0.775 means 77.5% of the predictions made were correct.\n",
    "\n",
    "Recall: It measures the number of actual positive cases that were correctly predicted as positive. A score of 0.793 means 79.3% of the actual positive cases were correctly predicted.\n",
    "\n",
    "F1 score: It is the harmonic mean of precision and recall. It balances both precision and recall. A score of 0.49 means the balance between precision and recall was 49%.\n",
    "\n",
    "Precision: It measures the number of positive predictions that were actually correct. A score of 0.35 means 35.7% of the positive predictions were actually correct."
   ]
  },
  {
   "cell_type": "code",
   "execution_count": 44,
   "id": "6c2fed17",
   "metadata": {},
   "outputs": [
    {
     "name": "stdout",
     "output_type": "stream",
     "text": [
      "Accuracy :  0.764066016504126\n",
      "Recall :  0.7570332480818415\n",
      "F1 score :  0.4848484848484849\n",
      "Precision :  0.3566265060240964\n"
     ]
    }
   ],
   "source": [
    "# performance analysis on train data\n",
    "ypred2 = model.predict(xtrain)\n",
    "print(\"Accuracy : \",metrics.accuracy_score(ytrain,ypred2))\n",
    "print(\"Recall : \",metrics.recall_score(ytrain,ypred2))\n",
    "print(\"F1 score : \",metrics.f1_score(ytrain,ypred2))\n",
    "print(\"Precision : \",metrics.precision_score(ytrain,ypred2))"
   ]
  },
  {
   "cell_type": "markdown",
   "id": "0074344e",
   "metadata": {},
   "source": [
    "Accuracy: It measures the ratio of correct predictions to the total number of predictions made. A score of 0.76 means 76% of the predictions made were correct.\n",
    "\n",
    "Recall: It measures the number of actual positive cases that were correctly predicted as positive. A score of 0.76 means 75.7% of the actual positive cases were correctly predicted.\n",
    "\n",
    "F1 score: It is the harmonic mean of precision and recall. It balances both precision and recall. A score of 0.48 means the balance between precision and recall was 48%.\n",
    "\n",
    "Precision: It measures the number of positive predictions that were actually correct. A score of 0.35 means 35.6% of the positive predictions were actually correct."
   ]
  },
  {
   "cell_type": "markdown",
   "id": "e0dbac1a",
   "metadata": {},
   "source": [
    "### Observation - Recall is not satisfactory\n",
    "So we will now try other algorithms"
   ]
  },
  {
   "cell_type": "markdown",
   "id": "55a13b12",
   "metadata": {},
   "source": [
    "# Improving and Fine-Tuning"
   ]
  },
  {
   "cell_type": "markdown",
   "id": "38f3a9d1",
   "metadata": {},
   "source": [
    "1. Improving Data:\n",
    "* Enhance feature engineering\n",
    "* Obtain additional data - features or samples\n",
    "* Enhance data preprocessing steps\n",
    "* Refine feature selection process - eliminate irrelevant features\n",
    "2. Improving Modeling:\n",
    "* Adjust hyperparameters to optimize algorithm performance\n",
    "* Utilize a different machine learning algorithm\n",
    "* Implement ensemble methods combining multiple algorithms for improved predictions."
   ]
  },
  {
   "cell_type": "markdown",
   "id": "96b83067",
   "metadata": {},
   "source": [
    "## Decision Tree Classifier"
   ]
  },
  {
   "cell_type": "code",
   "execution_count": 45,
   "id": "986bd728",
   "metadata": {},
   "outputs": [
    {
     "data": {
      "text/html": [
       "<div>\n",
       "<style scoped>\n",
       "    .dataframe tbody tr th:only-of-type {\n",
       "        vertical-align: middle;\n",
       "    }\n",
       "\n",
       "    .dataframe tbody tr th {\n",
       "        vertical-align: top;\n",
       "    }\n",
       "\n",
       "    .dataframe thead th {\n",
       "        text-align: right;\n",
       "    }\n",
       "</style>\n",
       "<table border=\"1\" class=\"dataframe\">\n",
       "  <thead>\n",
       "    <tr style=\"text-align: right;\">\n",
       "      <th></th>\n",
       "      <th>0</th>\n",
       "      <th>1</th>\n",
       "      <th>2</th>\n",
       "      <th>3</th>\n",
       "      <th>4</th>\n",
       "      <th>5</th>\n",
       "      <th>6</th>\n",
       "      <th>7</th>\n",
       "      <th>8</th>\n",
       "    </tr>\n",
       "  </thead>\n",
       "  <tbody>\n",
       "    <tr>\n",
       "      <th>0</th>\n",
       "      <td>0.0</td>\n",
       "      <td>0.0</td>\n",
       "      <td>1.0</td>\n",
       "      <td>0.0</td>\n",
       "      <td>265.1</td>\n",
       "      <td>197.4</td>\n",
       "      <td>244.7</td>\n",
       "      <td>10.0</td>\n",
       "      <td>1.0</td>\n",
       "    </tr>\n",
       "    <tr>\n",
       "      <th>1</th>\n",
       "      <td>0.0</td>\n",
       "      <td>0.0</td>\n",
       "      <td>1.0</td>\n",
       "      <td>0.0</td>\n",
       "      <td>161.6</td>\n",
       "      <td>195.5</td>\n",
       "      <td>254.4</td>\n",
       "      <td>13.7</td>\n",
       "      <td>1.0</td>\n",
       "    </tr>\n",
       "    <tr>\n",
       "      <th>2</th>\n",
       "      <td>0.0</td>\n",
       "      <td>1.0</td>\n",
       "      <td>0.0</td>\n",
       "      <td>0.0</td>\n",
       "      <td>243.4</td>\n",
       "      <td>121.2</td>\n",
       "      <td>162.6</td>\n",
       "      <td>12.2</td>\n",
       "      <td>0.0</td>\n",
       "    </tr>\n",
       "    <tr>\n",
       "      <th>3</th>\n",
       "      <td>0.0</td>\n",
       "      <td>1.0</td>\n",
       "      <td>0.0</td>\n",
       "      <td>1.0</td>\n",
       "      <td>299.4</td>\n",
       "      <td>61.9</td>\n",
       "      <td>196.9</td>\n",
       "      <td>6.6</td>\n",
       "      <td>2.0</td>\n",
       "    </tr>\n",
       "    <tr>\n",
       "      <th>4</th>\n",
       "      <td>0.0</td>\n",
       "      <td>1.0</td>\n",
       "      <td>0.0</td>\n",
       "      <td>1.0</td>\n",
       "      <td>166.7</td>\n",
       "      <td>148.3</td>\n",
       "      <td>186.9</td>\n",
       "      <td>10.1</td>\n",
       "      <td>3.0</td>\n",
       "    </tr>\n",
       "    <tr>\n",
       "      <th>...</th>\n",
       "      <td>...</td>\n",
       "      <td>...</td>\n",
       "      <td>...</td>\n",
       "      <td>...</td>\n",
       "      <td>...</td>\n",
       "      <td>...</td>\n",
       "      <td>...</td>\n",
       "      <td>...</td>\n",
       "      <td>...</td>\n",
       "    </tr>\n",
       "    <tr>\n",
       "      <th>3328</th>\n",
       "      <td>0.0</td>\n",
       "      <td>0.0</td>\n",
       "      <td>1.0</td>\n",
       "      <td>0.0</td>\n",
       "      <td>156.2</td>\n",
       "      <td>215.5</td>\n",
       "      <td>279.1</td>\n",
       "      <td>9.9</td>\n",
       "      <td>2.0</td>\n",
       "    </tr>\n",
       "    <tr>\n",
       "      <th>3329</th>\n",
       "      <td>0.0</td>\n",
       "      <td>1.0</td>\n",
       "      <td>0.0</td>\n",
       "      <td>0.0</td>\n",
       "      <td>231.1</td>\n",
       "      <td>153.4</td>\n",
       "      <td>191.3</td>\n",
       "      <td>9.6</td>\n",
       "      <td>3.0</td>\n",
       "    </tr>\n",
       "    <tr>\n",
       "      <th>3330</th>\n",
       "      <td>0.0</td>\n",
       "      <td>1.0</td>\n",
       "      <td>0.0</td>\n",
       "      <td>0.0</td>\n",
       "      <td>180.8</td>\n",
       "      <td>288.8</td>\n",
       "      <td>191.9</td>\n",
       "      <td>14.1</td>\n",
       "      <td>2.0</td>\n",
       "    </tr>\n",
       "    <tr>\n",
       "      <th>3331</th>\n",
       "      <td>0.0</td>\n",
       "      <td>1.0</td>\n",
       "      <td>0.0</td>\n",
       "      <td>1.0</td>\n",
       "      <td>213.8</td>\n",
       "      <td>159.6</td>\n",
       "      <td>139.2</td>\n",
       "      <td>5.0</td>\n",
       "      <td>2.0</td>\n",
       "    </tr>\n",
       "    <tr>\n",
       "      <th>3332</th>\n",
       "      <td>0.0</td>\n",
       "      <td>0.0</td>\n",
       "      <td>1.0</td>\n",
       "      <td>0.0</td>\n",
       "      <td>234.4</td>\n",
       "      <td>265.9</td>\n",
       "      <td>241.4</td>\n",
       "      <td>13.7</td>\n",
       "      <td>0.0</td>\n",
       "    </tr>\n",
       "  </tbody>\n",
       "</table>\n",
       "<p>3333 rows × 9 columns</p>\n",
       "</div>"
      ],
      "text/plain": [
       "        0    1    2    3      4      5      6     7    8\n",
       "0     0.0  0.0  1.0  0.0  265.1  197.4  244.7  10.0  1.0\n",
       "1     0.0  0.0  1.0  0.0  161.6  195.5  254.4  13.7  1.0\n",
       "2     0.0  1.0  0.0  0.0  243.4  121.2  162.6  12.2  0.0\n",
       "3     0.0  1.0  0.0  1.0  299.4   61.9  196.9   6.6  2.0\n",
       "4     0.0  1.0  0.0  1.0  166.7  148.3  186.9  10.1  3.0\n",
       "...   ...  ...  ...  ...    ...    ...    ...   ...  ...\n",
       "3328  0.0  0.0  1.0  0.0  156.2  215.5  279.1   9.9  2.0\n",
       "3329  0.0  1.0  0.0  0.0  231.1  153.4  191.3   9.6  3.0\n",
       "3330  0.0  1.0  0.0  0.0  180.8  288.8  191.9  14.1  2.0\n",
       "3331  0.0  1.0  0.0  1.0  213.8  159.6  139.2   5.0  2.0\n",
       "3332  0.0  0.0  1.0  0.0  234.4  265.9  241.4  13.7  0.0\n",
       "\n",
       "[3333 rows x 9 columns]"
      ]
     },
     "execution_count": 45,
     "metadata": {},
     "output_type": "execute_result"
    }
   ],
   "source": [
    "# preprocessing pipeline\n",
    "from sklearn.compose import ColumnTransformer\n",
    "from sklearn.preprocessing import OneHotEncoder,OrdinalEncoder,StandardScaler\n",
    "preprocessor = ColumnTransformer([('ohe',OneHotEncoder(),[1]),\n",
    "                                ('ode',OrdinalEncoder(),[0])],\n",
    "                                remainder=\"passthrough\")\n",
    "x_new = preprocessor.fit_transform(x)\n",
    "pd.DataFrame(x_new)"
   ]
  },
  {
   "cell_type": "markdown",
   "id": "c5ea2e80",
   "metadata": {},
   "source": [
    "# train test split\n",
    "xtrain, xtest, ytrain, ytest = train_test_split(x_new, y, test_size=0.2, random_state=5)\n",
    "# don't need to do train test split again\n",
    "# Print shapes of data\n",
    "print(\"x shape:\", x.shape)\n",
    "print(\"xtrain shape:\", xtrain.shape)\n",
    "print(\"xtest shape:\", xtest.shape)\n",
    "print(\"y shape:\", y.shape)\n",
    "print(\"ytrain shape:\", ytrain.shape)\n",
    "print(\"ytest shape:\", ytest.shape)"
   ]
  },
  {
   "cell_type": "code",
   "execution_count": 47,
   "id": "d45bf19f",
   "metadata": {},
   "outputs": [
    {
     "data": {
      "text/plain": [
       "DecisionTreeClassifier(class_weight={0: 0.5, 1: 0.5}, random_state=5)"
      ]
     },
     "execution_count": 47,
     "metadata": {},
     "output_type": "execute_result"
    }
   ],
   "source": [
    "# decision tree\n",
    "from sklearn.tree import DecisionTreeClassifier\n",
    "model2 = DecisionTreeClassifier(random_state=5,class_weight={0:0.5,1:0.5})\n",
    "model2.fit(xtrain,ytrain)"
   ]
  },
  {
   "cell_type": "markdown",
   "id": "121522ee",
   "metadata": {},
   "source": [
    "### Visualizing the tree model"
   ]
  },
  {
   "cell_type": "code",
   "execution_count": 48,
   "id": "30befe46",
   "metadata": {
    "scrolled": false
   },
   "outputs": [
    {
     "data": {
      "image/png": "[encoded data removed]",
      "text/plain": [
       "<Figure size 1440x720 with 1 Axes>"
      ]
     },
     "metadata": {},
     "output_type": "display_data"
    }
   ],
   "source": [
    "import matplotlib.pyplot as plt\n",
    "from sklearn import tree\n",
    "\n",
    "fname = ['International plan', 'vmail_NO_Plan','vmail_Normal','vmail_HF', 'Total day minutes',\n",
    "       'Total eve minutes', 'Total night minutes', 'Total intl minutes',\n",
    "       'Customer service calls']\n",
    "cname = ['Not Leaving','Leaving']\n",
    "\n",
    "plt.figure(figsize=(20,10))\n",
    "tree.plot_tree(model2, feature_names=fname, class_names=cname, filled=True)\n",
    "plt.show()"
   ]
  },
  {
   "cell_type": "code",
   "execution_count": 49,
   "id": "d4a47db2",
   "metadata": {},
   "outputs": [
    {
     "name": "stdout",
     "output_type": "stream",
     "text": [
      "Accuracy :  0.8995502248875562\n",
      "Recall :  0.7391304347826086\n",
      "F1 score :  0.6699507389162561\n",
      "Precision :  0.6126126126126126\n"
     ]
    }
   ],
   "source": [
    "# performance analysis\n",
    "ypred2 = model2.predict(xtest)\n",
    "print(\"Accuracy : \",metrics.accuracy_score(ytest,ypred2))\n",
    "print(\"Recall : \",metrics.recall_score(ytest,ypred2))\n",
    "print(\"F1 score : \",metrics.f1_score(ytest,ypred2))\n",
    "print(\"Precision : \",metrics.precision_score(ytest,ypred2))"
   ]
  },
  {
   "cell_type": "markdown",
   "id": "b6f21733",
   "metadata": {},
   "source": [
    "Accuracy: It measures the ratio of correct predictions to the total number of predictions made. A score of 0.89 means 73% of the predictions made were correct.\n",
    "\n",
    "Recall: It measures the number of actual positive cases that were correctly predicted as positive. A score of 0.739 means 73.9% of the actual positive cases were correctly predicted.\n",
    "\n",
    "F1 score: It is the harmonic mean of precision and recall. It balances both precision and recall. A score of 0.669 means the balance between precision and recall was 66.9%.\n",
    "\n",
    "Precision: It measures the number of positive predictions that were actually correct. A score of 0.612 means 61.2% of the positive predictions were actually correct."
   ]
  },
  {
   "cell_type": "code",
   "execution_count": 50,
   "id": "e2d5274f",
   "metadata": {
    "scrolled": true
   },
   "outputs": [
    {
     "name": "stdout",
     "output_type": "stream",
     "text": [
      "Accuracy :  1.0\n",
      "Recall :  1.0\n",
      "F1 score :  1.0\n",
      "Precision :  1.0\n"
     ]
    }
   ],
   "source": [
    "\n",
    "# performance analysis on train data\n",
    "ypred2 = model2.predict(xtrain)\n",
    "print(\"Accuracy : \",metrics.accuracy_score(ytrain,ypred2))\n",
    "print(\"Recall : \",metrics.recall_score(ytrain,ypred2))\n",
    "print(\"F1 score : \",metrics.f1_score(ytrain,ypred2))\n",
    "print(\"Precision : \",metrics.precision_score(ytrain,ypred2))"
   ]
  },
  {
   "cell_type": "markdown",
   "id": "de5b5d08",
   "metadata": {},
   "source": [
    "Accuracy: It measures the ratio of correct predictions to the total number of predictions made. A score of 1 means 100% of the predictions made were correct.\n",
    "\n",
    "Recall: It measures the number of actual positive cases that were correctly predicted as positive. A score of 1 means 100% of the actual positive cases were correctly predicted.\n",
    "\n",
    "F1 score: It is the harmonic mean of precision and recall. It balances both precision and recall. A score of 1 means the balance between precision and recall was 100%.\n",
    "\n",
    "Precision: It measures the number of positive predictions that were actually correct. A score of 1 means 100% of the positive predictions were actually correct."
   ]
  },
  {
   "cell_type": "markdown",
   "id": "352a8047",
   "metadata": {},
   "source": [
    "## Overfitting\n",
    "Test data performance: low\n",
    "\n",
    "Train data performance: high\n",
    "\n",
    "Causes of Overfitting\n",
    "\n",
    "Complex model that is too specific to the training data\n",
    "Too many features or not enough data to support the complexity of the model\n",
    "Using features that are not relevant to the target\n",
    "Solutions for Overfitting\n",
    "\n",
    "Reduce the complexity of the model\n",
    "Use regularization techniques like L1 or L2 regularization\n",
    "Use early stopping to stop training when performance on validation set starts to decrease\n",
    "Use cross-validation to get a better estimate of model performance\n",
    "Remove irrelevant features from the data set\n",
    "Increase the size of the training data set."
   ]
  },
  {
   "cell_type": "markdown",
   "id": "cc6600ab",
   "metadata": {},
   "source": [
    "## Underfitting\n",
    "`performance of model on test data = low`\n",
    "\n",
    "`performance of model on train data = low`\n",
    "\n",
    "\n",
    "**Reasons for underfitting**\n",
    "- lack of informative features\n",
    "- lack of a powerful algorithm, as the existing features may have silghtly complex/nonlinear relation with the target and the current algorithm is not able to learn\n",
    "- presence of noisy observations\n",
    "\n",
    "\n",
    "**Ways to handle underfitting situation**\n",
    "- colllect/ create more features, perform feature extraction\n",
    "- collect more columns, NO BENFIT from collecting rows\n",
    "- Try a more powerful/complex predictive algorithm\n",
    "- In case of deicision tree, increase the value of max_depth, decrease the value of min_samples_leaf and min_samples_split\n",
    "- perform better data cleaning, handling outliers etc."
   ]
  },
  {
   "cell_type": "markdown",
   "id": "d15a3b2d",
   "metadata": {},
   "source": [
    "## Optimal Model\n",
    "Test Data Performance = High\n",
    "\n",
    "Train Data Performance = High"
   ]
  },
  {
   "cell_type": "markdown",
   "id": "a5d5bb16",
   "metadata": {},
   "source": [
    "## Hyperparameter Tuning for decision tree using Gridsearch"
   ]
  },
  {
   "cell_type": "code",
   "execution_count": 51,
   "id": "238521b6",
   "metadata": {},
   "outputs": [
    {
     "name": "stdout",
     "output_type": "stream",
     "text": [
      "Fitting 5 folds for each of 5808 candidates, totalling 29040 fits\n"
     ]
    },
    {
     "data": {
      "text/plain": [
       "GridSearchCV(cv=5, estimator=DecisionTreeClassifier(random_state=5), n_jobs=-1,\n",
       "             param_grid={'max_depth': array([ 3,  5,  7,  9, 11, 13, 15, 17, 19, 21, 23]),\n",
       "                         'min_samples_leaf': array([ 3,  5,  7,  9, 11, 13, 15, 17, 19, 21, 23, 25, 27, 29, 31, 33, 35,\n",
       "       37, 39, 41, 43, 45, 47, 49]),\n",
       "                         'min_samples_split': array([ 10,  15,  20,  25,  30,  35,  40,  45,  50,  55,  60,  65,  70,\n",
       "        75,  80,  85,  90,  95, 100, 105, 110, 115])},\n",
       "             scoring='recall', verbose=True)"
      ]
     },
     "execution_count": 51,
     "metadata": {},
     "output_type": "execute_result"
    }
   ],
   "source": [
    "param_grid = {\"max_depth\":np.arange(3,25,2),\n",
    "              \"min_samples_leaf\":np.arange(3,50,2),\n",
    "              \"min_samples_split\":np.arange(10,120,5)}\n",
    "from sklearn.model_selection import GridSearchCV\n",
    "grid_search = GridSearchCV(DecisionTreeClassifier(random_state=5),\n",
    "                          param_grid=param_grid,n_jobs=-1,\n",
    "                          scoring='recall',verbose=True,cv=5)\n",
    "grid_search.fit(x_new,y)"
   ]
  },
  {
   "cell_type": "code",
   "execution_count": 52,
   "id": "de47c969",
   "metadata": {},
   "outputs": [
    {
     "name": "stdout",
     "output_type": "stream",
     "text": [
      "0.6708762886597939\n",
      "{'max_depth': 15, 'min_samples_leaf': 3, 'min_samples_split': 10}\n"
     ]
    }
   ],
   "source": [
    "print(grid_search.best_score_)\n",
    "print(grid_search.best_params_)"
   ]
  },
  {
   "cell_type": "code",
   "execution_count": 53,
   "id": "8049a051",
   "metadata": {},
   "outputs": [
    {
     "data": {
      "text/plain": [
       "DecisionTreeClassifier(max_depth=8, min_samples_leaf=5, min_samples_split=20,\n",
       "                       random_state=5)"
      ]
     },
     "execution_count": 53,
     "metadata": {},
     "output_type": "execute_result"
    }
   ],
   "source": [
    "# Controlling overfitting\n",
    "model2 = DecisionTreeClassifier(criterion='gini',random_state=5,\n",
    "                               max_depth=8,min_samples_leaf=5,min_samples_split=20)\n",
    "model2.fit(xtrain,ytrain)\n"
   ]
  },
  {
   "cell_type": "code",
   "execution_count": 54,
   "id": "be57cfc9",
   "metadata": {
    "scrolled": true
   },
   "outputs": [
    {
     "name": "stdout",
     "output_type": "stream",
     "text": [
      "Accuracy :  0.9430284857571214\n",
      "Recall :  0.7065217391304348\n",
      "F1 score :  0.7738095238095237\n",
      "Precision :  0.8552631578947368\n"
     ]
    }
   ],
   "source": [
    "# performance analysis On test data\n",
    "ypred2 = model2.predict(xtest)\n",
    "print(\"Accuracy : \",metrics.accuracy_score(ytest,ypred2))\n",
    "print(\"Recall : \",metrics.recall_score(ytest,ypred2))\n",
    "print(\"F1 score : \",metrics.f1_score(ytest,ypred2))\n",
    "print(\"Precision : \",metrics.precision_score(ytest,ypred2))"
   ]
  },
  {
   "cell_type": "markdown",
   "id": "7eac49be",
   "metadata": {},
   "source": [
    "Accuracy: It measures the ratio of correct predictions to the total number of predictions made. A score of 0.943 means 94.3% of the predictions made were correct.\n",
    "\n",
    "Recall: It measures the number of actual positive cases that were correctly predicted as positive. A score of 0.70 means 70% of the actual positive cases were correctly predicted.\n",
    "\n",
    "F1 score: It is the harmonic mean of precision and recall. It balances both precision and recall. A score of 0.77 means the balance between precision and recall was 77%.\n",
    "\n",
    "Precision: It measures the number of positive predictions that were actually correct. A score of 0.85 means 85% of the positive predictions were actually correct."
   ]
  },
  {
   "cell_type": "code",
   "execution_count": 55,
   "id": "333d74d0",
   "metadata": {
    "scrolled": true
   },
   "outputs": [
    {
     "name": "stdout",
     "output_type": "stream",
     "text": [
      "Accuracy :  0.9471117779444861\n",
      "Recall :  0.6956521739130435\n",
      "F1 score :  0.7941605839416058\n",
      "Precision :  0.9251700680272109\n"
     ]
    }
   ],
   "source": [
    "# performance analysis on train data\n",
    "ypred2 = model2.predict(xtrain)\n",
    "print(\"Accuracy : \",metrics.accuracy_score(ytrain,ypred2))\n",
    "print(\"Recall : \",metrics.recall_score(ytrain,ypred2))\n",
    "print(\"F1 score : \",metrics.f1_score(ytrain,ypred2))\n",
    "print(\"Precision : \",metrics.precision_score(ytrain,ypred2))"
   ]
  },
  {
   "cell_type": "markdown",
   "id": "b070d215",
   "metadata": {},
   "source": [
    "Accuracy: It measures the ratio of correct predictions to the total number of predictions made. A score of 0.947 means 94.7% of the predictions made were correct.\n",
    "\n",
    "Recall: It measures the number of actual positive cases that were correctly predicted as positive. A score of 0.695 means 69.5% of the actual positive cases were correctly predicted.\n",
    "\n",
    "F1 score: It is the harmonic mean of precision and recall. It balances both precision and recall. A score of 0.794 means the balance between precision and recall was 79.4%.\n",
    "\n",
    "Precision: It measures the number of positive predictions that were actually correct. A score of 0.925 means 92.5% of the positive predictions were actually correct."
   ]
  },
  {
   "cell_type": "markdown",
   "id": "2e98dc1a",
   "metadata": {},
   "source": [
    "### Feature importances"
   ]
  },
  {
   "cell_type": "code",
   "execution_count": 56,
   "id": "edb38d5c",
   "metadata": {},
   "outputs": [
    {
     "name": "stdout",
     "output_type": "stream",
     "text": [
      "International plan 0.0\n",
      "vmail_NO_Plan 0.07957197040961295\n",
      "vmail_Normal 0.0\n",
      "vmail_HF 0.1034922637532645\n",
      "Total day minutes 0.35860654052548413\n",
      "Total eve minutes 0.1721940195076953\n",
      "Total night minutes 0.04746707503384585\n",
      "Total intl minutes 0.08934222663734767\n",
      "Customer service calls 0.1493259041327496\n"
     ]
    }
   ],
   "source": [
    "model2.feature_importances_\n",
    "for i in range(len(fname)):print(fname[i],model2.feature_importances_[i])"
   ]
  },
  {
   "cell_type": "markdown",
   "id": "4babfeff",
   "metadata": {},
   "source": [
    "## Random Forest"
   ]
  },
  {
   "cell_type": "code",
   "execution_count": 57,
   "id": "f747be91",
   "metadata": {},
   "outputs": [
    {
     "data": {
      "text/plain": [
       "RandomForestClassifier(max_depth=8, oob_score=True, random_state=5)"
      ]
     },
     "execution_count": 57,
     "metadata": {},
     "output_type": "execute_result"
    }
   ],
   "source": [
    "import random\n",
    "from sklearn.ensemble import RandomForestClassifier\n",
    "\n",
    "random_state = 5\n",
    "n_estimators = 100\n",
    "max_depth = 8\n",
    "oob_score = True\n",
    "\n",
    "model4 = RandomForestClassifier(n_estimators=n_estimators, random_state=random_state,\n",
    "                                max_depth=max_depth, oob_score=oob_score)\n",
    "\n",
    "model4.fit(xtrain, ytrain)"
   ]
  },
  {
   "cell_type": "code",
   "execution_count": 58,
   "id": "02549722",
   "metadata": {
    "scrolled": true
   },
   "outputs": [
    {
     "name": "stdout",
     "output_type": "stream",
     "text": [
      "Accuracy :  0.9445277361319341\n",
      "Recall :  0.6521739130434783\n",
      "F1 score :  0.7643312101910829\n",
      "Precision :  0.9230769230769231\n"
     ]
    }
   ],
   "source": [
    "# performance analysis On test data\n",
    "ypred2 = model4.predict(xtest)\n",
    "print(\"Accuracy : \",metrics.accuracy_score(ytest,ypred2))\n",
    "print(\"Recall : \",metrics.recall_score(ytest,ypred2))\n",
    "print(\"F1 score : \",metrics.f1_score(ytest,ypred2))\n",
    "print(\"Precision : \",metrics.precision_score(ytest,ypred2))"
   ]
  },
  {
   "cell_type": "markdown",
   "id": "7445cd16",
   "metadata": {},
   "source": [
    "Accuracy: It measures the ratio of correct predictions to the total number of predictions made. A score of 0.944 means 94.4% of the predictions made were correct.\n",
    "\n",
    "Recall: It measures the number of actual positive cases that were correctly predicted as positive. A score of 0.652 means 76.4% of the actual positive cases were correctly predicted.\n",
    "\n",
    "F1 score: It is the harmonic mean of precision and recall. It balances both precision and recall. A score of 0.764 means the balance between precision and recall was 76.4%.\n",
    "\n",
    "Precision: It measures the number of positive predictions that were actually correct. A score of 0.923 means 92.3% of the positive predictions were actually correct."
   ]
  },
  {
   "cell_type": "code",
   "execution_count": 59,
   "id": "de807146",
   "metadata": {
    "scrolled": true
   },
   "outputs": [
    {
     "name": "stdout",
     "output_type": "stream",
     "text": [
      "Accuracy :  0.959489872468117\n",
      "Recall :  0.7237851662404092\n",
      "F1 score :  0.8397626112759643\n",
      "Precision :  1.0\n"
     ]
    }
   ],
   "source": [
    "# performance analysis on train data\n",
    "ypred2 = model4.predict(xtrain)\n",
    "print(\"Accuracy : \",metrics.accuracy_score(ytrain,ypred2))\n",
    "print(\"Recall : \",metrics.recall_score(ytrain,ypred2))\n",
    "print(\"F1 score : \",metrics.f1_score(ytrain,ypred2))\n",
    "print(\"Precision : \",metrics.precision_score(ytrain,ypred2))"
   ]
  },
  {
   "cell_type": "markdown",
   "id": "572154fc",
   "metadata": {},
   "source": [
    "Accuracy: It measures the ratio of correct predictions to the total number of predictions made. A score of 0.959 means 95.9% of the predictions made were correct.\n",
    "\n",
    "Recall: It measures the number of actual positive cases that were correctly predicted as positive. A score of 0.723 means 72.3% of the actual positive cases were correctly predicted.\n",
    "\n",
    "F1 score: It is the harmonic mean of precision and recall. It balances both precision and recall. A score of 0.84 means the balance between precision and recall was 84%.\n",
    "\n",
    "Precision: It measures the number of positive predictions that were actually correct. A score of 1 means 100% of the positive predictions were actually correct."
   ]
  },
  {
   "cell_type": "code",
   "execution_count": 60,
   "id": "0ef1f5cc",
   "metadata": {},
   "outputs": [
    {
     "data": {
      "text/plain": [
       "0.9358589647411854"
      ]
     },
     "execution_count": 60,
     "metadata": {},
     "output_type": "execute_result"
    }
   ],
   "source": [
    "#check OOB (out of bag) score\n",
    "model4.oob_score_"
   ]
  },
  {
   "cell_type": "markdown",
   "id": "a739e968",
   "metadata": {},
   "source": [
    "## Adaboost"
   ]
  },
  {
   "cell_type": "code",
   "execution_count": 61,
   "id": "37fda2d6",
   "metadata": {},
   "outputs": [
    {
     "data": {
      "text/plain": [
       "AdaBoostClassifier(learning_rate=0.2, n_estimators=120, random_state=5)"
      ]
     },
     "execution_count": 61,
     "metadata": {},
     "output_type": "execute_result"
    }
   ],
   "source": [
    "from sklearn.ensemble import AdaBoostClassifier\n",
    "model5 = AdaBoostClassifier(n_estimators=120,random_state=5,learning_rate=0.2)\n",
    "model5.fit(xtrain,ytrain)"
   ]
  },
  {
   "cell_type": "code",
   "execution_count": 62,
   "id": "d155800e",
   "metadata": {},
   "outputs": [
    {
     "name": "stdout",
     "output_type": "stream",
     "text": [
      "Accuracy :  0.8830584707646177\n",
      "Recall :  0.32608695652173914\n",
      "F1 score :  0.43478260869565216\n",
      "Precision :  0.6521739130434783\n"
     ]
    }
   ],
   "source": [
    "# performance analysis On test data\n",
    "ypred2 = model5.predict(xtest)\n",
    "print(\"Accuracy : \",metrics.accuracy_score(ytest,ypred2))\n",
    "print(\"Recall : \",metrics.recall_score(ytest,ypred2))\n",
    "print(\"F1 score : \",metrics.f1_score(ytest,ypred2))\n",
    "print(\"Precision : \",metrics.precision_score(ytest,ypred2))"
   ]
  },
  {
   "cell_type": "markdown",
   "id": "09eefddd",
   "metadata": {},
   "source": [
    "Accuracy: It measures the ratio of correct predictions to the total number of predictions made. A score of 0.883 means 88.3% of the predictions made were correct.\n",
    "\n",
    "Recall: It measures the number of actual positive cases that were correctly predicted as positive. A score of 0.326 means 32.6% of the actual positive cases were correctly predicted.\n",
    "\n",
    "F1 score: It is the harmonic mean of precision and recall. It balances both precision and recall. A score of 0.434 means the balance between precision and recall was 43.4%.\n",
    "\n",
    "Precision: It measures the number of positive predictions that were actually correct. A score of 0.652 means 65.2% of the positive predictions were actually correct."
   ]
  },
  {
   "cell_type": "code",
   "execution_count": 63,
   "id": "cd0168dd",
   "metadata": {
    "scrolled": true
   },
   "outputs": [
    {
     "name": "stdout",
     "output_type": "stream",
     "text": [
      "Accuracy :  0.8788447111777945\n",
      "Recall :  0.3350383631713555\n",
      "F1 score :  0.4478632478632479\n",
      "Precision :  0.6752577319587629\n"
     ]
    }
   ],
   "source": [
    "# performance analysis on train data\n",
    "ypred2 = model5.predict(xtrain)\n",
    "print(\"Accuracy : \",metrics.accuracy_score(ytrain,ypred2))\n",
    "print(\"Recall : \",metrics.recall_score(ytrain,ypred2))\n",
    "print(\"F1 score : \",metrics.f1_score(ytrain,ypred2))\n",
    "print(\"Precision : \",metrics.precision_score(ytrain,ypred2))"
   ]
  },
  {
   "cell_type": "markdown",
   "id": "3d101e5d",
   "metadata": {},
   "source": [
    "Accuracy: It measures the ratio of correct predictions to the total number of predictions made. A score of 0.878 means 87.8% of the predictions made were correct.\n",
    "\n",
    "Recall: It measures the number of actual positive cases that were correctly predicted as positive. A score of 0.335 means 33.5% of the actual positive cases were correctly predicted.\n",
    "\n",
    "F1 score: It is the harmonic mean of precision and recall. It balances both precision and recall. A score of 0.447 means the balance between precision and recall was 44.7%.\n",
    "\n",
    "Precision: It measures the number of positive predictions that were actually correct. A score of 0.675 means 67.5% of the positive predictions were actually correct."
   ]
  },
  {
   "cell_type": "markdown",
   "id": "bbd2c42f",
   "metadata": {},
   "source": [
    "## Gradient Boosting Trees"
   ]
  },
  {
   "cell_type": "code",
   "execution_count": 64,
   "id": "f8098e14",
   "metadata": {},
   "outputs": [
    {
     "data": {
      "text/plain": [
       "GradientBoostingClassifier(n_estimators=150, random_state=5)"
      ]
     },
     "execution_count": 64,
     "metadata": {},
     "output_type": "execute_result"
    }
   ],
   "source": [
    "# Gradient Boosting\n",
    "from sklearn.ensemble import GradientBoostingClassifier\n",
    "model6 = GradientBoostingClassifier(learning_rate=0.1,n_estimators=150,random_state=5)\n",
    "model6.fit(xtrain,ytrain)"
   ]
  },
  {
   "cell_type": "code",
   "execution_count": 65,
   "id": "6a4412f0",
   "metadata": {},
   "outputs": [
    {
     "name": "stdout",
     "output_type": "stream",
     "text": [
      "Accuracy :  0.9415292353823088\n",
      "Recall :  0.6630434782608695\n",
      "F1 score :  0.7577639751552795\n",
      "Precision :  0.8840579710144928\n"
     ]
    }
   ],
   "source": [
    "# performance analysis On test data\n",
    "ypred2 = model6.predict(xtest)\n",
    "print(\"Accuracy : \",metrics.accuracy_score(ytest,ypred2))\n",
    "print(\"Recall : \",metrics.recall_score(ytest,ypred2))\n",
    "print(\"F1 score : \",metrics.f1_score(ytest,ypred2))\n",
    "print(\"Precision : \",metrics.precision_score(ytest,ypred2))"
   ]
  },
  {
   "cell_type": "markdown",
   "id": "093376f5",
   "metadata": {},
   "source": [
    "Accuracy: It measures the ratio of correct predictions to the total number of predictions made. A score of 0.94 means 94% of the predictions made were correct.\n",
    "\n",
    "Recall: It measures the number of actual positive cases that were correctly predicted as positive. A score of 0.663 means 66.3% of the actual positive cases were correctly predicted.\n",
    "\n",
    "F1 score: It is the harmonic mean of precision and recall. It balances both precision and recall. A score of 0.757 means the balance between precision and recall was 75.7%.\n",
    "\n",
    "Precision: It measures the number of positive predictions that were actually correct. A score of 0.884 means 88.4% of the positive predictions were actually correct."
   ]
  },
  {
   "cell_type": "code",
   "execution_count": 66,
   "id": "14b160b9",
   "metadata": {},
   "outputs": [
    {
     "name": "stdout",
     "output_type": "stream",
     "text": [
      "Accuracy :  0.9643660915228808\n",
      "Recall :  0.7621483375959079\n",
      "F1 score :  0.8625180897250362\n",
      "Precision :  0.9933333333333333\n"
     ]
    }
   ],
   "source": [
    "# performance analysis on train data\n",
    "ypred2 = model6.predict(xtrain)\n",
    "print(\"Accuracy : \",metrics.accuracy_score(ytrain,ypred2))\n",
    "print(\"Recall : \",metrics.recall_score(ytrain,ypred2))\n",
    "print(\"F1 score : \",metrics.f1_score(ytrain,ypred2))\n",
    "print(\"Precision : \",metrics.precision_score(ytrain,ypred2))\n"
   ]
  },
  {
   "cell_type": "markdown",
   "id": "540114ce",
   "metadata": {},
   "source": [
    "Accuracy: It measures the ratio of correct predictions to the total number of predictions made. A score of 0.964 means 96.4% of the predictions made were correct.\n",
    "\n",
    "Recall: It measures the number of actual positive cases that were correctly predicted as positive. A score of 0.762 means 76.2% of the actual positive cases were correctly predicted.\n",
    "\n",
    "F1 score: It is the harmonic mean of precision and recall. It balances both precision and recall. A score of 0.86 means the balance between precision and recall was 86%.\n",
    "\n",
    "Precision: It measures the number of positive predictions that were actually correct. A score of 0.99 means 99% of the positive predictions were actually correct."
   ]
  },
  {
   "cell_type": "markdown",
   "id": "3ade670c",
   "metadata": {},
   "source": [
    "## XGBosst"
   ]
  },
  {
   "cell_type": "code",
   "execution_count": 67,
   "id": "a6b84b2f",
   "metadata": {},
   "outputs": [
    {
     "data": {
      "text/plain": [
       "XGBClassifier(base_score=None, booster=None, callbacks=None,\n",
       "              colsample_bylevel=None, colsample_bynode=None,\n",
       "              colsample_bytree=None, early_stopping_rounds=None,\n",
       "              enable_categorical=False, eval_metric=None, feature_types=None,\n",
       "              gamma=None, gpu_id=None, grow_policy=None, importance_type=None,\n",
       "              interaction_constraints=None, learning_rate=0.005, max_bin=None,\n",
       "              max_cat_threshold=None, max_cat_to_onehot=None,\n",
       "              max_delta_step=None, max_depth=8, max_leaves=None,\n",
       "              min_child_weight=None, missing=nan, monotone_constraints=None,\n",
       "              n_estimators=120, n_jobs=None, num_parallel_tree=None,\n",
       "              predictor=None, random_state=None, ...)"
      ]
     },
     "execution_count": 67,
     "metadata": {},
     "output_type": "execute_result"
    }
   ],
   "source": [
    "from xgboost import XGBClassifier\n",
    "model7 = XGBClassifier(learning_rate=0.005,n_estimators=120,max_depth=8)\n",
    "model7.fit(xtrain,ytrain)"
   ]
  },
  {
   "cell_type": "code",
   "execution_count": 68,
   "id": "9cd4da50",
   "metadata": {},
   "outputs": [
    {
     "name": "stdout",
     "output_type": "stream",
     "text": [
      "Accuracy :  0.9445277361319341\n",
      "Recall :  0.7065217391304348\n",
      "F1 score :  0.7784431137724551\n",
      "Precision :  0.8666666666666667\n"
     ]
    }
   ],
   "source": [
    "# performance analysis On test data\n",
    "ypred2 = model7.predict(xtest)\n",
    "print(\"Accuracy : \",metrics.accuracy_score(ytest,ypred2))\n",
    "print(\"Recall : \",metrics.recall_score(ytest,ypred2))\n",
    "print(\"F1 score : \",metrics.f1_score(ytest,ypred2))\n",
    "print(\"Precision : \",metrics.precision_score(ytest,ypred2))"
   ]
  },
  {
   "cell_type": "markdown",
   "id": "fa197569",
   "metadata": {},
   "source": [
    "Accuracy: It measures the ratio of correct predictions to the total number of predictions made. A score of 0.944 means 94.4% of the predictions made were correct.\n",
    "\n",
    "Recall: It measures the number of actual positive cases that were correctly predicted as positive. A score of 0.706 means 70.6% of the actual positive cases were correctly predicted.\n",
    "\n",
    "F1 score: It is the harmonic mean of precision and recall. It balances both precision and recall. A score of 0.778 means the balance between precision and recall was 77.8%.\n",
    "\n",
    "Precision: It measures the number of positive predictions that were actually correct. A score of 0.866 means 86.6% of the positive predictions were actually correct."
   ]
  },
  {
   "cell_type": "code",
   "execution_count": 69,
   "id": "7ddaa8e0",
   "metadata": {
    "scrolled": false
   },
   "outputs": [
    {
     "name": "stdout",
     "output_type": "stream",
     "text": [
      "Accuracy :  0.9591147786946737\n",
      "Recall :  0.7442455242966752\n",
      "F1 score :  0.8422575976845152\n",
      "Precision :  0.97\n"
     ]
    }
   ],
   "source": [
    "# performance analysis on train data\n",
    "ypred2 = model7.predict(xtrain)\n",
    "print(\"Accuracy : \",metrics.accuracy_score(ytrain,ypred2))\n",
    "print(\"Recall : \",metrics.recall_score(ytrain,ypred2))\n",
    "print(\"F1 score : \",metrics.f1_score(ytrain,ypred2))\n",
    "print(\"Precision : \",metrics.precision_score(ytrain,ypred2))"
   ]
  },
  {
   "cell_type": "markdown",
   "id": "25c47795",
   "metadata": {},
   "source": [
    "Accuracy: It measures the ratio of correct predictions to the total number of predictions made. A score of 0.959 means 95.9% of the predictions made were correct.\n",
    "\n",
    "Recall: It measures the number of actual positive cases that were correctly predicted as positive. A score of 0.744 means 74.4% of the actual positive cases were correctly predicted.\n",
    "\n",
    "F1 score: It is the harmonic mean of precision and recall. It balances both precision and recall. A score of 0.84 means the balance between precision and recall was 84%.\n",
    "\n",
    "Precision: It measures the number of positive predictions that were actually correct. A score of 0.97 means 97% of the positive predictions were actually correct."
   ]
  },
  {
   "cell_type": "code",
   "execution_count": null,
   "id": "1e646504",
   "metadata": {},
   "outputs": [],
   "source": []
  }
 ],
 "metadata": {
  "kernelspec": {
   "display_name": "Python 3 (ipykernel)",
   "language": "python",
   "name": "python3"
  },
  "language_info": {
   "codemirror_mode": {
    "name": "ipython",
    "version": 3
   },
   "file_extension": ".py",
   "mimetype": "text/x-python",
   "name": "python",
   "nbconvert_exporter": "python",
   "pygments_lexer": "ipython3",
   "version": "3.9.12"
  }
 },
 "nbformat": 4,
 "nbformat_minor": 5
}
